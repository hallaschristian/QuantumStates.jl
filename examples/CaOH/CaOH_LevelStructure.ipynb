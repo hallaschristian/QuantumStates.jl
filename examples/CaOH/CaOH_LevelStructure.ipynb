{
 "cells": [
  {
   "cell_type": "code",
   "execution_count": 1,
   "id": "eaf414ec-8a95-4249-ba61-95a2b44d5055",
   "metadata": {},
   "outputs": [],
   "source": [
    "using Revise"
   ]
  },
  {
   "cell_type": "code",
   "execution_count": 2,
   "id": "9e7a9274",
   "metadata": {
    "tags": []
   },
   "outputs": [
    {
     "name": "stderr",
     "output_type": "stream",
     "text": [
      "\u001b[36m\u001b[1m[ \u001b[22m\u001b[39m\u001b[36m\u001b[1mInfo: \u001b[22m\u001b[39mPrecompiling QuantumStates [17f0441f-15e0-42ae-a101-302633ff8f0f]\n"
     ]
    }
   ],
   "source": [
    "using QuantumStates\n",
    "using UnitsToValue\n",
    "using InfiniteArrays\n",
    "using HalfIntegers"
   ]
  },
  {
   "cell_type": "code",
   "execution_count": 3,
   "id": "47a2e71b-8e15-4d03-8b8e-f3df67e2571f",
   "metadata": {
    "tags": []
   },
   "outputs": [],
   "source": [
    "Base.@kwdef struct VibrationalState <: BasisState\n",
    "    E::Float64 = 0.0\n",
    "    v1::HalfInt\n",
    "    v2::HalfInt\n",
    "    v3::HalfInt\n",
    "    constraints = (\n",
    "        v1 = 0:∞,\n",
    "        v2 = 0:∞,\n",
    "        v3 = 0:∞\n",
    "        )\n",
    "end\n",
    ";"
   ]
  },
  {
   "cell_type": "code",
   "execution_count": 4,
   "id": "da87fc22-cc38-4645-9b43-3950a18f5618",
   "metadata": {
    "tags": []
   },
   "outputs": [],
   "source": [
    "function unpack(state::VibrationalState)\n",
    "    return state.v1, state.v2, state.v3\n",
    "end\n",
    "\n",
    "@inline function I(state::BasisState, state′::BasisState)\n",
    "    return δ(unpack(state), unpack(state′))\n",
    "end\n",
    "\n",
    "function v1(state::VibrationalState, state′::VibrationalState)\n",
    "    return I(state, state′) * state.v1\n",
    "end\n",
    "\n",
    "function v2(state::VibrationalState, state′::VibrationalState)\n",
    "    return I(state, state′) * state.v2\n",
    "end\n",
    "\n",
    "function v3(state::VibrationalState, state′::VibrationalState)\n",
    "    return I(state, state′) * state.v3\n",
    "end\n",
    ";"
   ]
  },
  {
   "cell_type": "code",
   "execution_count": null,
   "id": "0eadfc17-a614-421b-8ce0-c6e28cd8edb9",
   "metadata": {},
   "outputs": [],
   "source": [
    "@make_operator "
   ]
  },
  {
   "cell_type": "code",
   "execution_count": 6,
   "id": "5ea2dcca-7a1b-41cd-8e02-43580608c0cb",
   "metadata": {
    "tags": []
   },
   "outputs": [],
   "source": [
    "H_operator = :(\n",
    "    T * I +\n",
    "    ωe1 * v1 +\n",
    "    ωe2 * v2 +\n",
    "    ωe3 * v3\n",
    "    )\n",
    ";"
   ]
  },
  {
   "cell_type": "code",
   "execution_count": 27,
   "id": "7e7eea36-0784-4985-88f1-2dee04ce5b6f",
   "metadata": {
    "tags": []
   },
   "outputs": [],
   "source": [
    "QN_bounds = (v1 = 0:3, v2 = 0:3, v3 = 0)\n",
    "basis = enumerate_states(VibrationalState, QN_bounds)\n",
    ";"
   ]
  },
  {
   "cell_type": "code",
   "execution_count": 40,
   "id": "0e58ade2-5721-4053-a622-994bacb95e02",
   "metadata": {},
   "outputs": [
    {
     "data": {
      "text/plain": [
       ":($(Expr(:escape, 4)))"
      ]
     },
     "execution_count": 40,
     "metadata": {},
     "output_type": "execute_result"
    },
    {
     "name": "stderr",
     "output_type": "stream",
     "text": [
      "┌ Warning: G:\\My Drive\\github\\UnitsToValue\\src is not an existing directory, Revise is not watching\n",
      "└ @ Revise C:\\Users\\Christian\\.julia\\packages\\Revise\\Kw99o\\src\\packagedef.jl:574\n",
      "┌ Warning: G:\\My Drive\\github\\QuantumStates\\src is not an existing directory, Revise is not watching\n",
      "└ @ Revise C:\\Users\\Christian\\.julia\\packages\\Revise\\Kw99o\\src\\packagedef.jl:574\n"
     ]
    }
   ],
   "source": [
    "esc(4)"
   ]
  },
  {
   "cell_type": "code",
   "execution_count": 33,
   "id": "d6cebf34-65c0-488b-b09d-99df26b09f78",
   "metadata": {},
   "outputs": [
    {
     "ename": "LoadError",
     "evalue": "MethodError: objects of type Expr are not callable",
     "output_type": "error",
     "traceback": [
      "MethodError: objects of type Expr are not callable",
      "",
      "Stacktrace:",
      " [1] matrix_from_operator(basis::Vector{VibrationalState}, operator::Expr)",
      "   @ QuantumStates G:\\My Drive\\github\\QuantumStates\\src\\States.jl:607",
      " [2] unpack_operator(operator::Expr, basis::Vector{VibrationalState})",
      "   @ QuantumStates G:\\My Drive\\github\\QuantumStates\\src\\States.jl:594",
      " [3] top-level scope",
      "   @ In[33]:1"
     ]
    }
   ],
   "source": [
    "unpack_operator(H_operator, basis)"
   ]
  },
  {
   "cell_type": "code",
   "execution_count": 20,
   "id": "de69adc6-2e6e-494a-b52e-21a8469958a8",
   "metadata": {
    "tags": []
   },
   "outputs": [
    {
     "ename": "LoadError",
     "evalue": "UndefVarError: `ωe1` not defined",
     "output_type": "error",
     "traceback": [
      "UndefVarError: `ωe1` not defined",
      "",
      "Stacktrace:",
      " [1] top-level scope",
      "   @ none:1",
      " [2] eval",
      "   @ .\\boot.jl:370 [inlined]",
      " [3] unpack_operator(operator::Expr, basis::Vector{VibrationalState})",
      "   @ QuantumStates G:\\My Drive\\github\\QuantumStates\\src\\States.jl:594",
      " [4] top-level scope",
      "   @ In[20]:7"
     ]
    }
   ],
   "source": [
    "X_parameters = @params begin\n",
    "    T = 0.0\n",
    "    ωe1 = 609\n",
    "    ωe2 = 353\n",
    "    ωe3 = 3847\n",
    "end\n",
    "X_Hamiltonian = Hamiltonian(basis=basis, operator=H_operator, parameters=X_parameters)"
   ]
  },
  {
   "cell_type": "markdown",
   "id": "71328f86-7acb-47d1-b3af-668e05feeb57",
   "metadata": {},
   "source": [
    "### X state"
   ]
  },
  {
   "cell_type": "code",
   "execution_count": 7,
   "id": "bc850d4a-52d8-4b77-bfa1-a607be386a72",
   "metadata": {},
   "outputs": [],
   "source": [
    "X = state(0, 621, 352.93, 0);"
   ]
  },
  {
   "cell_type": "markdown",
   "id": "67bbc1d9-0235-4463-9d6d-d929a2c8301b",
   "metadata": {},
   "source": [
    "### A state"
   ]
  },
  {
   "cell_type": "code",
   "execution_count": 8,
   "id": "01c52f5f-7f36-426f-8091-e3aafcabe67e",
   "metadata": {},
   "outputs": [],
   "source": [
    "A = state(15997.78, 630.68, 361.36, 0);"
   ]
  },
  {
   "cell_type": "markdown",
   "id": "d8774878-74c9-41ec-b741-f93083464dfb",
   "metadata": {},
   "source": [
    "### B state"
   ]
  },
  {
   "cell_type": "code",
   "execution_count": 9,
   "id": "2476cf0d-6e51-40ca-aa5e-6b192eee8e8c",
   "metadata": {},
   "outputs": [],
   "source": [
    "B = state(18022.27, 600, 300, 0);"
   ]
  },
  {
   "cell_type": "code",
   "execution_count": 10,
   "id": "297b6039-f749-497b-98ab-034428a631fd",
   "metadata": {},
   "outputs": [],
   "source": [
    "C = state(21896, 528, 312, 0);"
   ]
  },
  {
   "cell_type": "code",
   "execution_count": 11,
   "id": "9fb35e64-e31f-403e-9108-4f5a4bbfa9e9",
   "metadata": {},
   "outputs": [],
   "source": [
    "D = state(28156.20, 674.0, 412, 0);"
   ]
  },
  {
   "cell_type": "code",
   "execution_count": 12,
   "id": "c327aa1c-f2cf-4782-a772-901f943e23fc",
   "metadata": {},
   "outputs": [],
   "source": [
    "E_ = state(29879, 600, 300, 0);"
   ]
  },
  {
   "cell_type": "markdown",
   "id": "fccb4262-b59f-4ad2-b328-2b1ae34de75c",
   "metadata": {},
   "source": [
    "### Create list of transition wavelengths"
   ]
  },
  {
   "cell_type": "code",
   "execution_count": 13,
   "id": "92906df2-5dec-4bb7-868b-0bdf080cb3a1",
   "metadata": {},
   "outputs": [],
   "source": [
    "A000_freq = 478.600015\n",
    "X0200_to_A000 = 457.954463\n",
    "X0200_freq = A000_freq - X0200_to_A000\n",
    "X0200_to_A100 = 476.582353\n",
    "X0220_to_A100 = 475.852270\n",
    "X0220_freq = X0200_freq + (X0200_to_A100 - X0220_to_A100)\n",
    ";"
   ]
  },
  {
   "cell_type": "code",
   "execution_count": 14,
   "id": "181a7a78-17e6-4de7-88d8-921fb86007ee",
   "metadata": {},
   "outputs": [],
   "source": [
    "struct transition\n",
    "    E::Float64\n",
    "    v1::Int\n",
    "    v2::Int\n",
    "    v1′::Int\n",
    "    v2′::Int\n",
    "end"
   ]
  },
  {
   "cell_type": "code",
   "execution_count": 15,
   "id": "3d5cb2d5-dd03-42b7-895c-2a6c4b6402d6",
   "metadata": {},
   "outputs": [],
   "source": [
    "transitions = []\n",
    "for v1′ ∈ 0:3, v2′ ∈ 0:3\n",
    "    transition_E = 1e7 ./ (E(D, v1′, v2′, 0) - 1e10 * X0200_freq / c)\n",
    "    push!(transitions, transition(transition_E, 0, 2, v1′, v2′))\n",
    "end"
   ]
  },
  {
   "cell_type": "code",
   "execution_count": 17,
   "id": "7d0be364-892b-4c9a-973a-63f764f24602",
   "metadata": {},
   "outputs": [
    {
     "data": {
      "text/plain": [
       "0.4106279121688702"
      ]
     },
     "execution_count": 17,
     "metadata": {},
     "output_type": "execute_result"
    }
   ],
   "source": [
    "1e-9 * c / (X0220_freq - X0200_freq)"
   ]
  },
  {
   "cell_type": "code",
   "execution_count": 26,
   "id": "e5a58c76-d6a4-4817-a64f-5f9d25312722",
   "metadata": {},
   "outputs": [
    {
     "data": {
      "text/plain": [
       "348.11680148860466"
      ]
     },
     "execution_count": 26,
     "metadata": {},
     "output_type": "execute_result"
    }
   ],
   "source": [
    "comb_wavelength = 1 / (1 / 630.0 + 1 / 778.030)"
   ]
  },
  {
   "cell_type": "code",
   "execution_count": 27,
   "id": "ea91f476-d63d-46c0-9d09-ec3be585b40b",
   "metadata": {},
   "outputs": [
    {
     "data": {
      "text/plain": [
       "9-element Vector{transition}:\n",
       " transition(353.4625731118179, 0, 2, 0, 2)\n",
       " transition(348.38910176759646, 0, 2, 0, 3)\n",
       " transition(355.3465989600422, 0, 2, 1, 0)\n",
       " transition(350.21929052832917, 0, 2, 1, 1)\n",
       " transition(345.23784170650663, 0, 2, 1, 2)\n",
       " transition(340.3961157490556, 0, 2, 1, 3)\n",
       " transition(347.0349858491749, 0, 2, 2, 0)\n",
       " transition(342.14307837268285, 0, 2, 2, 1)\n",
       " transition(339.1033059294837, 0, 2, 3, 0)"
      ]
     },
     "execution_count": 27,
     "metadata": {},
     "output_type": "execute_result"
    }
   ],
   "source": [
    "[transition for transition in transitions if abs(transition.E - comb_wavelength) < 10]"
   ]
  },
  {
   "cell_type": "code",
   "execution_count": 345,
   "id": "bb29ec5e-b1cc-4d31-a435-f8190375b46e",
   "metadata": {},
   "outputs": [],
   "source": [
    "I1 = 10 * 100\n",
    "Ω1 = (3e-30) * sqrt(2 * 377 * I1) / h\n",
    "Ω2 = 25e9\n",
    "det = 0.1 * 1e12\n",
    ";"
   ]
  },
  {
   "cell_type": "code",
   "execution_count": 346,
   "id": "a172b799-b504-4297-895c-eb25c97963aa",
   "metadata": {},
   "outputs": [
    {
     "data": {
      "text/plain": [
       "491429.147020706"
      ]
     },
     "execution_count": 346,
     "metadata": {},
     "output_type": "execute_result"
    }
   ],
   "source": [
    "Ω1*Ω2 / 2det"
   ]
  },
  {
   "cell_type": "code",
   "execution_count": null,
   "id": "6d21b58c-4cba-4f58-aa08-940cf6c1c6a3",
   "metadata": {},
   "outputs": [],
   "source": []
  }
 ],
 "metadata": {
  "kernelspec": {
   "display_name": "Python 3 (ipykernel)",
   "language": "python",
   "name": "python3"
  },
  "language_info": {
   "codemirror_mode": {
    "name": "ipython",
    "version": 3
   },
   "file_extension": ".py",
   "mimetype": "text/x-python",
   "name": "python",
   "nbconvert_exporter": "python",
   "pygments_lexer": "ipython3",
   "version": "3.10.11"
  }
 },
 "nbformat": 4,
 "nbformat_minor": 5
}
