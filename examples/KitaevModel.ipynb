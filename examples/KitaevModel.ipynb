{
 "cells": [
  {
   "cell_type": "code",
   "execution_count": 1,
   "id": "c02efe12-9376-4b82-8419-b0161f5caaa8",
   "metadata": {},
   "outputs": [],
   "source": [
    "using Revise"
   ]
  },
  {
   "cell_type": "code",
   "execution_count": 2,
   "id": "cfa44065-feaa-49b5-8340-44e66e9984d2",
   "metadata": {},
   "outputs": [
    {
     "name": "stderr",
     "output_type": "stream",
     "text": [
      "┌ Info: Precompiling QuantumStates [17f0441f-15e0-42ae-a101-302633ff8f0f]\n",
      "└ @ Base loading.jl:1662\n"
     ]
    }
   ],
   "source": [
    "using QuantumStates, CompositeStructs"
   ]
  },
  {
   "cell_type": "code",
   "execution_count": 856,
   "id": "1352b497-fa5f-49b9-a6f9-d723f005351e",
   "metadata": {},
   "outputs": [],
   "source": [
    "QN_bounds = (S=1/2, N=0:1)\n",
    "basis = enumerate_states(TensorProductState{AngularMomentumState_withSpinRotation, AngularMomentumState_withSpinRotation}, QN_bounds, QN_bounds)\n",
    ";"
   ]
  },
  {
   "cell_type": "code",
   "execution_count": 936,
   "id": "8dacbe1d-590b-45f2-878f-5c3f13c831d6",
   "metadata": {},
   "outputs": [
    {
     "name": "stdout",
     "output_type": "stream",
     "text": [
      "  0.067456 seconds (242.96 k allocations: 7.494 MiB, 62.04% compilation time: 100% of which was recompilation)\n",
      "  0.002247 seconds (344 allocations: 335.828 KiB)\n"
     ]
    }
   ],
   "source": [
    "H_operator = :(\n",
    "    B * (Rotation ⊗ I + I ⊗ Rotation) +\n",
    "    γ * (SpinRotation ⊗ I + I ⊗ SpinRotation) +\n",
    "    E * (d⁰ ⊗ I + I ⊗ d⁰) +\n",
    "    s * (SplitMStates ⊗ I + I ⊗ SplitMStates) +\n",
    "    d * (\n",
    "        (d⁻ ⊗ d⁺ + d⁺ ⊗ d⁻) / 2 + d⁰ ⊗ d⁰ # q = 0 terms\n",
    "        -(3/2) * (d⁻ ⊗ d⁻ + d⁺ ⊗ d⁺) # q = ±2 terms\n",
    "        )\n",
    ")\n",
    "parameters = @params begin\n",
    "    B = 10\n",
    "    γ = 0.01\n",
    "    E = 0.\n",
    "    s = 1e-9\n",
    "    d = 0.02\n",
    "end\n",
    "H = Hamiltonian(basis=basis, operator=H_operator, parameters=parameters)\n",
    "@time full_evaluate!(H)\n",
    "@time solve!(H)\n",
    ";"
   ]
  },
  {
   "cell_type": "code",
   "execution_count": 970,
   "id": "588b20f2-a347-4226-9e25-58e9afc4f506",
   "metadata": {},
   "outputs": [
    {
     "data": {
      "text/latex": [
       "$$-0.492\\left|N=0, S=1/2, J=1/2, M=-1/2, \\right\\rangle\\left|N=1, S=1/2, J=1/2, M=-1/2, \\right\\rangle$$\n",
       "$$ + 0.492\\left|N=0, S=1/2, J=1/2, M=1/2, \\right\\rangle\\left|N=1, S=1/2, J=1/2, M=1/2, \\right\\rangle$$\n",
       "$$-0.492\\left|N=1, S=1/2, J=1/2, M=-1/2, \\right\\rangle\\left|N=0, S=1/2, J=1/2, M=-1/2, \\right\\rangle$$\n",
       "$$ + 0.492\\left|N=1, S=1/2, J=1/2, M=1/2, \\right\\rangle\\left|N=0, S=1/2, J=1/2, M=1/2, \\right\\rangle$$\n"
      ],
      "text/plain": [
       "State{TensorProductState{AngularMomentumState_withSpinRotation, AngularMomentumState_withSpinRotation}}(19.99833333333331, TensorProductState{AngularMomentumState_withSpinRotation, AngularMomentumState_withSpinRotation}[TensorProductState{AngularMomentumState_withSpinRotation, AngularMomentumState_withSpinRotation}(AngularMomentumState_withSpinRotation(0.0, 0, 1/2, 1/2, -1/2, (J = 0.5:1.0:0.5, M = -0.5:1.0:0.5)), AngularMomentumState_withSpinRotation(0.0, 0, 1/2, 1/2, -1/2, (J = 0.5:1.0:0.5, M = -0.5:1.0:0.5))), TensorProductState{AngularMomentumState_withSpinRotation, AngularMomentumState_withSpinRotation}(AngularMomentumState_withSpinRotation(0.0, 0, 1/2, 1/2, -1/2, (J = 0.5:1.0:0.5, M = -0.5:1.0:0.5)), AngularMomentumState_withSpinRotation(0.0, 0, 1/2, 1/2, 1/2, (J = 0.5:1.0:0.5, M = -0.5:1.0:0.5))), TensorProductState{AngularMomentumState_withSpinRotation, AngularMomentumState_withSpinRotation}(AngularMomentumState_withSpinRotation(0.0, 0, 1/2, 1/2, -1/2, (J = 0.5:1.0:0.5, M = -0.5:1.0:0.5)), AngularMomentumState_withSpinRotation(0.0, 1, 1/2, 1/2, -1/2, (J = 0.5:1.0:1.5, M = -0.5:1.0:0.5))), TensorProductState{AngularMomentumState_withSpinRotation, AngularMomentumState_withSpinRotation}(AngularMomentumState_withSpinRotation(0.0, 0, 1/2, 1/2, -1/2, (J = 0.5:1.0:0.5, M = -0.5:1.0:0.5)), AngularMomentumState_withSpinRotation(0.0, 1, 1/2, 1/2, 1/2, (J = 0.5:1.0:1.5, M = -0.5:1.0:0.5))), TensorProductState{AngularMomentumState_withSpinRotation, AngularMomentumState_withSpinRotation}(AngularMomentumState_withSpinRotation(0.0, 0, 1/2, 1/2, -1/2, (J = 0.5:1.0:0.5, M = -0.5:1.0:0.5)), AngularMomentumState_withSpinRotation(0.0, 1, 1/2, 3/2, -3/2, (J = 0.5:1.0:1.5, M = -1.5:1.0:1.5))), TensorProductState{AngularMomentumState_withSpinRotation, AngularMomentumState_withSpinRotation}(AngularMomentumState_withSpinRotation(0.0, 0, 1/2, 1/2, -1/2, (J = 0.5:1.0:0.5, M = -0.5:1.0:0.5)), AngularMomentumState_withSpinRotation(0.0, 1, 1/2, 3/2, -1/2, (J = 0.5:1.0:1.5, M = -1.5:1.0:1.5))), TensorProductState{AngularMomentumState_withSpinRotation, AngularMomentumState_withSpinRotation}(AngularMomentumState_withSpinRotation(0.0, 0, 1/2, 1/2, -1/2, (J = 0.5:1.0:0.5, M = -0.5:1.0:0.5)), AngularMomentumState_withSpinRotation(0.0, 1, 1/2, 3/2, 1/2, (J = 0.5:1.0:1.5, M = -1.5:1.0:1.5))), TensorProductState{AngularMomentumState_withSpinRotation, AngularMomentumState_withSpinRotation}(AngularMomentumState_withSpinRotation(0.0, 0, 1/2, 1/2, -1/2, (J = 0.5:1.0:0.5, M = -0.5:1.0:0.5)), AngularMomentumState_withSpinRotation(0.0, 1, 1/2, 3/2, 3/2, (J = 0.5:1.0:1.5, M = -1.5:1.0:1.5))), TensorProductState{AngularMomentumState_withSpinRotation, AngularMomentumState_withSpinRotation}(AngularMomentumState_withSpinRotation(0.0, 0, 1/2, 1/2, 1/2, (J = 0.5:1.0:0.5, M = -0.5:1.0:0.5)), AngularMomentumState_withSpinRotation(0.0, 0, 1/2, 1/2, -1/2, (J = 0.5:1.0:0.5, M = -0.5:1.0:0.5))), TensorProductState{AngularMomentumState_withSpinRotation, AngularMomentumState_withSpinRotation}(AngularMomentumState_withSpinRotation(0.0, 0, 1/2, 1/2, 1/2, (J = 0.5:1.0:0.5, M = -0.5:1.0:0.5)), AngularMomentumState_withSpinRotation(0.0, 0, 1/2, 1/2, 1/2, (J = 0.5:1.0:0.5, M = -0.5:1.0:0.5)))  …  TensorProductState{AngularMomentumState_withSpinRotation, AngularMomentumState_withSpinRotation}(AngularMomentumState_withSpinRotation(0.0, 1, 1/2, 3/2, 1/2, (J = 0.5:1.0:1.5, M = -1.5:1.0:1.5)), AngularMomentumState_withSpinRotation(0.0, 1, 1/2, 3/2, 1/2, (J = 0.5:1.0:1.5, M = -1.5:1.0:1.5))), TensorProductState{AngularMomentumState_withSpinRotation, AngularMomentumState_withSpinRotation}(AngularMomentumState_withSpinRotation(0.0, 1, 1/2, 3/2, 1/2, (J = 0.5:1.0:1.5, M = -1.5:1.0:1.5)), AngularMomentumState_withSpinRotation(0.0, 1, 1/2, 3/2, 3/2, (J = 0.5:1.0:1.5, M = -1.5:1.0:1.5))), TensorProductState{AngularMomentumState_withSpinRotation, AngularMomentumState_withSpinRotation}(AngularMomentumState_withSpinRotation(0.0, 1, 1/2, 3/2, 3/2, (J = 0.5:1.0:1.5, M = -1.5:1.0:1.5)), AngularMomentumState_withSpinRotation(0.0, 0, 1/2, 1/2, -1/2, (J = 0.5:1.0:0.5, M = -0.5:1.0:0.5))), TensorProductState{AngularMomentumState_withSpinRotation, AngularMomentumState_withSpinRotation}(AngularMomentumState_withSpinRotation(0.0, 1, 1/2, 3/2, 3/2, (J = 0.5:1.0:1.5, M = -1.5:1.0:1.5)), AngularMomentumState_withSpinRotation(0.0, 0, 1/2, 1/2, 1/2, (J = 0.5:1.0:0.5, M = -0.5:1.0:0.5))), TensorProductState{AngularMomentumState_withSpinRotation, AngularMomentumState_withSpinRotation}(AngularMomentumState_withSpinRotation(0.0, 1, 1/2, 3/2, 3/2, (J = 0.5:1.0:1.5, M = -1.5:1.0:1.5)), AngularMomentumState_withSpinRotation(0.0, 1, 1/2, 1/2, -1/2, (J = 0.5:1.0:1.5, M = -0.5:1.0:0.5))), TensorProductState{AngularMomentumState_withSpinRotation, AngularMomentumState_withSpinRotation}(AngularMomentumState_withSpinRotation(0.0, 1, 1/2, 3/2, 3/2, (J = 0.5:1.0:1.5, M = -1.5:1.0:1.5)), AngularMomentumState_withSpinRotation(0.0, 1, 1/2, 1/2, 1/2, (J = 0.5:1.0:1.5, M = -0.5:1.0:0.5))), TensorProductState{AngularMomentumState_withSpinRotation, AngularMomentumState_withSpinRotation}(AngularMomentumState_withSpinRotation(0.0, 1, 1/2, 3/2, 3/2, (J = 0.5:1.0:1.5, M = -1.5:1.0:1.5)), AngularMomentumState_withSpinRotation(0.0, 1, 1/2, 3/2, -3/2, (J = 0.5:1.0:1.5, M = -1.5:1.0:1.5))), TensorProductState{AngularMomentumState_withSpinRotation, AngularMomentumState_withSpinRotation}(AngularMomentumState_withSpinRotation(0.0, 1, 1/2, 3/2, 3/2, (J = 0.5:1.0:1.5, M = -1.5:1.0:1.5)), AngularMomentumState_withSpinRotation(0.0, 1, 1/2, 3/2, -1/2, (J = 0.5:1.0:1.5, M = -1.5:1.0:1.5))), TensorProductState{AngularMomentumState_withSpinRotation, AngularMomentumState_withSpinRotation}(AngularMomentumState_withSpinRotation(0.0, 1, 1/2, 3/2, 3/2, (J = 0.5:1.0:1.5, M = -1.5:1.0:1.5)), AngularMomentumState_withSpinRotation(0.0, 1, 1/2, 3/2, 1/2, (J = 0.5:1.0:1.5, M = -1.5:1.0:1.5))), TensorProductState{AngularMomentumState_withSpinRotation, AngularMomentumState_withSpinRotation}(AngularMomentumState_withSpinRotation(0.0, 1, 1/2, 3/2, 3/2, (J = 0.5:1.0:1.5, M = -1.5:1.0:1.5)), AngularMomentumState_withSpinRotation(0.0, 1, 1/2, 3/2, 3/2, (J = 0.5:1.0:1.5, M = -1.5:1.0:1.5)))], ComplexF64[7.956070337568169e-20 - 0.0im, 1.560677797271463e-16 - 0.0im, -0.49227817250377365 - 0.0im, -3.9258023566322273e-10 - 0.0im, 0.002400512977137035 - 0.0im, -0.036472303495760895 - 0.0im, 0.004157810161066265 - 0.0im, 0.0794285740665995 - 0.0im, -7.662003674274941e-17 - 0.0im, 9.531426782286484e-19 - 0.0im  …  -1.962081523179832e-16 - 0.0im, 2.5289573009421057e-18 - 0.0im, 0.07130019865641583 - 0.0im, -0.002400512617331649 - 0.0im, 7.372598738284111e-17 - 0.0im, -4.102390782563821e-18 - 0.0im, -6.001702502753378e-18 - 0.0im, -4.163424467271907e-17 - 0.0im, 9.114941433525401e-18 - 0.0im, 2.4602795925397547e-16 - 0.0im], 15)"
      ]
     },
     "metadata": {},
     "output_type": "display_data"
    },
    {
     "data": {
      "text/plain": [
       "19.99833333333331"
      ]
     },
     "metadata": {},
     "output_type": "display_data"
    }
   ],
   "source": [
    "i = 15\n",
    "H.states[i] |> display\n",
    "H.states[i].E |> display"
   ]
  },
  {
   "cell_type": "code",
   "execution_count": 975,
   "id": "e3d3887b-0798-498c-ac7c-4bad8c240e3a",
   "metadata": {},
   "outputs": [],
   "source": [
    "QN_bounds = (S=1/2, N=0:1)\n",
    "uncoupled_basis = enumerate_states(TensorProductState{AngularMomentumState_withSpinRotation_Uncoupled, AngularMomentumState_withSpinRotation_Uncoupled}, QN_bounds, QN_bounds)\n",
    "uncoupled_states = convert_basis(H.states, uncoupled_basis)\n",
    ";"
   ]
  },
  {
   "cell_type": "code",
   "execution_count": 976,
   "id": "8b4aafe5-157f-45b6-9d43-a01bff2ee9ba",
   "metadata": {},
   "outputs": [
    {
     "data": {
      "text/latex": [
       "$$-0.487\\left|N=0, S=1/2, J=1/2, M=-1/2, \\right\\rangle\\left|N=1, S=1/2, J=1/2, M=-1/2, \\right\\rangle$$\n",
       "$$ + 0.487\\left|N=0, S=1/2, J=1/2, M=1/2, \\right\\rangle\\left|N=1, S=1/2, J=1/2, M=1/2, \\right\\rangle$$\n",
       "$$ + 0.487\\left|N=1, S=1/2, J=1/2, M=-1/2, \\right\\rangle\\left|N=0, S=1/2, J=1/2, M=-1/2, \\right\\rangle$$\n",
       "$$-0.487\\left|N=1, S=1/2, J=1/2, M=1/2, \\right\\rangle\\left|N=0, S=1/2, J=1/2, M=1/2, \\right\\rangle$$\n"
      ],
      "text/plain": [
       "State{TensorProductState{AngularMomentumState_withSpinRotation, AngularMomentumState_withSpinRotation}}(19.980379996878856, TensorProductState{AngularMomentumState_withSpinRotation, AngularMomentumState_withSpinRotation}[TensorProductState{AngularMomentumState_withSpinRotation, AngularMomentumState_withSpinRotation}(AngularMomentumState_withSpinRotation(0.0, 0, 1/2, 1/2, -1/2, (J = 0.5:1.0:0.5, M = -0.5:1.0:0.5)), AngularMomentumState_withSpinRotation(0.0, 0, 1/2, 1/2, -1/2, (J = 0.5:1.0:0.5, M = -0.5:1.0:0.5))), TensorProductState{AngularMomentumState_withSpinRotation, AngularMomentumState_withSpinRotation}(AngularMomentumState_withSpinRotation(0.0, 0, 1/2, 1/2, -1/2, (J = 0.5:1.0:0.5, M = -0.5:1.0:0.5)), AngularMomentumState_withSpinRotation(0.0, 0, 1/2, 1/2, 1/2, (J = 0.5:1.0:0.5, M = -0.5:1.0:0.5))), TensorProductState{AngularMomentumState_withSpinRotation, AngularMomentumState_withSpinRotation}(AngularMomentumState_withSpinRotation(0.0, 0, 1/2, 1/2, -1/2, (J = 0.5:1.0:0.5, M = -0.5:1.0:0.5)), AngularMomentumState_withSpinRotation(0.0, 1, 1/2, 1/2, -1/2, (J = 0.5:1.0:1.5, M = -0.5:1.0:0.5))), TensorProductState{AngularMomentumState_withSpinRotation, AngularMomentumState_withSpinRotation}(AngularMomentumState_withSpinRotation(0.0, 0, 1/2, 1/2, -1/2, (J = 0.5:1.0:0.5, M = -0.5:1.0:0.5)), AngularMomentumState_withSpinRotation(0.0, 1, 1/2, 1/2, 1/2, (J = 0.5:1.0:1.5, M = -0.5:1.0:0.5))), TensorProductState{AngularMomentumState_withSpinRotation, AngularMomentumState_withSpinRotation}(AngularMomentumState_withSpinRotation(0.0, 0, 1/2, 1/2, -1/2, (J = 0.5:1.0:0.5, M = -0.5:1.0:0.5)), AngularMomentumState_withSpinRotation(0.0, 1, 1/2, 3/2, -3/2, (J = 0.5:1.0:1.5, M = -1.5:1.0:1.5))), TensorProductState{AngularMomentumState_withSpinRotation, AngularMomentumState_withSpinRotation}(AngularMomentumState_withSpinRotation(0.0, 0, 1/2, 1/2, -1/2, (J = 0.5:1.0:0.5, M = -0.5:1.0:0.5)), AngularMomentumState_withSpinRotation(0.0, 1, 1/2, 3/2, -1/2, (J = 0.5:1.0:1.5, M = -1.5:1.0:1.5))), TensorProductState{AngularMomentumState_withSpinRotation, AngularMomentumState_withSpinRotation}(AngularMomentumState_withSpinRotation(0.0, 0, 1/2, 1/2, -1/2, (J = 0.5:1.0:0.5, M = -0.5:1.0:0.5)), AngularMomentumState_withSpinRotation(0.0, 1, 1/2, 3/2, 1/2, (J = 0.5:1.0:1.5, M = -1.5:1.0:1.5))), TensorProductState{AngularMomentumState_withSpinRotation, AngularMomentumState_withSpinRotation}(AngularMomentumState_withSpinRotation(0.0, 0, 1/2, 1/2, -1/2, (J = 0.5:1.0:0.5, M = -0.5:1.0:0.5)), AngularMomentumState_withSpinRotation(0.0, 1, 1/2, 3/2, 3/2, (J = 0.5:1.0:1.5, M = -1.5:1.0:1.5))), TensorProductState{AngularMomentumState_withSpinRotation, AngularMomentumState_withSpinRotation}(AngularMomentumState_withSpinRotation(0.0, 0, 1/2, 1/2, 1/2, (J = 0.5:1.0:0.5, M = -0.5:1.0:0.5)), AngularMomentumState_withSpinRotation(0.0, 0, 1/2, 1/2, -1/2, (J = 0.5:1.0:0.5, M = -0.5:1.0:0.5))), TensorProductState{AngularMomentumState_withSpinRotation, AngularMomentumState_withSpinRotation}(AngularMomentumState_withSpinRotation(0.0, 0, 1/2, 1/2, 1/2, (J = 0.5:1.0:0.5, M = -0.5:1.0:0.5)), AngularMomentumState_withSpinRotation(0.0, 0, 1/2, 1/2, 1/2, (J = 0.5:1.0:0.5, M = -0.5:1.0:0.5)))  …  TensorProductState{AngularMomentumState_withSpinRotation, AngularMomentumState_withSpinRotation}(AngularMomentumState_withSpinRotation(0.0, 1, 1/2, 3/2, 1/2, (J = 0.5:1.0:1.5, M = -1.5:1.0:1.5)), AngularMomentumState_withSpinRotation(0.0, 1, 1/2, 3/2, 1/2, (J = 0.5:1.0:1.5, M = -1.5:1.0:1.5))), TensorProductState{AngularMomentumState_withSpinRotation, AngularMomentumState_withSpinRotation}(AngularMomentumState_withSpinRotation(0.0, 1, 1/2, 3/2, 1/2, (J = 0.5:1.0:1.5, M = -1.5:1.0:1.5)), AngularMomentumState_withSpinRotation(0.0, 1, 1/2, 3/2, 3/2, (J = 0.5:1.0:1.5, M = -1.5:1.0:1.5))), TensorProductState{AngularMomentumState_withSpinRotation, AngularMomentumState_withSpinRotation}(AngularMomentumState_withSpinRotation(0.0, 1, 1/2, 3/2, 3/2, (J = 0.5:1.0:1.5, M = -1.5:1.0:1.5)), AngularMomentumState_withSpinRotation(0.0, 0, 1/2, 1/2, -1/2, (J = 0.5:1.0:0.5, M = -0.5:1.0:0.5))), TensorProductState{AngularMomentumState_withSpinRotation, AngularMomentumState_withSpinRotation}(AngularMomentumState_withSpinRotation(0.0, 1, 1/2, 3/2, 3/2, (J = 0.5:1.0:1.5, M = -1.5:1.0:1.5)), AngularMomentumState_withSpinRotation(0.0, 0, 1/2, 1/2, 1/2, (J = 0.5:1.0:0.5, M = -0.5:1.0:0.5))), TensorProductState{AngularMomentumState_withSpinRotation, AngularMomentumState_withSpinRotation}(AngularMomentumState_withSpinRotation(0.0, 1, 1/2, 3/2, 3/2, (J = 0.5:1.0:1.5, M = -1.5:1.0:1.5)), AngularMomentumState_withSpinRotation(0.0, 1, 1/2, 1/2, -1/2, (J = 0.5:1.0:1.5, M = -0.5:1.0:0.5))), TensorProductState{AngularMomentumState_withSpinRotation, AngularMomentumState_withSpinRotation}(AngularMomentumState_withSpinRotation(0.0, 1, 1/2, 3/2, 3/2, (J = 0.5:1.0:1.5, M = -1.5:1.0:1.5)), AngularMomentumState_withSpinRotation(0.0, 1, 1/2, 1/2, 1/2, (J = 0.5:1.0:1.5, M = -0.5:1.0:0.5))), TensorProductState{AngularMomentumState_withSpinRotation, AngularMomentumState_withSpinRotation}(AngularMomentumState_withSpinRotation(0.0, 1, 1/2, 3/2, 3/2, (J = 0.5:1.0:1.5, M = -1.5:1.0:1.5)), AngularMomentumState_withSpinRotation(0.0, 1, 1/2, 3/2, -3/2, (J = 0.5:1.0:1.5, M = -1.5:1.0:1.5))), TensorProductState{AngularMomentumState_withSpinRotation, AngularMomentumState_withSpinRotation}(AngularMomentumState_withSpinRotation(0.0, 1, 1/2, 3/2, 3/2, (J = 0.5:1.0:1.5, M = -1.5:1.0:1.5)), AngularMomentumState_withSpinRotation(0.0, 1, 1/2, 3/2, -1/2, (J = 0.5:1.0:1.5, M = -1.5:1.0:1.5))), TensorProductState{AngularMomentumState_withSpinRotation, AngularMomentumState_withSpinRotation}(AngularMomentumState_withSpinRotation(0.0, 1, 1/2, 3/2, 3/2, (J = 0.5:1.0:1.5, M = -1.5:1.0:1.5)), AngularMomentumState_withSpinRotation(0.0, 1, 1/2, 3/2, 1/2, (J = 0.5:1.0:1.5, M = -1.5:1.0:1.5))), TensorProductState{AngularMomentumState_withSpinRotation, AngularMomentumState_withSpinRotation}(AngularMomentumState_withSpinRotation(0.0, 1, 1/2, 3/2, 3/2, (J = 0.5:1.0:1.5, M = -1.5:1.0:1.5)), AngularMomentumState_withSpinRotation(0.0, 1, 1/2, 3/2, 3/2, (J = 0.5:1.0:1.5, M = -1.5:1.0:1.5)))], ComplexF64[9.729014824497161e-20 + 0.0im, -5.138720777885923e-16 + 0.0im, -0.48699535270282474 + 0.0im, 2.4208454289221175e-13 + 0.0im, -4.508419518922521e-13 + 0.0im, 0.05664707013002019 + 0.0im, 4.2330119749045144e-14 + 0.0im, -0.0981156173673714 + 0.0im, 3.330237707727932e-16 + 0.0im, -1.1580479234928386e-19 + 0.0im  …  5.9389679663071e-17 + 0.0im, -1.397261722101475e-19 + 0.0im, 0.09811561736972463 + 0.0im, -1.0101115810639815e-13 + 0.0im, 1.3674641940688663e-16 + 0.0im, 9.152153408295273e-21 + 0.0im, -2.3917683264729316e-20 + 0.0im, -3.554436273283657e-17 + 0.0im, 2.974687610929017e-20 + 0.0im, 6.43536956902615e-18 + 0.0im], 5)"
      ]
     },
     "execution_count": 976,
     "metadata": {},
     "output_type": "execute_result"
    }
   ],
   "source": [
    "H.states[5]"
   ]
  },
  {
   "cell_type": "code",
   "execution_count": 977,
   "id": "45ada2eb-8903-4425-9859-c1b856258843",
   "metadata": {},
   "outputs": [
    {
     "data": {
      "text/latex": [
       "$$0.43\\left|N=0, M_N=0, S=1/2, M_S=-1/2, \\right\\rangle\\left|N=1, M_N=-1, S=1/2, M_S=1/2, \\right\\rangle$$\n",
       "$$-0.235\\left|N=0, M_N=0, S=1/2, M_S=-1/2, \\right\\rangle\\left|N=1, M_N=0, S=1/2, M_S=-1/2, \\right\\rangle$$\n",
       "$$-0.235\\left|N=0, M_N=0, S=1/2, M_S=1/2, \\right\\rangle\\left|N=1, M_N=0, S=1/2, M_S=1/2, \\right\\rangle$$\n",
       "$$ + 0.43\\left|N=0, M_N=0, S=1/2, M_S=1/2, \\right\\rangle\\left|N=1, M_N=1, S=1/2, M_S=-1/2, \\right\\rangle$$\n",
       "$$-0.43\\left|N=1, M_N=-1, S=1/2, M_S=1/2, \\right\\rangle\\left|N=0, M_N=0, S=1/2, M_S=-1/2, \\right\\rangle$$\n",
       "$$ + 0.235\\left|N=1, M_N=0, S=1/2, M_S=-1/2, \\right\\rangle\\left|N=0, M_N=0, S=1/2, M_S=-1/2, \\right\\rangle$$\n",
       "$$ + 0.235\\left|N=1, M_N=0, S=1/2, M_S=1/2, \\right\\rangle\\left|N=0, M_N=0, S=1/2, M_S=1/2, \\right\\rangle$$\n",
       "$$-0.43\\left|N=1, M_N=1, S=1/2, M_S=-1/2, \\right\\rangle\\left|N=0, M_N=0, S=1/2, M_S=1/2, \\right\\rangle$$\n"
      ],
      "text/plain": [
       "State{TensorProductState{AngularMomentumState_withSpinRotation_Uncoupled, AngularMomentumState_withSpinRotation_Uncoupled}}(19.980379996878856, TensorProductState{AngularMomentumState_withSpinRotation_Uncoupled, AngularMomentumState_withSpinRotation_Uncoupled}[TensorProductState{AngularMomentumState_withSpinRotation_Uncoupled, AngularMomentumState_withSpinRotation_Uncoupled}(AngularMomentumState_withSpinRotation_Uncoupled(0.0, 0, 0, 1/2, -1/2, (M_N = 0:0, M_S = -0.5:1.0:0.5)), AngularMomentumState_withSpinRotation_Uncoupled(0.0, 0, 0, 1/2, -1/2, (M_N = 0:0, M_S = -0.5:1.0:0.5))), TensorProductState{AngularMomentumState_withSpinRotation_Uncoupled, AngularMomentumState_withSpinRotation_Uncoupled}(AngularMomentumState_withSpinRotation_Uncoupled(0.0, 0, 0, 1/2, -1/2, (M_N = 0:0, M_S = -0.5:1.0:0.5)), AngularMomentumState_withSpinRotation_Uncoupled(0.0, 0, 0, 1/2, 1/2, (M_N = 0:0, M_S = -0.5:1.0:0.5))), TensorProductState{AngularMomentumState_withSpinRotation_Uncoupled, AngularMomentumState_withSpinRotation_Uncoupled}(AngularMomentumState_withSpinRotation_Uncoupled(0.0, 0, 0, 1/2, -1/2, (M_N = 0:0, M_S = -0.5:1.0:0.5)), AngularMomentumState_withSpinRotation_Uncoupled(0.0, 1, -1, 1/2, -1/2, (M_N = -1:1, M_S = -0.5:1.0:0.5))), TensorProductState{AngularMomentumState_withSpinRotation_Uncoupled, AngularMomentumState_withSpinRotation_Uncoupled}(AngularMomentumState_withSpinRotation_Uncoupled(0.0, 0, 0, 1/2, -1/2, (M_N = 0:0, M_S = -0.5:1.0:0.5)), AngularMomentumState_withSpinRotation_Uncoupled(0.0, 1, -1, 1/2, 1/2, (M_N = -1:1, M_S = -0.5:1.0:0.5))), TensorProductState{AngularMomentumState_withSpinRotation_Uncoupled, AngularMomentumState_withSpinRotation_Uncoupled}(AngularMomentumState_withSpinRotation_Uncoupled(0.0, 0, 0, 1/2, -1/2, (M_N = 0:0, M_S = -0.5:1.0:0.5)), AngularMomentumState_withSpinRotation_Uncoupled(0.0, 1, 0, 1/2, -1/2, (M_N = -1:1, M_S = -0.5:1.0:0.5))), TensorProductState{AngularMomentumState_withSpinRotation_Uncoupled, AngularMomentumState_withSpinRotation_Uncoupled}(AngularMomentumState_withSpinRotation_Uncoupled(0.0, 0, 0, 1/2, -1/2, (M_N = 0:0, M_S = -0.5:1.0:0.5)), AngularMomentumState_withSpinRotation_Uncoupled(0.0, 1, 0, 1/2, 1/2, (M_N = -1:1, M_S = -0.5:1.0:0.5))), TensorProductState{AngularMomentumState_withSpinRotation_Uncoupled, AngularMomentumState_withSpinRotation_Uncoupled}(AngularMomentumState_withSpinRotation_Uncoupled(0.0, 0, 0, 1/2, -1/2, (M_N = 0:0, M_S = -0.5:1.0:0.5)), AngularMomentumState_withSpinRotation_Uncoupled(0.0, 1, 1, 1/2, -1/2, (M_N = -1:1, M_S = -0.5:1.0:0.5))), TensorProductState{AngularMomentumState_withSpinRotation_Uncoupled, AngularMomentumState_withSpinRotation_Uncoupled}(AngularMomentumState_withSpinRotation_Uncoupled(0.0, 0, 0, 1/2, -1/2, (M_N = 0:0, M_S = -0.5:1.0:0.5)), AngularMomentumState_withSpinRotation_Uncoupled(0.0, 1, 1, 1/2, 1/2, (M_N = -1:1, M_S = -0.5:1.0:0.5))), TensorProductState{AngularMomentumState_withSpinRotation_Uncoupled, AngularMomentumState_withSpinRotation_Uncoupled}(AngularMomentumState_withSpinRotation_Uncoupled(0.0, 0, 0, 1/2, 1/2, (M_N = 0:0, M_S = -0.5:1.0:0.5)), AngularMomentumState_withSpinRotation_Uncoupled(0.0, 0, 0, 1/2, -1/2, (M_N = 0:0, M_S = -0.5:1.0:0.5))), TensorProductState{AngularMomentumState_withSpinRotation_Uncoupled, AngularMomentumState_withSpinRotation_Uncoupled}(AngularMomentumState_withSpinRotation_Uncoupled(0.0, 0, 0, 1/2, 1/2, (M_N = 0:0, M_S = -0.5:1.0:0.5)), AngularMomentumState_withSpinRotation_Uncoupled(0.0, 0, 0, 1/2, 1/2, (M_N = 0:0, M_S = -0.5:1.0:0.5)))  …  TensorProductState{AngularMomentumState_withSpinRotation_Uncoupled, AngularMomentumState_withSpinRotation_Uncoupled}(AngularMomentumState_withSpinRotation_Uncoupled(0.0, 1, 1, 1/2, -1/2, (M_N = -1:1, M_S = -0.5:1.0:0.5)), AngularMomentumState_withSpinRotation_Uncoupled(0.0, 1, 1, 1/2, -1/2, (M_N = -1:1, M_S = -0.5:1.0:0.5))), TensorProductState{AngularMomentumState_withSpinRotation_Uncoupled, AngularMomentumState_withSpinRotation_Uncoupled}(AngularMomentumState_withSpinRotation_Uncoupled(0.0, 1, 1, 1/2, -1/2, (M_N = -1:1, M_S = -0.5:1.0:0.5)), AngularMomentumState_withSpinRotation_Uncoupled(0.0, 1, 1, 1/2, 1/2, (M_N = -1:1, M_S = -0.5:1.0:0.5))), TensorProductState{AngularMomentumState_withSpinRotation_Uncoupled, AngularMomentumState_withSpinRotation_Uncoupled}(AngularMomentumState_withSpinRotation_Uncoupled(0.0, 1, 1, 1/2, 1/2, (M_N = -1:1, M_S = -0.5:1.0:0.5)), AngularMomentumState_withSpinRotation_Uncoupled(0.0, 0, 0, 1/2, -1/2, (M_N = 0:0, M_S = -0.5:1.0:0.5))), TensorProductState{AngularMomentumState_withSpinRotation_Uncoupled, AngularMomentumState_withSpinRotation_Uncoupled}(AngularMomentumState_withSpinRotation_Uncoupled(0.0, 1, 1, 1/2, 1/2, (M_N = -1:1, M_S = -0.5:1.0:0.5)), AngularMomentumState_withSpinRotation_Uncoupled(0.0, 0, 0, 1/2, 1/2, (M_N = 0:0, M_S = -0.5:1.0:0.5))), TensorProductState{AngularMomentumState_withSpinRotation_Uncoupled, AngularMomentumState_withSpinRotation_Uncoupled}(AngularMomentumState_withSpinRotation_Uncoupled(0.0, 1, 1, 1/2, 1/2, (M_N = -1:1, M_S = -0.5:1.0:0.5)), AngularMomentumState_withSpinRotation_Uncoupled(0.0, 1, -1, 1/2, -1/2, (M_N = -1:1, M_S = -0.5:1.0:0.5))), TensorProductState{AngularMomentumState_withSpinRotation_Uncoupled, AngularMomentumState_withSpinRotation_Uncoupled}(AngularMomentumState_withSpinRotation_Uncoupled(0.0, 1, 1, 1/2, 1/2, (M_N = -1:1, M_S = -0.5:1.0:0.5)), AngularMomentumState_withSpinRotation_Uncoupled(0.0, 1, -1, 1/2, 1/2, (M_N = -1:1, M_S = -0.5:1.0:0.5))), TensorProductState{AngularMomentumState_withSpinRotation_Uncoupled, AngularMomentumState_withSpinRotation_Uncoupled}(AngularMomentumState_withSpinRotation_Uncoupled(0.0, 1, 1, 1/2, 1/2, (M_N = -1:1, M_S = -0.5:1.0:0.5)), AngularMomentumState_withSpinRotation_Uncoupled(0.0, 1, 0, 1/2, -1/2, (M_N = -1:1, M_S = -0.5:1.0:0.5))), TensorProductState{AngularMomentumState_withSpinRotation_Uncoupled, AngularMomentumState_withSpinRotation_Uncoupled}(AngularMomentumState_withSpinRotation_Uncoupled(0.0, 1, 1, 1/2, 1/2, (M_N = -1:1, M_S = -0.5:1.0:0.5)), AngularMomentumState_withSpinRotation_Uncoupled(0.0, 1, 0, 1/2, 1/2, (M_N = -1:1, M_S = -0.5:1.0:0.5))), TensorProductState{AngularMomentumState_withSpinRotation_Uncoupled, AngularMomentumState_withSpinRotation_Uncoupled}(AngularMomentumState_withSpinRotation_Uncoupled(0.0, 1, 1, 1/2, 1/2, (M_N = -1:1, M_S = -0.5:1.0:0.5)), AngularMomentumState_withSpinRotation_Uncoupled(0.0, 1, 1, 1/2, -1/2, (M_N = -1:1, M_S = -0.5:1.0:0.5))), TensorProductState{AngularMomentumState_withSpinRotation_Uncoupled, AngularMomentumState_withSpinRotation_Uncoupled}(AngularMomentumState_withSpinRotation_Uncoupled(0.0, 1, 1, 1/2, 1/2, (M_N = -1:1, M_S = -0.5:1.0:0.5)), AngularMomentumState_withSpinRotation_Uncoupled(0.0, 1, 1, 1/2, 1/2, (M_N = -1:1, M_S = -0.5:1.0:0.5)))], ComplexF64[9.729014824497166e-20 + 0.0im, -5.138720777885925e-16 + 0.0im, -4.508419518922521e-13 + 0.0im, 0.43033524159791936 + 0.0im, -0.23491475889633806 + 0.0im, -1.0520517796010942e-13 + 0.0im, 2.2210050759888273e-13 + 0.0im, -0.0981156173673714 + 0.0im, 3.3302377077279333e-16 + 0.0im, -1.158047923492839e-19 + 0.0im  …  -4.037299586626836e-16 + 0.0im, -1.9639571497633141e-19 + 0.0im, 0.09811561736972463 + 0.0im, -1.0101115810639815e-13 + 0.0im, -2.391768326472931e-20 + 0.0im, -1.3217453129180868e-16 + 0.0im, 4.992873141266752e-17 + 0.0im, 1.9004224402572053e-20 + 0.0im, 2.4647068895248253e-20 + 0.0im, 6.435369569026149e-18 + 0.0im], 5)"
      ]
     },
     "execution_count": 977,
     "metadata": {},
     "output_type": "execute_result"
    },
    {
     "name": "stderr",
     "output_type": "stream",
     "text": [
      "┌ Warning: G:\\My Drive\\github\\QuantumStates\\src is not an existing directory, Revise is not watching\n",
      "└ @ Revise C:\\Users\\Christian\\.julia\\packages\\Revise\\Kw99o\\src\\packagedef.jl:574\n"
     ]
    }
   ],
   "source": [
    "uncoupled_states[5]"
   ]
  },
  {
   "cell_type": "code",
   "execution_count": 968,
   "id": "86db660a-478d-4052-ab5a-97b847d4fe45",
   "metadata": {},
   "outputs": [
    {
     "data": {
      "text/plain": [
       "19.980379996878856"
      ]
     },
     "execution_count": 968,
     "metadata": {},
     "output_type": "execute_result"
    }
   ],
   "source": [
    "uncoupled_states[5] |> energy"
   ]
  },
  {
   "cell_type": "code",
   "execution_count": 940,
   "id": "99df2034-9bd3-4a1a-9ef8-687356d325e4",
   "metadata": {},
   "outputs": [],
   "source": [
    "function H_func!(H, scan_values)\n",
    "    H.parameters.d = scan_values[1]\n",
    "    evaluate!(H)\n",
    "    solve!(H)\n",
    "    return nothing\n",
    "end\n",
    ";"
   ]
  },
  {
   "cell_type": "code",
   "execution_count": 941,
   "id": "6cb16d21-9972-480b-9dcf-3f4fffc289cd",
   "metadata": {},
   "outputs": [],
   "source": [
    "rs = (1.5:0.1:8)\n",
    "ds = 1 ./ rs .^3\n",
    ";"
   ]
  },
  {
   "cell_type": "code",
   "execution_count": 942,
   "id": "f28d1641-52a1-4958-be45-eee6242cd077",
   "metadata": {},
   "outputs": [
    {
     "name": "stderr",
     "output_type": "stream",
     "text": [
      "\u001b[32mProgress: 100%|█████████████████████████████████████████| Time: 0:00:00\u001b[39m\n"
     ]
    },
    {
     "name": "stdout",
     "output_type": "stream",
     "text": [
      "  0.306401 seconds (189.51 k allocations: 33.206 MiB, 48.54% compilation time)\n"
     ]
    }
   ],
   "source": [
    "scan_params = (\n",
    "    d = ds,\n",
    "    );\n",
    "H_scanned = deepcopy(H)\n",
    "iterator = Iterators.product\n",
    "@time scan_values, tracked_idxs = scan_parameters(H_scanned, scan_params, iterator, H_func!, H -> energy.(H.states), n_threads=1)\n",
    "matrix_values = hcat(values(scan_values)...)';\n",
    ";"
   ]
  },
  {
   "cell_type": "code",
   "execution_count": 943,
   "id": "f967b687-49a5-45a5-ae88-a953c765b45a",
   "metadata": {},
   "outputs": [
    {
     "data": {
      "image/svg+xml": [
       "<?xml version=\"1.0\" encoding=\"utf-8\"?>\n",
       "<svg xmlns=\"http://www.w3.org/2000/svg\" xmlns:xlink=\"http://www.w3.org/1999/xlink\" width=\"600\" height=\"400\" viewBox=\"0 0 2400 1600\">\n",
       "<defs>\n",
       "  <clipPath id=\"clip580\">\n",
       "    <rect x=\"0\" y=\"0\" width=\"2400\" height=\"1600\"/>\n",
       "  </clipPath>\n",
       "</defs>\n",
       "<path clip-path=\"url(#clip580)\" d=\"\n",
       "M0 1600 L2400 1600 L2400 0 L0 0  Z\n",
       "  \" fill=\"#ffffff\" fill-rule=\"evenodd\" fill-opacity=\"1\"/>\n",
       "<defs>\n",
       "  <clipPath id=\"clip581\">\n",
       "    <rect x=\"480\" y=\"0\" width=\"1681\" height=\"1600\"/>\n",
       "  </clipPath>\n",
       "</defs>\n",
       "<path clip-path=\"url(#clip580)\" d=\"\n",
       "M216.089 1486.45 L2352.76 1486.45 L2352.76 47.2441 L216.089 47.2441  Z\n",
       "  \" fill=\"#ffffff\" fill-rule=\"evenodd\" fill-opacity=\"1\"/>\n",
       "<defs>\n",
       "  <clipPath id=\"clip582\">\n",
       "    <rect x=\"216\" y=\"47\" width=\"2138\" height=\"1440\"/>\n",
       "  </clipPath>\n",
       "</defs>\n",
       "<polyline clip-path=\"url(#clip582)\" style=\"stroke:#000000; stroke-linecap:round; stroke-linejoin:round; stroke-width:2; stroke-opacity:0.1; fill:none\" points=\"\n",
       "  216.089,1486.45 216.089,47.2441 \n",
       "  \"/>\n",
       "<polyline clip-path=\"url(#clip582)\" style=\"stroke:#000000; stroke-linecap:round; stroke-linejoin:round; stroke-width:2; stroke-opacity:0.1; fill:none\" points=\"\n",
       "  750.255,1486.45 750.255,47.2441 \n",
       "  \"/>\n",
       "<polyline clip-path=\"url(#clip582)\" style=\"stroke:#000000; stroke-linecap:round; stroke-linejoin:round; stroke-width:2; stroke-opacity:0.1; fill:none\" points=\"\n",
       "  1284.42,1486.45 1284.42,47.2441 \n",
       "  \"/>\n",
       "<polyline clip-path=\"url(#clip582)\" style=\"stroke:#000000; stroke-linecap:round; stroke-linejoin:round; stroke-width:2; stroke-opacity:0.1; fill:none\" points=\"\n",
       "  1818.59,1486.45 1818.59,47.2441 \n",
       "  \"/>\n",
       "<polyline clip-path=\"url(#clip582)\" style=\"stroke:#000000; stroke-linecap:round; stroke-linejoin:round; stroke-width:2; stroke-opacity:0.1; fill:none\" points=\"\n",
       "  2352.76,1486.45 2352.76,47.2441 \n",
       "  \"/>\n",
       "<polyline clip-path=\"url(#clip580)\" style=\"stroke:#000000; stroke-linecap:round; stroke-linejoin:round; stroke-width:4; stroke-opacity:1; fill:none\" points=\"\n",
       "  216.089,1486.45 2352.76,1486.45 \n",
       "  \"/>\n",
       "<polyline clip-path=\"url(#clip580)\" style=\"stroke:#000000; stroke-linecap:round; stroke-linejoin:round; stroke-width:4; stroke-opacity:1; fill:none\" points=\"\n",
       "  216.089,1486.45 216.089,1467.55 \n",
       "  \"/>\n",
       "<polyline clip-path=\"url(#clip580)\" style=\"stroke:#000000; stroke-linecap:round; stroke-linejoin:round; stroke-width:4; stroke-opacity:1; fill:none\" points=\"\n",
       "  750.255,1486.45 750.255,1467.55 \n",
       "  \"/>\n",
       "<polyline clip-path=\"url(#clip580)\" style=\"stroke:#000000; stroke-linecap:round; stroke-linejoin:round; stroke-width:4; stroke-opacity:1; fill:none\" points=\"\n",
       "  1284.42,1486.45 1284.42,1467.55 \n",
       "  \"/>\n",
       "<polyline clip-path=\"url(#clip580)\" style=\"stroke:#000000; stroke-linecap:round; stroke-linejoin:round; stroke-width:4; stroke-opacity:1; fill:none\" points=\"\n",
       "  1818.59,1486.45 1818.59,1467.55 \n",
       "  \"/>\n",
       "<polyline clip-path=\"url(#clip580)\" style=\"stroke:#000000; stroke-linecap:round; stroke-linejoin:round; stroke-width:4; stroke-opacity:1; fill:none\" points=\"\n",
       "  2352.76,1486.45 2352.76,1467.55 \n",
       "  \"/>\n",
       "<path clip-path=\"url(#clip580)\" d=\"M216.089 1517.37 Q212.478 1517.37 210.649 1520.93 Q208.843 1524.47 208.843 1531.6 Q208.843 1538.71 210.649 1542.27 Q212.478 1545.82 216.089 1545.82 Q219.723 1545.82 221.528 1542.27 Q223.357 1538.71 223.357 1531.6 Q223.357 1524.47 221.528 1520.93 Q219.723 1517.37 216.089 1517.37 M216.089 1513.66 Q221.899 1513.66 224.954 1518.27 Q228.033 1522.85 228.033 1531.6 Q228.033 1540.33 224.954 1544.94 Q221.899 1549.52 216.089 1549.52 Q210.279 1549.52 207.2 1544.94 Q204.144 1540.33 204.144 1531.6 Q204.144 1522.85 207.2 1518.27 Q210.279 1513.66 216.089 1513.66 Z\" fill=\"#000000\" fill-rule=\"evenodd\" fill-opacity=\"1\" /><path clip-path=\"url(#clip580)\" d=\"M744.908 1544.91 L761.228 1544.91 L761.228 1548.85 L739.283 1548.85 L739.283 1544.91 Q741.945 1542.16 746.529 1537.53 Q751.135 1532.88 752.316 1531.53 Q754.561 1529.01 755.441 1527.27 Q756.343 1525.51 756.343 1523.82 Q756.343 1521.07 754.399 1519.33 Q752.478 1517.6 749.376 1517.6 Q747.177 1517.6 744.723 1518.36 Q742.293 1519.13 739.515 1520.68 L739.515 1515.95 Q742.339 1514.82 744.793 1514.24 Q747.246 1513.66 749.283 1513.66 Q754.654 1513.66 757.848 1516.35 Q761.042 1519.03 761.042 1523.52 Q761.042 1525.65 760.232 1527.57 Q759.445 1529.47 757.339 1532.07 Q756.76 1532.74 753.658 1535.95 Q750.556 1539.15 744.908 1544.91 Z\" fill=\"#000000\" fill-rule=\"evenodd\" fill-opacity=\"1\" /><path clip-path=\"url(#clip580)\" d=\"M1287.43 1518.36 L1275.63 1536.81 L1287.43 1536.81 L1287.43 1518.36 M1286.2 1514.29 L1292.08 1514.29 L1292.08 1536.81 L1297.01 1536.81 L1297.01 1540.7 L1292.08 1540.7 L1292.08 1548.85 L1287.43 1548.85 L1287.43 1540.7 L1271.83 1540.7 L1271.83 1536.19 L1286.2 1514.29 Z\" fill=\"#000000\" fill-rule=\"evenodd\" fill-opacity=\"1\" /><path clip-path=\"url(#clip580)\" d=\"M1818.99 1529.7 Q1815.85 1529.7 1813.99 1531.86 Q1812.17 1534.01 1812.17 1537.76 Q1812.17 1541.49 1813.99 1543.66 Q1815.85 1545.82 1818.99 1545.82 Q1822.14 1545.82 1823.97 1543.66 Q1825.82 1541.49 1825.82 1537.76 Q1825.82 1534.01 1823.97 1531.86 Q1822.14 1529.7 1818.99 1529.7 M1828.28 1515.05 L1828.28 1519.31 Q1826.52 1518.48 1824.71 1518.04 Q1822.93 1517.6 1821.17 1517.6 Q1816.54 1517.6 1814.09 1520.72 Q1811.66 1523.85 1811.31 1530.17 Q1812.67 1528.15 1814.73 1527.09 Q1816.8 1526 1819.27 1526 Q1824.48 1526 1827.49 1529.17 Q1830.52 1532.32 1830.52 1537.76 Q1830.52 1543.08 1827.37 1546.3 Q1824.23 1549.52 1818.99 1549.52 Q1813 1549.52 1809.83 1544.94 Q1806.66 1540.33 1806.66 1531.6 Q1806.66 1523.41 1810.55 1518.55 Q1814.43 1513.66 1820.98 1513.66 Q1822.74 1513.66 1824.53 1514.01 Q1826.33 1514.36 1828.28 1515.05 Z\" fill=\"#000000\" fill-rule=\"evenodd\" fill-opacity=\"1\" /><path clip-path=\"url(#clip580)\" d=\"M2352.76 1532.44 Q2349.42 1532.44 2347.5 1534.22 Q2345.6 1536 2345.6 1539.13 Q2345.6 1542.25 2347.5 1544.03 Q2349.42 1545.82 2352.76 1545.82 Q2356.09 1545.82 2358.01 1544.03 Q2359.93 1542.23 2359.93 1539.13 Q2359.93 1536 2358.01 1534.22 Q2356.11 1532.44 2352.76 1532.44 M2348.08 1530.45 Q2345.07 1529.7 2343.38 1527.64 Q2341.71 1525.58 2341.71 1522.62 Q2341.71 1518.48 2344.65 1516.07 Q2347.62 1513.66 2352.76 1513.66 Q2357.92 1513.66 2360.86 1516.07 Q2363.8 1518.48 2363.8 1522.62 Q2363.8 1525.58 2362.11 1527.64 Q2360.44 1529.7 2357.45 1530.45 Q2360.83 1531.23 2362.71 1533.52 Q2364.61 1535.82 2364.61 1539.13 Q2364.61 1544.15 2361.53 1546.83 Q2358.47 1549.52 2352.76 1549.52 Q2347.04 1549.52 2343.96 1546.83 Q2340.9 1544.15 2340.9 1539.13 Q2340.9 1535.82 2342.8 1533.52 Q2344.7 1531.23 2348.08 1530.45 M2346.37 1523.06 Q2346.37 1525.75 2348.03 1527.25 Q2349.72 1528.76 2352.76 1528.76 Q2355.77 1528.76 2357.45 1527.25 Q2359.17 1525.75 2359.17 1523.06 Q2359.17 1520.38 2357.45 1518.87 Q2355.77 1517.37 2352.76 1517.37 Q2349.72 1517.37 2348.03 1518.87 Q2346.37 1520.38 2346.37 1523.06 Z\" fill=\"#000000\" fill-rule=\"evenodd\" fill-opacity=\"1\" /><polyline clip-path=\"url(#clip582)\" style=\"stroke:#000000; stroke-linecap:round; stroke-linejoin:round; stroke-width:2; stroke-opacity:0.1; fill:none\" points=\"\n",
       "  216.089,1342.53 2352.76,1342.53 \n",
       "  \"/>\n",
       "<polyline clip-path=\"url(#clip582)\" style=\"stroke:#000000; stroke-linecap:round; stroke-linejoin:round; stroke-width:2; stroke-opacity:0.1; fill:none\" points=\"\n",
       "  216.089,1054.69 2352.76,1054.69 \n",
       "  \"/>\n",
       "<polyline clip-path=\"url(#clip582)\" style=\"stroke:#000000; stroke-linecap:round; stroke-linejoin:round; stroke-width:2; stroke-opacity:0.1; fill:none\" points=\"\n",
       "  216.089,766.846 2352.76,766.846 \n",
       "  \"/>\n",
       "<polyline clip-path=\"url(#clip582)\" style=\"stroke:#000000; stroke-linecap:round; stroke-linejoin:round; stroke-width:2; stroke-opacity:0.1; fill:none\" points=\"\n",
       "  216.089,479.005 2352.76,479.005 \n",
       "  \"/>\n",
       "<polyline clip-path=\"url(#clip582)\" style=\"stroke:#000000; stroke-linecap:round; stroke-linejoin:round; stroke-width:2; stroke-opacity:0.1; fill:none\" points=\"\n",
       "  216.089,191.164 2352.76,191.164 \n",
       "  \"/>\n",
       "<polyline clip-path=\"url(#clip580)\" style=\"stroke:#000000; stroke-linecap:round; stroke-linejoin:round; stroke-width:4; stroke-opacity:1; fill:none\" points=\"\n",
       "  216.089,1486.45 216.089,47.2441 \n",
       "  \"/>\n",
       "<polyline clip-path=\"url(#clip580)\" style=\"stroke:#000000; stroke-linecap:round; stroke-linejoin:round; stroke-width:4; stroke-opacity:1; fill:none\" points=\"\n",
       "  216.089,1342.53 234.986,1342.53 \n",
       "  \"/>\n",
       "<polyline clip-path=\"url(#clip580)\" style=\"stroke:#000000; stroke-linecap:round; stroke-linejoin:round; stroke-width:4; stroke-opacity:1; fill:none\" points=\"\n",
       "  216.089,1054.69 234.986,1054.69 \n",
       "  \"/>\n",
       "<polyline clip-path=\"url(#clip580)\" style=\"stroke:#000000; stroke-linecap:round; stroke-linejoin:round; stroke-width:4; stroke-opacity:1; fill:none\" points=\"\n",
       "  216.089,766.846 234.986,766.846 \n",
       "  \"/>\n",
       "<polyline clip-path=\"url(#clip580)\" style=\"stroke:#000000; stroke-linecap:round; stroke-linejoin:round; stroke-width:4; stroke-opacity:1; fill:none\" points=\"\n",
       "  216.089,479.005 234.986,479.005 \n",
       "  \"/>\n",
       "<polyline clip-path=\"url(#clip580)\" style=\"stroke:#000000; stroke-linecap:round; stroke-linejoin:round; stroke-width:4; stroke-opacity:1; fill:none\" points=\"\n",
       "  216.089,191.164 234.986,191.164 \n",
       "  \"/>\n",
       "<path clip-path=\"url(#clip580)\" d=\"M53.4921 1355.87 L61.131 1355.87 L61.131 1329.51 L52.8208 1331.17 L52.8208 1326.91 L61.0847 1325.25 L65.7606 1325.25 L65.7606 1355.87 L73.3994 1355.87 L73.3994 1359.81 L53.4921 1359.81 L53.4921 1355.87 Z\" fill=\"#000000\" fill-rule=\"evenodd\" fill-opacity=\"1\" /><path clip-path=\"url(#clip580)\" d=\"M82.9827 1359.09 L82.9827 1354.83 Q84.7419 1355.66 86.5475 1356.1 Q88.353 1356.54 90.0891 1356.54 Q94.7187 1356.54 97.1493 1353.44 Q99.603 1350.32 99.9502 1343.97 Q98.6076 1345.96 96.5474 1347.03 Q94.4873 1348.09 91.9873 1348.09 Q86.8021 1348.09 83.7697 1344.97 Q80.7605 1341.82 80.7605 1336.38 Q80.7605 1331.06 83.9086 1327.84 Q87.0567 1324.62 92.2882 1324.62 Q98.2835 1324.62 101.432 1329.23 Q104.603 1333.81 104.603 1342.56 Q104.603 1350.73 100.714 1355.62 Q96.8484 1360.48 90.2975 1360.48 Q88.5382 1360.48 86.7327 1360.13 Q84.9271 1359.78 82.9827 1359.09 M92.2882 1344.44 Q95.4363 1344.44 97.265 1342.28 Q99.1169 1340.13 99.1169 1336.38 Q99.1169 1332.65 97.265 1330.5 Q95.4363 1328.33 92.2882 1328.33 Q89.1401 1328.33 87.2882 1330.5 Q85.4595 1332.65 85.4595 1336.38 Q85.4595 1340.13 87.2882 1342.28 Q89.1401 1344.44 92.2882 1344.44 Z\" fill=\"#000000\" fill-rule=\"evenodd\" fill-opacity=\"1\" /><path clip-path=\"url(#clip580)\" d=\"M113.006 1353.93 L117.89 1353.93 L117.89 1359.81 L113.006 1359.81 L113.006 1353.93 Z\" fill=\"#000000\" fill-rule=\"evenodd\" fill-opacity=\"1\" /><path clip-path=\"url(#clip580)\" d=\"M128.214 1359.09 L128.214 1354.83 Q129.973 1355.66 131.779 1356.1 Q133.584 1356.54 135.32 1356.54 Q139.95 1356.54 142.381 1353.44 Q144.834 1350.32 145.181 1343.97 Q143.839 1345.96 141.779 1347.03 Q139.719 1348.09 137.219 1348.09 Q132.033 1348.09 129.001 1344.97 Q125.992 1341.82 125.992 1336.38 Q125.992 1331.06 129.14 1327.84 Q132.288 1324.62 137.519 1324.62 Q143.515 1324.62 146.663 1329.23 Q149.834 1333.81 149.834 1342.56 Q149.834 1350.73 145.945 1355.62 Q142.08 1360.48 135.529 1360.48 Q133.769 1360.48 131.964 1360.13 Q130.158 1359.78 128.214 1359.09 M137.519 1344.44 Q140.668 1344.44 142.496 1342.28 Q144.348 1340.13 144.348 1336.38 Q144.348 1332.65 142.496 1330.5 Q140.668 1328.33 137.519 1328.33 Q134.371 1328.33 132.519 1330.5 Q130.691 1332.65 130.691 1336.38 Q130.691 1340.13 132.519 1342.28 Q134.371 1344.44 137.519 1344.44 Z\" fill=\"#000000\" fill-rule=\"evenodd\" fill-opacity=\"1\" /><path clip-path=\"url(#clip580)\" d=\"M168.237 1343.4 Q164.904 1343.4 162.982 1345.18 Q161.084 1346.96 161.084 1350.09 Q161.084 1353.21 162.982 1354.99 Q164.904 1356.78 168.237 1356.78 Q171.57 1356.78 173.491 1354.99 Q175.413 1353.19 175.413 1350.09 Q175.413 1346.96 173.491 1345.18 Q171.593 1343.4 168.237 1343.4 M163.561 1341.4 Q160.552 1340.66 158.862 1338.6 Q157.195 1336.54 157.195 1333.58 Q157.195 1329.44 160.135 1327.03 Q163.098 1324.62 168.237 1324.62 Q173.399 1324.62 176.339 1327.03 Q179.278 1329.44 179.278 1333.58 Q179.278 1336.54 177.589 1338.6 Q175.922 1340.66 172.936 1341.4 Q176.316 1342.19 178.191 1344.48 Q180.089 1346.78 180.089 1350.09 Q180.089 1355.11 177.01 1357.79 Q173.954 1360.48 168.237 1360.48 Q162.519 1360.48 159.441 1357.79 Q156.385 1355.11 156.385 1350.09 Q156.385 1346.78 158.283 1344.48 Q160.181 1342.19 163.561 1341.4 M161.848 1334.02 Q161.848 1336.71 163.515 1338.21 Q165.204 1339.72 168.237 1339.72 Q171.246 1339.72 172.936 1338.21 Q174.649 1336.71 174.649 1334.02 Q174.649 1331.34 172.936 1329.83 Q171.246 1328.33 168.237 1328.33 Q165.204 1328.33 163.515 1329.83 Q161.848 1331.34 161.848 1334.02 Z\" fill=\"#000000\" fill-rule=\"evenodd\" fill-opacity=\"1\" /><path clip-path=\"url(#clip580)\" d=\"M53.5847 1068.03 L61.2236 1068.03 L61.2236 1041.67 L52.9134 1043.33 L52.9134 1039.07 L61.1773 1037.41 L65.8532 1037.41 L65.8532 1068.03 L73.492 1068.03 L73.492 1071.97 L53.5847 1071.97 L53.5847 1068.03 Z\" fill=\"#000000\" fill-rule=\"evenodd\" fill-opacity=\"1\" /><path clip-path=\"url(#clip580)\" d=\"M83.0753 1071.25 L83.0753 1066.99 Q84.8345 1067.82 86.6401 1068.26 Q88.4456 1068.7 90.1817 1068.7 Q94.8113 1068.7 97.2419 1065.6 Q99.6956 1062.48 100.043 1056.13 Q98.7002 1058.12 96.64 1059.19 Q94.5799 1060.25 92.0799 1060.25 Q86.8947 1060.25 83.8623 1057.13 Q80.8531 1053.98 80.8531 1048.54 Q80.8531 1043.22 84.0012 1040 Q87.1493 1036.78 92.3808 1036.78 Q98.3761 1036.78 101.524 1041.39 Q104.696 1045.97 104.696 1054.72 Q104.696 1062.89 100.807 1067.78 Q96.941 1072.64 90.3901 1072.64 Q88.6308 1072.64 86.8253 1072.29 Q85.0197 1071.94 83.0753 1071.25 M92.3808 1056.6 Q95.5289 1056.6 97.3576 1054.44 Q99.2095 1052.29 99.2095 1048.54 Q99.2095 1044.81 97.3576 1042.66 Q95.5289 1040.49 92.3808 1040.49 Q89.2327 1040.49 87.3808 1042.66 Q85.5521 1044.81 85.5521 1048.54 Q85.5521 1052.29 87.3808 1054.44 Q89.2327 1056.6 92.3808 1056.6 Z\" fill=\"#000000\" fill-rule=\"evenodd\" fill-opacity=\"1\" /><path clip-path=\"url(#clip580)\" d=\"M113.098 1066.09 L117.983 1066.09 L117.983 1071.97 L113.098 1071.97 L113.098 1066.09 Z\" fill=\"#000000\" fill-rule=\"evenodd\" fill-opacity=\"1\" /><path clip-path=\"url(#clip580)\" d=\"M128.307 1071.25 L128.307 1066.99 Q130.066 1067.82 131.871 1068.26 Q133.677 1068.7 135.413 1068.7 Q140.043 1068.7 142.473 1065.6 Q144.927 1062.48 145.274 1056.13 Q143.931 1058.12 141.871 1059.19 Q139.811 1060.25 137.311 1060.25 Q132.126 1060.25 129.094 1057.13 Q126.084 1053.98 126.084 1048.54 Q126.084 1043.22 129.232 1040 Q132.381 1036.78 137.612 1036.78 Q143.607 1036.78 146.756 1041.39 Q149.927 1045.97 149.927 1054.72 Q149.927 1062.89 146.038 1067.78 Q142.172 1072.64 135.621 1072.64 Q133.862 1072.64 132.057 1072.29 Q130.251 1071.94 128.307 1071.25 M137.612 1056.6 Q140.76 1056.6 142.589 1054.44 Q144.441 1052.29 144.441 1048.54 Q144.441 1044.81 142.589 1042.66 Q140.76 1040.49 137.612 1040.49 Q134.464 1040.49 132.612 1042.66 Q130.783 1044.81 130.783 1048.54 Q130.783 1052.29 132.612 1054.44 Q134.464 1056.6 137.612 1056.6 Z\" fill=\"#000000\" fill-rule=\"evenodd\" fill-opacity=\"1\" /><path clip-path=\"url(#clip580)\" d=\"M158.468 1071.25 L158.468 1066.99 Q160.228 1067.82 162.033 1068.26 Q163.839 1068.7 165.575 1068.7 Q170.204 1068.7 172.635 1065.6 Q175.089 1062.48 175.436 1056.13 Q174.093 1058.12 172.033 1059.19 Q169.973 1060.25 167.473 1060.25 Q162.288 1060.25 159.255 1057.13 Q156.246 1053.98 156.246 1048.54 Q156.246 1043.22 159.394 1040 Q162.542 1036.78 167.774 1036.78 Q173.769 1036.78 176.917 1041.39 Q180.089 1045.97 180.089 1054.72 Q180.089 1062.89 176.2 1067.78 Q172.334 1072.64 165.783 1072.64 Q164.024 1072.64 162.218 1072.29 Q160.413 1071.94 158.468 1071.25 M167.774 1056.6 Q170.922 1056.6 172.751 1054.44 Q174.603 1052.29 174.603 1048.54 Q174.603 1044.81 172.751 1042.66 Q170.922 1040.49 167.774 1040.49 Q164.626 1040.49 162.774 1042.66 Q160.945 1044.81 160.945 1048.54 Q160.945 1052.29 162.774 1054.44 Q164.626 1056.6 167.774 1056.6 Z\" fill=\"#000000\" fill-rule=\"evenodd\" fill-opacity=\"1\" /><path clip-path=\"url(#clip580)\" d=\"M56.6171 780.191 L72.9365 780.191 L72.9365 784.126 L50.9921 784.126 L50.9921 780.191 Q53.6541 777.436 58.2375 772.807 Q62.8439 768.154 64.0245 766.811 Q66.2698 764.288 67.1494 762.552 Q68.0522 760.793 68.0522 759.103 Q68.0522 756.348 66.1078 754.612 Q64.1865 752.876 61.0847 752.876 Q58.8856 752.876 56.4319 753.64 Q54.0014 754.404 51.2236 755.955 L51.2236 751.233 Q54.0477 750.098 56.5014 749.52 Q58.955 748.941 60.9921 748.941 Q66.3624 748.941 69.5568 751.626 Q72.7513 754.311 72.7513 758.802 Q72.7513 760.932 71.9411 762.853 Q71.1541 764.751 69.0476 767.344 Q68.4689 768.015 65.367 771.233 Q62.2652 774.427 56.6171 780.191 Z\" fill=\"#000000\" fill-rule=\"evenodd\" fill-opacity=\"1\" /><path clip-path=\"url(#clip580)\" d=\"M92.7512 752.645 Q89.1401 752.645 87.3114 756.209 Q85.5058 759.751 85.5058 766.881 Q85.5058 773.987 87.3114 777.552 Q89.1401 781.094 92.7512 781.094 Q96.3854 781.094 98.1909 777.552 Q100.02 773.987 100.02 766.881 Q100.02 759.751 98.1909 756.209 Q96.3854 752.645 92.7512 752.645 M92.7512 748.941 Q98.5613 748.941 101.617 753.547 Q104.696 758.131 104.696 766.881 Q104.696 775.608 101.617 780.214 Q98.5613 784.797 92.7512 784.797 Q86.941 784.797 83.8623 780.214 Q80.8068 775.608 80.8068 766.881 Q80.8068 758.131 83.8623 753.547 Q86.941 748.941 92.7512 748.941 Z\" fill=\"#000000\" fill-rule=\"evenodd\" fill-opacity=\"1\" /><path clip-path=\"url(#clip580)\" d=\"M112.913 778.246 L117.797 778.246 L117.797 784.126 L112.913 784.126 L112.913 778.246 Z\" fill=\"#000000\" fill-rule=\"evenodd\" fill-opacity=\"1\" /><path clip-path=\"url(#clip580)\" d=\"M137.982 752.645 Q134.371 752.645 132.543 756.209 Q130.737 759.751 130.737 766.881 Q130.737 773.987 132.543 777.552 Q134.371 781.094 137.982 781.094 Q141.617 781.094 143.422 777.552 Q145.251 773.987 145.251 766.881 Q145.251 759.751 143.422 756.209 Q141.617 752.645 137.982 752.645 M137.982 748.941 Q143.793 748.941 146.848 753.547 Q149.927 758.131 149.927 766.881 Q149.927 775.608 146.848 780.214 Q143.793 784.797 137.982 784.797 Q132.172 784.797 129.094 780.214 Q126.038 775.608 126.038 766.881 Q126.038 758.131 129.094 753.547 Q132.172 748.941 137.982 748.941 Z\" fill=\"#000000\" fill-rule=\"evenodd\" fill-opacity=\"1\" /><path clip-path=\"url(#clip580)\" d=\"M168.144 752.645 Q164.533 752.645 162.704 756.209 Q160.899 759.751 160.899 766.881 Q160.899 773.987 162.704 777.552 Q164.533 781.094 168.144 781.094 Q171.779 781.094 173.584 777.552 Q175.413 773.987 175.413 766.881 Q175.413 759.751 173.584 756.209 Q171.779 752.645 168.144 752.645 M168.144 748.941 Q173.954 748.941 177.01 753.547 Q180.089 758.131 180.089 766.881 Q180.089 775.608 177.01 780.214 Q173.954 784.797 168.144 784.797 Q162.334 784.797 159.255 780.214 Q156.2 775.608 156.2 766.881 Q156.2 758.131 159.255 753.547 Q162.334 748.941 168.144 748.941 Z\" fill=\"#000000\" fill-rule=\"evenodd\" fill-opacity=\"1\" /><path clip-path=\"url(#clip580)\" d=\"M57.8439 492.35 L74.1633 492.35 L74.1633 496.285 L52.219 496.285 L52.219 492.35 Q54.881 489.595 59.4643 484.966 Q64.0708 480.313 65.2513 478.971 Q67.4967 476.447 68.3763 474.711 Q69.2791 472.952 69.2791 471.262 Q69.2791 468.508 67.3346 466.771 Q65.4133 465.035 62.3115 465.035 Q60.1124 465.035 57.6588 465.799 Q55.2282 466.563 52.4505 468.114 L52.4505 463.392 Q55.2745 462.258 57.7282 461.679 Q60.1819 461.1 62.2189 461.1 Q67.5893 461.1 70.7837 463.785 Q73.9781 466.471 73.9781 470.961 Q73.9781 473.091 73.1679 475.012 Q72.3809 476.91 70.2744 479.503 Q69.6957 480.174 66.5939 483.392 Q63.4921 486.586 57.8439 492.35 Z\" fill=\"#000000\" fill-rule=\"evenodd\" fill-opacity=\"1\" /><path clip-path=\"url(#clip580)\" d=\"M93.978 464.804 Q90.3669 464.804 88.5382 468.369 Q86.7327 471.91 86.7327 479.04 Q86.7327 486.146 88.5382 489.711 Q90.3669 493.253 93.978 493.253 Q97.6122 493.253 99.4178 489.711 Q101.246 486.146 101.246 479.04 Q101.246 471.91 99.4178 468.369 Q97.6122 464.804 93.978 464.804 M93.978 461.1 Q99.7882 461.1 102.844 465.707 Q105.922 470.29 105.922 479.04 Q105.922 487.767 102.844 492.373 Q99.7882 496.957 93.978 496.957 Q88.1679 496.957 85.0892 492.373 Q82.0336 487.767 82.0336 479.04 Q82.0336 470.29 85.0892 465.707 Q88.1679 461.1 93.978 461.1 Z\" fill=\"#000000\" fill-rule=\"evenodd\" fill-opacity=\"1\" /><path clip-path=\"url(#clip580)\" d=\"M114.14 490.406 L119.024 490.406 L119.024 496.285 L114.14 496.285 L114.14 490.406 Z\" fill=\"#000000\" fill-rule=\"evenodd\" fill-opacity=\"1\" /><path clip-path=\"url(#clip580)\" d=\"M139.209 464.804 Q135.598 464.804 133.769 468.369 Q131.964 471.91 131.964 479.04 Q131.964 486.146 133.769 489.711 Q135.598 493.253 139.209 493.253 Q142.843 493.253 144.649 489.711 Q146.478 486.146 146.478 479.04 Q146.478 471.91 144.649 468.369 Q142.843 464.804 139.209 464.804 M139.209 461.1 Q145.019 461.1 148.075 465.707 Q151.154 470.29 151.154 479.04 Q151.154 487.767 148.075 492.373 Q145.019 496.957 139.209 496.957 Q133.399 496.957 130.32 492.373 Q127.265 487.767 127.265 479.04 Q127.265 470.29 130.32 465.707 Q133.399 461.1 139.209 461.1 Z\" fill=\"#000000\" fill-rule=\"evenodd\" fill-opacity=\"1\" /><path clip-path=\"url(#clip580)\" d=\"M160.181 492.35 L167.82 492.35 L167.82 465.984 L159.51 467.651 L159.51 463.392 L167.774 461.725 L172.45 461.725 L172.45 492.35 L180.089 492.35 L180.089 496.285 L160.181 496.285 L160.181 492.35 Z\" fill=\"#000000\" fill-rule=\"evenodd\" fill-opacity=\"1\" /><path clip-path=\"url(#clip580)\" d=\"M58.2143 204.509 L74.5337 204.509 L74.5337 208.444 L52.5893 208.444 L52.5893 204.509 Q55.2514 201.755 59.8347 197.125 Q64.4411 192.472 65.6217 191.13 Q67.867 188.607 68.7467 186.871 Q69.6494 185.111 69.6494 183.421 Q69.6494 180.667 67.705 178.931 Q65.7837 177.195 62.6819 177.195 Q60.4828 177.195 58.0291 177.959 Q55.5986 178.722 52.8208 180.273 L52.8208 175.551 Q55.6449 174.417 58.0986 173.838 Q60.5523 173.259 62.5893 173.259 Q67.9596 173.259 71.1541 175.945 Q74.3485 178.63 74.3485 183.121 Q74.3485 185.25 73.5383 187.171 Q72.7513 189.07 70.6448 191.662 Q70.0661 192.333 66.9643 195.551 Q63.8624 198.745 58.2143 204.509 Z\" fill=\"#000000\" fill-rule=\"evenodd\" fill-opacity=\"1\" /><path clip-path=\"url(#clip580)\" d=\"M94.3484 176.963 Q90.7373 176.963 88.9086 180.528 Q87.103 184.07 87.103 191.199 Q87.103 198.306 88.9086 201.87 Q90.7373 205.412 94.3484 205.412 Q97.9826 205.412 99.7882 201.87 Q101.617 198.306 101.617 191.199 Q101.617 184.07 99.7882 180.528 Q97.9826 176.963 94.3484 176.963 M94.3484 173.259 Q100.159 173.259 103.214 177.866 Q106.293 182.449 106.293 191.199 Q106.293 199.926 103.214 204.532 Q100.159 209.116 94.3484 209.116 Q88.5382 209.116 85.4595 204.532 Q82.404 199.926 82.404 191.199 Q82.404 182.449 85.4595 177.866 Q88.5382 173.259 94.3484 173.259 Z\" fill=\"#000000\" fill-rule=\"evenodd\" fill-opacity=\"1\" /><path clip-path=\"url(#clip580)\" d=\"M114.51 202.565 L119.395 202.565 L119.395 208.444 L114.51 208.444 L114.51 202.565 Z\" fill=\"#000000\" fill-rule=\"evenodd\" fill-opacity=\"1\" /><path clip-path=\"url(#clip580)\" d=\"M139.58 176.963 Q135.969 176.963 134.14 180.528 Q132.334 184.07 132.334 191.199 Q132.334 198.306 134.14 201.87 Q135.969 205.412 139.58 205.412 Q143.214 205.412 145.019 201.87 Q146.848 198.306 146.848 191.199 Q146.848 184.07 145.019 180.528 Q143.214 176.963 139.58 176.963 M139.58 173.259 Q145.39 173.259 148.445 177.866 Q151.524 182.449 151.524 191.199 Q151.524 199.926 148.445 204.532 Q145.39 209.116 139.58 209.116 Q133.769 209.116 130.691 204.532 Q127.635 199.926 127.635 191.199 Q127.635 182.449 130.691 177.866 Q133.769 173.259 139.58 173.259 Z\" fill=\"#000000\" fill-rule=\"evenodd\" fill-opacity=\"1\" /><path clip-path=\"url(#clip580)\" d=\"M163.769 204.509 L180.089 204.509 L180.089 208.444 L158.144 208.444 L158.144 204.509 Q160.806 201.755 165.39 197.125 Q169.996 192.472 171.177 191.13 Q173.422 188.607 174.302 186.871 Q175.204 185.111 175.204 183.421 Q175.204 180.667 173.26 178.931 Q171.339 177.195 168.237 177.195 Q166.038 177.195 163.584 177.959 Q161.154 178.722 158.376 180.273 L158.376 175.551 Q161.2 174.417 163.654 173.838 Q166.107 173.259 168.144 173.259 Q173.515 173.259 176.709 175.945 Q179.903 178.63 179.903 183.121 Q179.903 185.25 179.093 187.171 Q178.306 189.07 176.2 191.662 Q175.621 192.333 172.519 195.551 Q169.417 198.745 163.769 204.509 Z\" fill=\"#000000\" fill-rule=\"evenodd\" fill-opacity=\"1\" /><polyline clip-path=\"url(#clip582)\" style=\"stroke:#009af9; stroke-linecap:round; stroke-linejoin:round; stroke-width:4; stroke-opacity:1; fill:none\" points=\"\n",
       "  616.714,-4932.7 643.422,-3934.61 670.13,-3158.57 696.839,-2546.38 723.547,-2057.25 750.255,-1661.99 776.964,-1339.34 803.672,-1073.56 830.38,-852.809 857.089,-668.095 \n",
       "  883.797,-512.47 910.506,-380.525 937.214,-268 963.922,-171.512 990.631,-88.351 1017.34,-16.3287 1044.05,46.3322 1070.76,101.085 1097.46,149.125 1124.17,191.442 \n",
       "  1150.88,228.855 1177.59,262.052 1204.3,291.608 1231.01,318.006 1257.71,341.657 1284.42,362.91 1311.13,382.061 1337.84,399.364 1364.55,415.037 1391.26,429.268 \n",
       "  1417.96,442.221 1444.67,454.036 1471.38,464.835 1498.09,474.727 1524.8,483.805 1551.51,492.151 1578.21,499.839 1604.92,506.932 1631.63,513.486 1658.34,519.554 \n",
       "  1685.05,525.178 1711.76,530.399 1738.46,535.253 1765.17,539.771 1791.88,543.982 1818.59,547.913 1845.3,551.585 1872.01,555.021 1898.71,558.238 1925.42,561.255 \n",
       "  1952.13,564.086 1978.84,566.745 2005.55,569.246 2032.26,571.601 2058.96,573.819 2085.67,575.91 2112.38,577.884 2139.09,579.749 2165.8,581.512 2192.51,583.18 \n",
       "  2219.21,584.759 2245.92,586.256 2272.63,587.675 2299.34,589.021 2326.05,590.3 2352.76,591.515 \n",
       "  \"/>\n",
       "<polyline clip-path=\"url(#clip582)\" style=\"stroke:#e26f46; stroke-linecap:round; stroke-linejoin:round; stroke-width:4; stroke-opacity:1; fill:none\" points=\"\n",
       "  616.714,-4928.35 643.422,-3929.46 670.13,-3152.56 696.839,-2539.48 723.547,-2049.44 750.255,-1653.27 776.964,-1329.72 803.672,-1063.07 830.38,-841.523 857.089,-656.081 \n",
       "  883.797,-499.82 910.506,-367.342 937.214,-254.397 963.922,-157.604 990.631,-74.2507 1017.34,-2.1458 1044.05,60.4963 1070.76,115.139 1097.46,162.99 1124.17,205.049 \n",
       "  1150.88,242.151 1177.59,274.991 1204.3,304.156 1231.01,330.141 1257.71,353.363 1284.42,374.177 1311.13,392.887 1337.84,409.751 1364.55,424.991 1391.26,438.799 \n",
       "  1417.96,451.338 1444.67,462.753 1471.38,473.166 1498.09,482.687 1524.8,491.408 1551.51,499.414 1578.21,506.776 1604.92,513.558 1631.63,519.817 1658.34,525.602 \n",
       "  1685.05,530.959 1711.76,535.925 1738.46,540.538 1765.17,544.827 1791.88,548.82 1818.59,552.544 1845.3,556.02 1872.01,559.269 1898.71,562.31 1925.42,565.158 \n",
       "  1952.13,567.83 1978.84,570.338 2005.55,572.695 2032.26,574.913 2058.96,577.001 2085.67,578.969 2112.38,580.825 2139.09,582.578 2165.8,584.234 2192.51,585.8 \n",
       "  2219.21,587.283 2245.92,588.687 2272.63,590.018 2299.34,591.28 2326.05,592.479 2352.76,593.617 \n",
       "  \"/>\n",
       "<polyline clip-path=\"url(#clip582)\" style=\"stroke:#3da44d; stroke-linecap:round; stroke-linejoin:round; stroke-width:4; stroke-opacity:1; fill:none\" points=\"\n",
       "  616.714,-4928.35 643.422,-3929.46 670.13,-3152.56 696.839,-2539.48 723.547,-2049.44 750.255,-1653.27 776.964,-1329.72 803.672,-1063.07 830.38,-841.523 857.089,-656.081 \n",
       "  883.797,-499.82 910.506,-367.342 937.214,-254.397 963.922,-157.604 990.631,-74.2507 1017.34,-2.1458 1044.05,60.4963 1070.76,115.139 1097.46,162.99 1124.17,205.049 \n",
       "  1150.88,242.151 1177.59,274.991 1204.3,304.156 1231.01,330.141 1257.71,353.363 1284.42,374.177 1311.13,392.887 1337.84,409.751 1364.55,424.991 1391.26,438.799 \n",
       "  1417.96,451.338 1444.67,462.753 1471.38,473.166 1498.09,482.687 1524.8,491.408 1551.51,499.414 1578.21,506.776 1604.92,513.558 1631.63,519.817 1658.34,525.602 \n",
       "  1685.05,530.959 1711.76,535.925 1738.46,540.538 1765.17,544.827 1791.88,548.82 1818.59,552.544 1845.3,556.02 1872.01,559.269 1898.71,562.31 1925.42,565.158 \n",
       "  1952.13,567.83 1978.84,570.338 2005.55,572.695 2032.26,574.913 2058.96,577.001 2085.67,578.969 2112.38,580.825 2139.09,582.578 2165.8,584.234 2192.51,585.8 \n",
       "  2219.21,587.283 2245.92,588.687 2272.63,590.018 2299.34,591.28 2326.05,592.479 2352.76,593.617 \n",
       "  \"/>\n",
       "<polyline clip-path=\"url(#clip582)\" style=\"stroke:#c271d2; stroke-linecap:round; stroke-linejoin:round; stroke-width:4; stroke-opacity:1; fill:none\" points=\"\n",
       "  616.714,-4923.67 643.422,-3923.83 670.13,-3145.89 696.839,-2531.66 723.547,-2040.37 750.255,-1642.87 776.964,-1317.91 803.672,-1049.79 830.38,-826.72 857.089,-639.731 \n",
       "  883.797,-481.918 910.506,-347.905 937.214,-233.464 963.922,-135.238 990.631,-50.5383 1017.34,22.809 1044.05,86.5722 1070.76,142.202 1097.46,190.895 1124.17,233.648 \n",
       "  1150.88,271.292 1177.59,304.526 1204.3,333.942 1231.01,360.041 1257.71,383.249 1284.42,403.934 1311.13,422.41 1337.84,438.946 1364.55,453.778 1391.26,467.108 \n",
       "  1417.96,479.112 1444.67,489.942 1471.38,499.733 1498.09,508.601 1524.8,516.649 1551.51,523.965 1578.21,530.629 1604.92,536.71 1631.63,542.267 1658.34,547.356 \n",
       "  1685.05,552.024 1711.76,556.312 1738.46,560.259 1765.17,563.896 1791.88,567.254 1818.59,570.358 1845.3,573.232 1872.01,575.897 1898.71,578.372 1925.42,580.673 \n",
       "  1952.13,582.815 1978.84,584.812 2005.55,586.675 2032.26,588.417 2058.96,590.047 2085.67,591.574 2112.38,593.005 2139.09,594.349 2165.8,595.612 2192.51,596.799 \n",
       "  2219.21,597.918 2245.92,598.972 2272.63,599.966 2299.34,600.906 2326.05,601.793 2352.76,602.632 \n",
       "  \"/>\n",
       "<polyline clip-path=\"url(#clip582)\" style=\"stroke:#ac8d18; stroke-linecap:round; stroke-linejoin:round; stroke-width:4; stroke-opacity:1; fill:none\" points=\"\n",
       "  616.714,-2219.95 643.422,-1719.53 670.13,-1329.99 696.839,-1022.25 723.547,-775.921 750.255,-576.411 776.964,-413.106 803.672,-278.154 830.38,-165.658 857.089,-71.1349 \n",
       "  883.797,8.86533 910.506,77.0283 937.214,135.465 963.922,185.85 990.631,229.523 1017.34,267.567 1044.05,300.859 1070.76,330.119 1097.46,355.939 1124.17,378.811 \n",
       "  1150.88,399.143 1177.59,417.278 1204.3,433.506 1231.01,448.07 1257.71,461.178 1284.42,473.009 1311.13,483.713 1337.84,493.422 1364.55,502.248 1391.26,510.291 \n",
       "  1417.96,517.634 1444.67,524.353 1471.38,530.512 1498.09,536.168 1524.8,541.372 1551.51,546.168 1578.21,550.595 1604.92,554.688 1631.63,558.478 1658.34,561.993 \n",
       "  1685.05,565.257 1711.76,568.291 1738.46,571.116 1765.17,573.75 1791.88,576.209 1818.59,578.506 1845.3,580.655 1872.01,582.667 1898.71,584.554 1925.42,586.325 \n",
       "  1952.13,587.988 1978.84,589.552 2005.55,591.024 2032.26,592.411 2058.96,593.719 2085.67,594.953 2112.38,596.118 2139.09,597.22 2165.8,598.262 2192.51,599.248 \n",
       "  2219.21,600.183 2245.92,601.069 2272.63,601.909 2299.34,602.707 2326.05,603.465 2352.76,604.186 \n",
       "  \"/>\n",
       "<polyline clip-path=\"url(#clip582)\" style=\"stroke:#00a9ad; stroke-linecap:round; stroke-linejoin:round; stroke-width:4; stroke-opacity:1; fill:none\" points=\"\n",
       "  616.714,-2219.95 643.422,-1719.53 670.13,-1329.99 696.839,-1022.25 723.547,-775.921 750.255,-576.411 776.964,-413.106 803.672,-278.154 830.38,-165.658 857.089,-71.1349 \n",
       "  883.797,8.86533 910.506,77.0283 937.214,135.465 963.922,185.85 990.631,229.523 1017.34,267.567 1044.05,300.859 1070.76,330.119 1097.46,355.939 1124.17,378.811 \n",
       "  1150.88,399.143 1177.59,417.278 1204.3,433.506 1231.01,448.07 1257.71,461.178 1284.42,473.009 1311.13,483.713 1337.84,493.422 1364.55,502.248 1391.26,510.291 \n",
       "  1417.96,517.634 1444.67,524.353 1471.38,530.512 1498.09,536.168 1524.8,541.372 1551.51,546.168 1578.21,550.595 1604.92,554.688 1631.63,558.478 1658.34,561.993 \n",
       "  1685.05,565.257 1711.76,568.291 1738.46,571.116 1765.17,573.75 1791.88,576.209 1818.59,578.506 1845.3,580.655 1872.01,582.667 1898.71,584.554 1925.42,586.325 \n",
       "  1952.13,587.988 1978.84,589.552 2005.55,591.024 2032.26,592.411 2058.96,593.719 2085.67,594.953 2112.38,596.118 2139.09,597.22 2165.8,598.262 2192.51,599.248 \n",
       "  2219.21,600.183 2245.92,601.069 2272.63,601.909 2299.34,602.707 2326.05,603.465 2352.76,604.186 \n",
       "  \"/>\n",
       "<polyline clip-path=\"url(#clip582)\" style=\"stroke:#ed5d92; stroke-linecap:round; stroke-linejoin:round; stroke-width:4; stroke-opacity:1; fill:none\" points=\"\n",
       "  616.714,-2081.97 643.422,-1582.79 670.13,-1194.64 696.839,-888.446 723.547,-643.812 750.255,-446.16 776.964,-284.874 803.672,-152.097 830.38,-41.931 857.089,50.1126 \n",
       "  883.797,127.492 910.506,192.902 937.214,248.465 963.922,295.867 990.631,336.465 1017.34,371.354 1044.05,401.43 1070.76,427.429 1097.46,449.961 1124.17,469.534 \n",
       "  1150.88,486.574 1177.59,501.438 1204.3,514.432 1231.01,525.811 1257.71,535.796 1284.42,544.574 1311.13,552.305 1337.84,559.127 1364.55,565.159 1391.26,570.503 \n",
       "  1417.96,575.246 1444.67,579.464 1471.38,583.223 1498.09,586.58 1524.8,589.583 1551.51,592.275 1578.21,594.694 1604.92,596.871 1631.63,598.835 1658.34,600.609 \n",
       "  1685.05,602.215 1711.76,603.673 1738.46,604.997 1765.17,606.204 1791.88,607.304 1818.59,608.309 1845.3,609.23 1872.01,610.074 1898.71,610.849 1925.42,611.563 \n",
       "  1952.13,612.22 1978.84,612.827 2005.55,613.388 2032.26,613.907 2058.96,614.389 2085.67,614.836 2112.38,615.251 2139.09,615.638 2165.8,615.999 2192.51,616.335 \n",
       "  2219.21,616.65 2245.92,616.944 2272.63,617.219 2299.34,617.478 2326.05,617.72 2352.76,617.948 \n",
       "  \"/>\n",
       "<polyline clip-path=\"url(#clip582)\" style=\"stroke:#c68125; stroke-linecap:round; stroke-linejoin:round; stroke-width:4; stroke-opacity:1; fill:none\" points=\"\n",
       "  616.714,-2081.97 643.422,-1582.79 670.13,-1194.64 696.839,-888.446 723.547,-643.812 750.255,-446.16 776.964,-284.874 803.672,-152.097 830.38,-41.931 857.089,50.1126 \n",
       "  883.797,127.492 910.506,192.902 937.214,248.465 963.922,295.867 990.631,336.465 1017.34,371.354 1044.05,401.43 1070.76,427.429 1097.46,449.961 1124.17,469.534 \n",
       "  1150.88,486.574 1177.59,501.438 1204.3,514.432 1231.01,525.811 1257.71,535.796 1284.42,544.574 1311.13,552.305 1337.84,559.127 1364.55,565.159 1391.26,570.503 \n",
       "  1417.96,575.246 1444.67,579.464 1471.38,583.223 1498.09,586.58 1524.8,589.583 1551.51,592.275 1578.21,594.694 1604.92,596.871 1631.63,598.835 1658.34,600.609 \n",
       "  1685.05,602.215 1711.76,603.673 1738.46,604.997 1765.17,606.204 1791.88,607.304 1818.59,608.309 1845.3,609.23 1872.01,610.074 1898.71,610.849 1925.42,611.563 \n",
       "  1952.13,612.22 1978.84,612.827 2005.55,613.388 2032.26,613.907 2058.96,614.389 2085.67,614.836 2112.38,615.251 2139.09,615.638 2165.8,615.999 2192.51,616.335 \n",
       "  2219.21,616.65 2245.92,616.944 2272.63,617.219 2299.34,617.478 2326.05,617.72 2352.76,617.948 \n",
       "  \"/>\n",
       "<polyline clip-path=\"url(#clip582)\" style=\"stroke:#00a98d; stroke-linecap:round; stroke-linejoin:round; stroke-width:4; stroke-opacity:1; fill:none\" points=\"\n",
       "  616.714,-2072.77 643.422,-1571.76 670.13,-1181.59 696.839,-873.208 723.547,-626.224 750.255,-426.083 776.964,-262.193 803.672,-126.729 830.38,-13.832 857.089,80.9452 \n",
       "  883.797,161.013 910.506,229.017 937.214,287.027 963.922,336.682 990.631,379.291 1017.34,415.909 1044.05,447.401 1070.76,474.479 1097.46,497.743 1124.17,517.701 \n",
       "  1150.88,534.79 1177.59,549.388 1204.3,561.829 1231.01,572.403 1257.71,581.369 1284.42,588.952 1311.13,595.351 1337.84,600.74 1364.55,605.269 1391.26,609.068 \n",
       "  1417.96,612.25 1444.67,614.91 1471.38,617.13 1498.09,618.979 1524.8,620.515 1551.51,621.79 1578.21,622.843 1604.92,623.711 1631.63,624.422 1658.34,625.002 \n",
       "  1685.05,625.472 1711.76,625.85 1738.46,626.149 1765.17,626.383 1791.88,626.563 1818.59,626.696 1845.3,626.791 1872.01,626.854 1898.71,626.889 1925.42,626.903 \n",
       "  1952.13,626.898 1978.84,626.877 2005.55,626.844 2032.26,626.8 2058.96,626.749 2085.67,626.69 2112.38,626.626 2139.09,626.558 2165.8,626.487 2192.51,626.414 \n",
       "  2219.21,626.339 2245.92,626.263 2272.63,626.187 2299.34,626.11 2326.05,626.034 2352.76,625.958 \n",
       "  \"/>\n",
       "<polyline clip-path=\"url(#clip582)\" style=\"stroke:#8e971d; stroke-linecap:round; stroke-linejoin:round; stroke-width:4; stroke-opacity:1; fill:none\" points=\"\n",
       "  616.714,-2072.77 643.422,-1571.76 670.13,-1181.59 696.839,-873.208 723.547,-626.224 750.255,-426.083 776.964,-262.193 803.672,-126.729 830.38,-13.832 857.089,80.9452 \n",
       "  883.797,161.013 910.506,229.017 937.214,287.027 963.922,336.682 990.631,379.291 1017.34,415.909 1044.05,447.401 1070.76,474.479 1097.46,497.743 1124.17,517.701 \n",
       "  1150.88,534.79 1177.59,549.388 1204.3,561.829 1231.01,572.403 1257.71,581.369 1284.42,588.952 1311.13,595.351 1337.84,600.74 1364.55,605.269 1391.26,609.068 \n",
       "  1417.96,612.25 1444.67,614.91 1471.38,617.13 1498.09,618.979 1524.8,620.515 1551.51,621.79 1578.21,622.843 1604.92,623.711 1631.63,624.422 1658.34,625.002 \n",
       "  1685.05,625.472 1711.76,625.85 1738.46,626.149 1765.17,626.383 1791.88,626.563 1818.59,626.696 1845.3,626.791 1872.01,626.854 1898.71,626.889 1925.42,626.903 \n",
       "  1952.13,626.898 1978.84,626.877 2005.55,626.844 2032.26,626.8 2058.96,626.749 2085.67,626.69 2112.38,626.626 2139.09,626.558 2165.8,626.487 2192.51,626.414 \n",
       "  2219.21,626.339 2245.92,626.263 2272.63,626.187 2299.34,626.11 2326.05,626.034 2352.76,625.958 \n",
       "  \"/>\n",
       "<polyline clip-path=\"url(#clip582)\" style=\"stroke:#00a8cb; stroke-linecap:round; stroke-linejoin:round; stroke-width:4; stroke-opacity:1; fill:none\" points=\"\n",
       "  616.714,-1937.04 643.422,-1437.7 670.13,-1049.39 696.839,-743.044 723.547,-498.277 750.255,-300.522 776.964,-139.176 803.672,-6.3982 830.38,103.692 857.089,195.564 \n",
       "  883.797,272.653 910.506,337.633 937.214,392.601 963.922,439.22 990.631,478.822 1017.34,512.482 1044.05,541.078 1070.76,565.33 1097.46,585.84 1124.17,603.111 \n",
       "  1150.88,617.574 1177.59,629.598 1204.3,639.506 1231.01,647.578 1257.71,654.065 1284.42,659.188 1311.13,663.144 1337.84,666.108 1364.55,668.235 1391.26,669.66 \n",
       "  1417.96,670.503 1444.67,670.867 1471.38,670.841 1498.09,670.5 1524.8,669.909 1551.51,669.122 1578.21,668.184 1604.92,667.134 1631.63,666.001 1658.34,664.812 \n",
       "  1685.05,663.588 1711.76,662.344 1738.46,661.095 1765.17,659.852 1791.88,658.622 1818.59,657.412 1845.3,656.228 1872.01,655.072 1898.71,653.949 1925.42,652.859 \n",
       "  1952.13,651.804 1978.84,650.784 2005.55,649.8 2032.26,648.851 2058.96,647.938 2085.67,647.059 2112.38,646.214 2139.09,645.403 2165.8,644.623 2192.51,643.874 \n",
       "  2219.21,643.155 2245.92,642.465 2272.63,641.802 2299.34,641.167 2326.05,640.557 2352.76,639.972 \n",
       "  \"/>\n",
       "<polyline clip-path=\"url(#clip582)\" style=\"stroke:#9b7fe8; stroke-linecap:round; stroke-linejoin:round; stroke-width:4; stroke-opacity:1; fill:none\" points=\"\n",
       "  616.714,-1918.3 643.422,-1415.14 670.13,-1022.58 696.839,-711.551 723.547,-461.681 750.255,-258.407 776.964,-91.144 803.672,47.9298 830.38,164.672 857.089,263.526 \n",
       "  883.797,347.902 910.506,420.445 937.214,483.23 963.922,537.897 990.631,585.756 1017.34,627.864 1044.05,665.08 1070.76,698.107 1097.46,727.528 1124.17,753.826 \n",
       "  1150.88,777.408 1177.59,798.618 1204.3,817.745 1231.01,835.039 1257.71,850.713 1284.42,864.951 1311.13,877.913 1337.84,889.737 1364.55,900.543 1391.26,910.439 \n",
       "  1417.96,919.517 1444.67,927.858 1471.38,935.535 1498.09,942.613 1524.8,949.147 1551.51,955.188 1578.21,960.782 1604.92,965.969 1631.63,970.785 1658.34,975.261 \n",
       "  1685.05,979.427 1711.76,983.31 1738.46,986.932 1765.17,990.316 1791.88,993.479 1818.59,996.44 1845.3,999.214 1872.01,1001.82 1898.71,1004.26 1925.42,1006.56 \n",
       "  1952.13,1008.71 1978.84,1010.75 2005.55,1012.66 2032.26,1014.47 2058.96,1016.17 2085.67,1017.78 2112.38,1019.31 2139.09,1020.75 2165.8,1022.11 2192.51,1023.4 \n",
       "  2219.21,1024.62 2245.92,1025.79 2272.63,1026.89 2299.34,1027.94 2326.05,1028.93 2352.76,1029.88 \n",
       "  \"/>\n",
       "<polyline clip-path=\"url(#clip582)\" style=\"stroke:#608cf6; stroke-linecap:round; stroke-linejoin:round; stroke-width:4; stroke-opacity:1; fill:none\" points=\"\n",
       "  616.714,3465.8 643.422,2965.38 670.13,2575.84 696.839,2268.11 723.547,2021.77 750.255,1822.26 776.964,1658.96 803.672,1524 830.38,1411.51 857.089,1316.99 \n",
       "  883.797,1236.99 910.506,1168.82 937.214,1110.39 963.922,1060 990.631,1016.33 1017.34,978.285 1044.05,944.992 1070.76,915.732 1097.46,889.912 1124.17,867.041 \n",
       "  1150.88,846.709 1177.59,828.573 1204.3,812.346 1231.01,797.781 1257.71,784.673 1284.42,772.843 1311.13,762.139 1337.84,752.43 1364.55,743.603 1391.26,735.561 \n",
       "  1417.96,728.217 1444.67,721.499 1471.38,715.34 1498.09,709.683 1524.8,704.479 1551.51,699.683 1578.21,695.256 1604.92,691.163 1631.63,687.373 1658.34,683.858 \n",
       "  1685.05,680.595 1711.76,677.56 1738.46,674.735 1765.17,672.101 1791.88,669.643 1818.59,667.345 1845.3,665.197 1872.01,663.184 1898.71,661.297 1925.42,659.526 \n",
       "  1952.13,657.863 1978.84,656.299 2005.55,654.827 2032.26,653.44 2058.96,652.132 2085.67,650.898 2112.38,649.733 2139.09,648.632 2165.8,647.59 2192.51,646.603 \n",
       "  2219.21,645.669 2245.92,644.783 2272.63,643.942 2299.34,643.144 2326.05,642.386 2352.76,641.665 \n",
       "  \"/>\n",
       "<polyline clip-path=\"url(#clip582)\" style=\"stroke:#f05f73; stroke-linecap:round; stroke-linejoin:round; stroke-width:4; stroke-opacity:1; fill:none\" points=\"\n",
       "  616.714,3465.8 643.422,2965.38 670.13,2575.84 696.839,2268.11 723.547,2021.77 750.255,1822.26 776.964,1658.96 803.672,1524 830.38,1411.51 857.089,1316.99 \n",
       "  883.797,1236.99 910.506,1168.82 937.214,1110.39 963.922,1060 990.631,1016.33 1017.34,978.285 1044.05,944.992 1070.76,915.732 1097.46,889.912 1124.17,867.041 \n",
       "  1150.88,846.709 1177.59,828.573 1204.3,812.346 1231.01,797.781 1257.71,784.673 1284.42,772.843 1311.13,762.139 1337.84,752.43 1364.55,743.603 1391.26,735.561 \n",
       "  1417.96,728.217 1444.67,721.499 1471.38,715.34 1498.09,709.683 1524.8,704.479 1551.51,699.683 1578.21,695.256 1604.92,691.163 1631.63,687.373 1658.34,683.858 \n",
       "  1685.05,680.595 1711.76,677.56 1738.46,674.735 1765.17,672.101 1791.88,669.643 1818.59,667.345 1845.3,665.197 1872.01,663.184 1898.71,661.297 1925.42,659.526 \n",
       "  1952.13,657.863 1978.84,656.299 2005.55,654.827 2032.26,653.44 2058.96,652.132 2085.67,650.898 2112.38,649.733 2139.09,648.632 2165.8,647.59 2192.51,646.603 \n",
       "  2219.21,645.669 2245.92,644.783 2272.63,643.942 2299.34,643.144 2326.05,642.386 2352.76,641.665 \n",
       "  \"/>\n",
       "<polyline clip-path=\"url(#clip582)\" style=\"stroke:#dd64b5; stroke-linecap:round; stroke-linejoin:round; stroke-width:4; stroke-opacity:1; fill:none\" points=\"\n",
       "  616.714,3605.72 643.422,3104.37 670.13,2713.74 696.839,2404.73 723.547,2156.93 750.255,1955.75 776.964,1790.53 803.672,1653.43 830.38,1538.52 857.089,1441.33 \n",
       "  883.797,1358.39 910.506,1287.03 937.214,1225.15 963.922,1171.1 990.631,1123.57 1017.34,1081.53 1044.05,1044.12 1070.76,1010.67 1097.46,980.646 1124.17,953.584 \n",
       "  1150.88,929.116 1177.59,906.93 1204.3,886.764 1231.01,868.393 1257.71,851.625 1284.42,836.292 1311.13,822.249 1337.84,809.366 1364.55,797.531 1391.26,786.643 \n",
       "  1417.96,776.613 1444.67,767.36 1471.38,758.814 1498.09,750.911 1524.8,743.593 1551.51,736.809 1578.21,730.513 1604.92,724.662 1631.63,719.219 1658.34,714.15 \n",
       "  1685.05,709.424 1711.76,705.014 1738.46,700.893 1765.17,697.04 1791.88,693.433 1818.59,690.053 1845.3,686.882 1872.01,683.906 1898.71,681.11 1925.42,678.48 \n",
       "  1952.13,676.004 1978.84,673.672 2005.55,671.473 2032.26,669.399 2058.96,667.44 2085.67,665.588 2112.38,663.837 2139.09,662.18 2165.8,660.611 2192.51,659.123 \n",
       "  2219.21,657.712 2245.92,656.373 2272.63,655.102 2299.34,653.894 2326.05,652.745 2352.76,651.652 \n",
       "  \"/>\n",
       "<polyline clip-path=\"url(#clip582)\" style=\"stroke:#6b9e32; stroke-linecap:round; stroke-linejoin:round; stroke-width:4; stroke-opacity:1; fill:none\" points=\"\n",
       "  616.714,3605.72 643.422,3104.37 670.13,2713.74 696.839,2404.73 723.547,2156.93 750.255,1955.75 776.964,1790.53 803.672,1653.43 830.38,1538.52 857.089,1441.33 \n",
       "  883.797,1358.39 910.506,1287.03 937.214,1225.15 963.922,1171.1 990.631,1123.57 1017.34,1081.53 1044.05,1044.12 1070.76,1010.67 1097.46,980.646 1124.17,953.584 \n",
       "  1150.88,929.116 1177.59,906.93 1204.3,886.764 1231.01,868.393 1257.71,851.625 1284.42,836.292 1311.13,822.249 1337.84,809.366 1364.55,797.531 1391.26,786.643 \n",
       "  1417.96,776.613 1444.67,767.36 1471.38,758.814 1498.09,750.911 1524.8,743.593 1551.51,736.809 1578.21,730.513 1604.92,724.662 1631.63,719.219 1658.34,714.15 \n",
       "  1685.05,709.424 1711.76,705.014 1738.46,700.893 1765.17,697.04 1791.88,693.433 1818.59,690.053 1845.3,686.882 1872.01,683.906 1898.71,681.11 1925.42,678.48 \n",
       "  1952.13,676.004 1978.84,673.672 2005.55,671.473 2032.26,669.399 2058.96,667.44 2085.67,665.588 2112.38,663.837 2139.09,662.18 2165.8,660.611 2192.51,659.123 \n",
       "  2219.21,657.712 2245.92,656.373 2272.63,655.102 2299.34,653.894 2326.05,652.745 2352.76,651.652 \n",
       "  \"/>\n",
       "<polyline clip-path=\"url(#clip582)\" style=\"stroke:#009af9; stroke-linecap:round; stroke-linejoin:round; stroke-width:4; stroke-opacity:1; fill:none\" points=\"\n",
       "  616.714,3615.91 643.422,3116.84 670.13,2728.85 696.839,2422.87 723.547,2178.51 750.255,1981.22 776.964,1820.39 803.672,1688.18 830.38,1578.73 857.089,1487.55 \n",
       "  883.797,1411.22 910.506,1347.07 937.214,1292.99 963.922,1247.31 990.631,1208.69 1017.34,1176.06 1044.05,1148.51 1070.76,1125.31 1097.46,1105.83 1124.17,1089.56 \n",
       "  1150.88,1076.03 1177.59,1064.86 1204.3,1055.71 1231.01,1048.28 1257.71,1042.31 1284.42,1037.57 1311.13,1033.87 1337.84,1031.04 1364.55,1028.92 1391.26,1027.4 \n",
       "  1417.96,1026.37 1444.67,1025.73 1471.38,1025.41 1498.09,1025.36 1524.8,1025.51 1551.51,1025.82 1578.21,1026.26 1604.92,1026.8 1631.63,1027.4 1658.34,1028.07 \n",
       "  1685.05,1028.77 1711.76,1029.49 1738.46,1030.23 1765.17,1030.98 1791.88,1031.72 1818.59,1032.46 1845.3,1033.19 1872.01,1033.9 1898.71,1034.6 1925.42,1035.28 \n",
       "  1952.13,1035.94 1978.84,1036.58 2005.55,1037.2 2032.26,1037.8 2058.96,1038.38 2085.67,1038.93 2112.38,1039.47 2139.09,1039.99 2165.8,1040.49 2192.51,1040.97 \n",
       "  2219.21,1041.43 2245.92,1041.87 2272.63,1042.3 2299.34,1042.71 2326.05,1043.1 2352.76,1043.48 \n",
       "  \"/>\n",
       "<polyline clip-path=\"url(#clip582)\" style=\"stroke:#e26f46; stroke-linecap:round; stroke-linejoin:round; stroke-width:4; stroke-opacity:1; fill:none\" points=\"\n",
       "  616.714,3615.91 643.422,3116.84 670.13,2728.85 696.839,2422.87 723.547,2178.51 750.255,1981.22 776.964,1820.39 803.672,1688.18 830.38,1578.73 857.089,1487.55 \n",
       "  883.797,1411.22 910.506,1347.07 937.214,1292.99 963.922,1247.31 990.631,1208.69 1017.34,1176.06 1044.05,1148.51 1070.76,1125.31 1097.46,1105.83 1124.17,1089.56 \n",
       "  1150.88,1076.03 1177.59,1064.86 1204.3,1055.71 1231.01,1048.28 1257.71,1042.31 1284.42,1037.57 1311.13,1033.87 1337.84,1031.04 1364.55,1028.92 1391.26,1027.4 \n",
       "  1417.96,1026.37 1444.67,1025.73 1471.38,1025.41 1498.09,1025.36 1524.8,1025.51 1551.51,1025.82 1578.21,1026.26 1604.92,1026.8 1631.63,1027.4 1658.34,1028.07 \n",
       "  1685.05,1028.77 1711.76,1029.49 1738.46,1030.23 1765.17,1030.98 1791.88,1031.72 1818.59,1032.46 1845.3,1033.19 1872.01,1033.9 1898.71,1034.6 1925.42,1035.28 \n",
       "  1952.13,1035.94 1978.84,1036.58 2005.55,1037.2 2032.26,1037.8 2058.96,1038.38 2085.67,1038.93 2112.38,1039.47 2139.09,1039.99 2165.8,1040.49 2192.51,1040.97 \n",
       "  2219.21,1041.43 2245.92,1041.87 2272.63,1042.3 2299.34,1042.71 2326.05,1043.1 2352.76,1043.48 \n",
       "  \"/>\n",
       "<polyline clip-path=\"url(#clip582)\" style=\"stroke:#3da44d; stroke-linecap:round; stroke-linejoin:round; stroke-width:4; stroke-opacity:1; fill:none\" points=\"\n",
       "  616.714,3738.38 643.422,3234.54 670.13,2841.07 696.839,2528.84 723.547,2277.43 750.255,2072.21 776.964,1902.56 803.672,1760.6 830.38,1640.47 857.089,1537.71 \n",
       "  883.797,1448.96 910.506,1371.61 937.214,1303.67 963.922,1243.6 990.631,1190.19 1017.34,1142.49 1044.05,1099.73 1070.76,1061.3 1097.46,1026.65 1124.17,995.37 \n",
       "  1150.88,967.066 1177.59,941.417 1204.3,918.135 1231.01,896.969 1257.71,877.698 1284.42,860.126 1311.13,844.078 1337.84,829.4 1364.55,815.956 1391.26,803.624 \n",
       "  1417.96,792.295 1444.67,781.872 1471.38,772.27 1498.09,763.411 1524.8,755.227 1551.51,747.657 1578.21,740.644 1604.92,734.14 1631.63,728.1 1658.34,722.484 \n",
       "  1685.05,717.257 1711.76,712.385 1738.46,707.84 1765.17,703.595 1791.88,699.625 1818.59,695.91 1845.3,692.429 1872.01,689.164 1898.71,686.099 1925.42,683.219 \n",
       "  1952.13,680.51 1978.84,677.96 2005.55,675.558 2032.26,673.293 2058.96,671.155 2085.67,669.136 2112.38,667.227 2139.09,665.422 2165.8,663.713 2192.51,662.094 \n",
       "  2219.21,660.56 2245.92,659.104 2272.63,657.722 2299.34,656.409 2326.05,655.162 2352.76,653.975 \n",
       "  \"/>\n",
       "<polyline clip-path=\"url(#clip582)\" style=\"stroke:#c271d2; stroke-linecap:round; stroke-linejoin:round; stroke-width:4; stroke-opacity:1; fill:none\" points=\"\n",
       "  616.714,3758.41 643.422,3258.99 670.13,2870.58 696.839,2564.09 723.547,2319.14 750.255,2121.14 776.964,1959.49 803.672,1826.32 830.38,1715.75 857.089,1623.28 \n",
       "  883.797,1545.47 910.506,1479.62 937.214,1423.62 963.922,1375.77 990.631,1334.75 1017.34,1299.44 1044.05,1268.97 1070.76,1242.6 1097.46,1219.73 1124.17,1199.85 \n",
       "  1150.88,1182.54 1177.59,1167.44 1204.3,1154.25 1231.01,1142.72 1257.71,1132.62 1284.42,1123.76 1311.13,1115.99 1337.84,1109.16 1364.55,1103.16 1391.26,1097.87 \n",
       "  1417.96,1093.21 1444.67,1089.1 1471.38,1085.47 1498.09,1082.25 1524.8,1079.41 1551.51,1076.89 1578.21,1074.65 1604.92,1072.67 1631.63,1070.9 1658.34,1069.32 \n",
       "  1685.05,1067.92 1711.76,1066.67 1738.46,1065.54 1765.17,1064.54 1791.88,1063.64 1818.59,1062.83 1845.3,1062.11 1872.01,1061.46 1898.71,1060.87 1925.42,1060.34 \n",
       "  1952.13,1059.86 1978.84,1059.43 2005.55,1059.04 2032.26,1058.68 2058.96,1058.36 2085.67,1058.07 2112.38,1057.8 2139.09,1057.56 2165.8,1057.34 2192.51,1057.14 \n",
       "  2219.21,1056.95 2245.92,1056.78 2272.63,1056.63 2299.34,1056.49 2326.05,1056.36 2352.76,1056.24 \n",
       "  \"/>\n",
       "<polyline clip-path=\"url(#clip582)\" style=\"stroke:#ac8d18; stroke-linecap:round; stroke-linejoin:round; stroke-width:4; stroke-opacity:1; fill:none\" points=\"\n",
       "  616.714,6457.53 643.422,5457.77 670.13,4679.92 696.839,4065.84 723.547,3574.74 750.255,3177.47 776.964,2852.82 803.672,2585.09 830.38,2362.5 857.089,2176.11 \n",
       "  883.797,2019.02 910.506,1885.88 937.214,1772.47 963.922,1675.47 990.631,1592.19 1017.34,1520.49 1044.05,1458.6 1070.76,1405.09 1097.46,1358.76 1124.17,1318.62 \n",
       "  1150.88,1283.82 1177.59,1253.66 1204.3,1227.53 1231.01,1204.89 1257.71,1185.29 1284.42,1168.34 1311.13,1153.68 1337.84,1141.01 1364.55,1130.05 1391.26,1120.59 \n",
       "  1417.96,1112.4 1444.67,1105.32 1471.38,1099.19 1498.09,1093.87 1524.8,1089.26 1551.51,1085.25 1578.21,1081.76 1604.92,1078.72 1631.63,1076.06 1658.34,1073.73 \n",
       "  1685.05,1071.69 1711.76,1069.9 1738.46,1068.33 1765.17,1066.94 1791.88,1065.71 1818.59,1064.62 1845.3,1063.66 1872.01,1062.8 1898.71,1062.04 1925.42,1061.35 \n",
       "  1952.13,1060.75 1978.84,1060.2 2005.55,1059.71 2032.26,1059.28 2058.96,1058.88 2085.67,1058.53 2112.38,1058.21 2139.09,1057.92 2165.8,1057.65 2192.51,1057.42 \n",
       "  2219.21,1057.2 2245.92,1057 2272.63,1056.83 2299.34,1056.66 2326.05,1056.52 2352.76,1056.38 \n",
       "  \"/>\n",
       "<polyline clip-path=\"url(#clip582)\" style=\"stroke:#00a9ad; stroke-linecap:round; stroke-linejoin:round; stroke-width:4; stroke-opacity:1; fill:none\" points=\"\n",
       "  616.714,6462.53 643.422,5463.87 670.13,4687.28 696.839,4074.61 723.547,3585.11 750.255,3189.63 776.964,2866.94 803.672,2601.36 830.38,2381.11 857.089,2197.22 \n",
       "  883.797,2042.78 910.506,1912.4 937.214,1801.85 963.922,1707.72 990.631,1627.3 1017.34,1558.38 1044.05,1499.12 1070.76,1448.05 1097.46,1403.9 1124.17,1365.65 \n",
       "  1150.88,1332.41 1177.59,1303.46 1204.3,1278.18 1231.01,1256.05 1257.71,1236.61 1284.42,1219.51 1311.13,1204.41 1337.84,1191.05 1364.55,1179.2 1391.26,1168.66 \n",
       "  1417.96,1159.26 1444.67,1150.86 1471.38,1143.33 1498.09,1136.56 1524.8,1130.47 1551.51,1124.97 1578.21,1119.99 1604.92,1115.48 1631.63,1111.38 1658.34,1107.64 \n",
       "  1685.05,1104.24 1711.76,1101.12 1738.46,1098.27 1765.17,1095.65 1791.88,1093.24 1818.59,1091.02 1845.3,1088.97 1872.01,1087.07 1898.71,1085.32 1925.42,1083.7 \n",
       "  1952.13,1082.19 1978.84,1080.79 2005.55,1079.48 2032.26,1078.26 2058.96,1077.12 2085.67,1076.06 2112.38,1075.06 2139.09,1074.13 2165.8,1073.26 2192.51,1072.43 \n",
       "  2219.21,1071.66 2245.92,1070.93 2272.63,1070.25 2299.34,1069.6 2326.05,1068.99 2352.76,1068.42 \n",
       "  \"/>\n",
       "<polyline clip-path=\"url(#clip582)\" style=\"stroke:#ed5d92; stroke-linecap:round; stroke-linejoin:round; stroke-width:4; stroke-opacity:1; fill:none\" points=\"\n",
       "  616.714,6462.53 643.422,5463.87 670.13,4687.28 696.839,4074.61 723.547,3585.11 750.255,3189.63 776.964,2866.94 803.672,2601.36 830.38,2381.11 857.089,2197.22 \n",
       "  883.797,2042.78 910.506,1912.4 937.214,1801.85 963.922,1707.72 990.631,1627.3 1017.34,1558.38 1044.05,1499.12 1070.76,1448.05 1097.46,1403.9 1124.17,1365.65 \n",
       "  1150.88,1332.41 1177.59,1303.46 1204.3,1278.18 1231.01,1256.05 1257.71,1236.61 1284.42,1219.51 1311.13,1204.41 1337.84,1191.05 1364.55,1179.2 1391.26,1168.66 \n",
       "  1417.96,1159.26 1444.67,1150.86 1471.38,1143.33 1498.09,1136.56 1524.8,1130.47 1551.51,1124.97 1578.21,1119.99 1604.92,1115.48 1631.63,1111.38 1658.34,1107.64 \n",
       "  1685.05,1104.24 1711.76,1101.12 1738.46,1098.27 1765.17,1095.65 1791.88,1093.24 1818.59,1091.02 1845.3,1088.97 1872.01,1087.07 1898.71,1085.32 1925.42,1083.7 \n",
       "  1952.13,1082.19 1978.84,1080.79 2005.55,1079.48 2032.26,1078.26 2058.96,1077.12 2085.67,1076.06 2112.38,1075.06 2139.09,1074.13 2165.8,1073.26 2192.51,1072.43 \n",
       "  2219.21,1071.66 2245.92,1070.93 2272.63,1070.25 2299.34,1069.6 2326.05,1068.99 2352.76,1068.42 \n",
       "  \"/>\n",
       "<polyline clip-path=\"url(#clip582)\" style=\"stroke:#c68125; stroke-linecap:round; stroke-linejoin:round; stroke-width:4; stroke-opacity:1; fill:none\" points=\"\n",
       "  616.714,6467.85 643.422,5470.44 670.13,4695.3 696.839,4084.31 723.547,3596.73 750.255,3203.41 776.964,2883.15 803.672,2620.25 830.38,2402.89 857.089,2222.08 \n",
       "  883.797,2070.84 910.506,1943.7 937.214,1836.33 963.922,1745.24 990.631,1667.63 1017.34,1601.2 1044.05,1544.08 1070.76,1494.74 1097.46,1451.92 1124.17,1414.59 \n",
       "  1150.88,1381.89 1177.59,1353.14 1204.3,1327.74 1231.01,1305.21 1257.71,1285.16 1284.42,1267.24 1311.13,1251.17 1337.84,1236.72 1364.55,1223.69 1391.26,1211.89 \n",
       "  1417.96,1201.19 1444.67,1191.46 1471.38,1182.58 1498.09,1174.47 1524.8,1167.05 1551.51,1160.23 1578.21,1153.96 1604.92,1148.18 1631.63,1142.85 1658.34,1137.93 \n",
       "  1685.05,1133.36 1711.76,1129.13 1738.46,1125.2 1765.17,1121.54 1791.88,1118.14 1818.59,1114.96 1845.3,1112 1872.01,1109.22 1898.71,1106.63 1925.42,1104.2 \n",
       "  1952.13,1101.91 1978.84,1099.77 2005.55,1097.76 2032.26,1095.86 2058.96,1094.08 2085.67,1092.4 2112.38,1090.81 2139.09,1089.31 2165.8,1087.89 2192.51,1086.55 \n",
       "  2219.21,1085.28 2245.92,1084.08 2272.63,1082.94 2299.34,1081.86 2326.05,1080.83 2352.76,1079.86 \n",
       "  \"/>\n",
       "</svg>\n"
      ]
     },
     "execution_count": 943,
     "metadata": {},
     "output_type": "execute_result"
    }
   ],
   "source": [
    "using Plots\n",
    "γ = H.parameters.γ\n",
    "B = H.parameters.B\n",
    "plot(rs, reverse(matrix_values[:,5:28]), legend=nothing)\n",
    "plot!(xlim=(0,8))\n",
    "plot!(ylim=((1 - γ/B - γ/4B) * 2B, (1 + γ/B + γ/4B) * 2B))"
   ]
  },
  {
   "cell_type": "code",
   "execution_count": null,
   "id": "28bcd2ff-9812-4ba1-9881-263d75a54b01",
   "metadata": {},
   "outputs": [],
   "source": []
  }
 ],
 "metadata": {
  "kernelspec": {
   "display_name": "Julia 1.8.0",
   "language": "julia",
   "name": "julia-1.8"
  },
  "language_info": {
   "file_extension": ".jl",
   "mimetype": "application/julia",
   "name": "julia",
   "version": "1.8.0"
  }
 },
 "nbformat": 4,
 "nbformat_minor": 5
}
