{
 "cells": [
  {
   "cell_type": "code",
   "execution_count": 7,
   "metadata": {},
   "outputs": [],
   "source": [
    "using QuantumStates\n",
    "using LinearAlgebra\n",
    "using Plots"
   ]
  },
  {
   "cell_type": "code",
   "execution_count": 8,
   "metadata": {},
   "outputs": [],
   "source": [
    "const c = 299792458\n",
    "const h = 6.626e-34\n",
    "const ħ = h / 2π\n",
    ";"
   ]
  },
  {
   "cell_type": "markdown",
   "metadata": {},
   "source": [
    "### Define X state"
   ]
  },
  {
   "cell_type": "code",
   "execution_count": 9,
   "metadata": {},
   "outputs": [],
   "source": [
    "# Spectroscopic constants\n",
    "# From Scurlock et al. \n",
    "const BX = 10023.0841\n",
    "const DX = 1.154e-2 \n",
    "const γX = 34.7593 \n",
    "const bFX = 2.602 \n",
    "const cX = 2.053 \n",
    "const μX = 1e-6 * 1.465 * 10^2 * (1e-21 / c) / h # 1e-6 = Hz to MHz\n",
    ";"
   ]
  },
  {
   "cell_type": "code",
   "execution_count": 10,
   "metadata": {},
   "outputs": [],
   "source": [
    "QN_bounds = (S = 1/2, I = 1/2, Λ = 0, N = 1)\n",
    "basis = enumerate_states(HundsCaseB_Rot, QN_bounds)\n",
    "ordered_basis = order(basis, :M)\n",
    ";"
   ]
  },
  {
   "cell_type": "code",
   "execution_count": 11,
   "metadata": {},
   "outputs": [],
   "source": [
    "# Define the zero-field Hamiltonian operator\n",
    "H_operator(state, state′, i, j, p) = \n",
    "    (BX * Rotation + \n",
    "    DX * RotationDistortion + \n",
    "    γX * SpinRotation + \n",
    "    bFX * Hyperfine_IS + \n",
    "    (cX/3) * Hyperfine_Dipolar)(state, state′)\n",
    ";"
   ]
  },
  {
   "cell_type": "code",
   "execution_count": 12,
   "metadata": {},
   "outputs": [],
   "source": [
    "p = NamedTuple()\n",
    "H = Hamiltonian(H_operator=H_operator, basis=ordered_basis)\n",
    "update_matrix!(H, p)\n",
    "solve!(H)\n",
    ";"
   ]
  },
  {
   "cell_type": "code",
   "execution_count": 24,
   "metadata": {},
   "outputs": [
    {
     "data": {
      "text/latex": [
       "$$1.0\\left|S=\\frac{1}{2}, I=\\frac{1}{2}, Λ=0, N=1, J=\\frac{3}{2}, F=2, M=-2\\right\\rangle$$\n"
      ],
      "text/plain": [
       "State{HundsCaseB_Rot}(20064.083756666663, HundsCaseB_Rot[HundsCaseB_Rot(0.0, 1//2, 1//2, 0//1, 1//1, 3//2, 2//1, -2//1, (N = 0:∞, J = 0.5:1.0:1.5, F = 1.0:1.0:2.0, M = -2.0:1.0:2.0)), HundsCaseB_Rot(0.0, 1//2, 1//2, 0//1, 1//1, 1//2, 1//1, -1//1, (N = 0:∞, J = 0.5:1.0:1.5, F = 0.0:1.0:1.0, M = -1.0:1.0:1.0)), HundsCaseB_Rot(0.0, 1//2, 1//2, 0//1, 1//1, 3//2, 1//1, -1//1, (N = 0:∞, J = 0.5:1.0:1.5, F = 1.0:1.0:2.0, M = -1.0:1.0:1.0)), HundsCaseB_Rot(0.0, 1//2, 1//2, 0//1, 1//1, 3//2, 2//1, -1//1, (N = 0:∞, J = 0.5:1.0:1.5, F = 1.0:1.0:2.0, M = -2.0:1.0:2.0)), HundsCaseB_Rot(0.0, 1//2, 1//2, 0//1, 1//1, 1//2, 0//1, 0//1, (N = 0:∞, J = 0.5:1.0:1.5, F = 0.0:1.0:1.0, M = 0.0:1.0:0.0)), HundsCaseB_Rot(0.0, 1//2, 1//2, 0//1, 1//1, 1//2, 1//1, 0//1, (N = 0:∞, J = 0.5:1.0:1.5, F = 0.0:1.0:1.0, M = -1.0:1.0:1.0)), HundsCaseB_Rot(0.0, 1//2, 1//2, 0//1, 1//1, 3//2, 1//1, 0//1, (N = 0:∞, J = 0.5:1.0:1.5, F = 1.0:1.0:2.0, M = -1.0:1.0:1.0)), HundsCaseB_Rot(0.0, 1//2, 1//2, 0//1, 1//1, 3//2, 2//1, 0//1, (N = 0:∞, J = 0.5:1.0:1.5, F = 1.0:1.0:2.0, M = -2.0:1.0:2.0)), HundsCaseB_Rot(0.0, 1//2, 1//2, 0//1, 1//1, 1//2, 1//1, 1//1, (N = 0:∞, J = 0.5:1.0:1.5, F = 0.0:1.0:1.0, M = -1.0:1.0:1.0)), HundsCaseB_Rot(0.0, 1//2, 1//2, 0//1, 1//1, 3//2, 1//1, 1//1, (N = 0:∞, J = 0.5:1.0:1.5, F = 1.0:1.0:2.0, M = -1.0:1.0:1.0)), HundsCaseB_Rot(0.0, 1//2, 1//2, 0//1, 1//1, 3//2, 2//1, 1//1, (N = 0:∞, J = 0.5:1.0:1.5, F = 1.0:1.0:2.0, M = -2.0:1.0:2.0)), HundsCaseB_Rot(0.0, 1//2, 1//2, 0//1, 1//1, 3//2, 2//1, 2//1, (N = 0:∞, J = 0.5:1.0:1.5, F = 1.0:1.0:2.0, M = -2.0:1.0:2.0))], [1.0, 0.0, 0.0, 0.0, 0.0, 0.0, 0.0, 0.0, 0.0, 0.0, 0.0, 0.0], 10)"
      ]
     },
     "execution_count": 24,
     "metadata": {},
     "output_type": "execute_result"
    }
   ],
   "source": [
    "H.states[10]"
   ]
  },
  {
   "cell_type": "markdown",
   "metadata": {},
   "source": [
    "### Define A state"
   ]
  },
  {
   "cell_type": "code",
   "execution_count": null,
   "metadata": {},
   "outputs": [],
   "source": [
    "# Enumerate all states of Λ = -1 in a Hund's case (a) basis\n",
    "QN_bounds = (S = 1/2, I = 1/2, Λ = -1, J = (1/2, 3/2))\n",
    "basis_Λm1 = enumerate_states(HundsCaseA_Rot, QN_bounds)\n",
    ";"
   ]
  },
  {
   "cell_type": "code",
   "execution_count": null,
   "metadata": {},
   "outputs": [],
   "source": [
    "# Enumerate all states of Λ = +1 in a Hund's case (a) basis\n",
    "QN_bounds = (S = 1/2, I = 1/2, Λ = +1, J = (1/2, 3/2))\n",
    "basis_Λp1 = enumerate_states(HundsCaseA_Rot, QN_bounds)\n",
    ";"
   ]
  },
  {
   "cell_type": "code",
   "execution_count": null,
   "metadata": {},
   "outputs": [],
   "source": [
    "ordered_basis = order(basis, :M)\n",
    ";"
   ]
  }
 ],
 "metadata": {
  "kernelspec": {
   "display_name": "Julia 1.7.2",
   "language": "julia",
   "name": "julia-1.7"
  },
  "language_info": {
   "file_extension": ".jl",
   "mimetype": "application/julia",
   "name": "julia",
   "version": "1.7.2"
  }
 },
 "nbformat": 4,
 "nbformat_minor": 5
}
