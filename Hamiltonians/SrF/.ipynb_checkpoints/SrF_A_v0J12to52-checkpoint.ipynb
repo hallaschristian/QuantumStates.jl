{
 "cells": [
  {
   "cell_type": "code",
   "execution_count": 2,
   "id": "4ebeb064",
   "metadata": {},
   "outputs": [],
   "source": [
    "using QuantumStates"
   ]
  },
  {
   "cell_type": "code",
   "execution_count": 3,
   "id": "83847b16",
   "metadata": {
    "tags": []
   },
   "outputs": [],
   "source": [
    "H_operator = :(\n",
    "    T_A * DiagonalOperator +\n",
    "    Be_A * Rotation + \n",
    "    Aso_A * SpinOrbit + \n",
    "    q_A * ΛDoubling_q +\n",
    "    (p_A + 2q_A) * ΛDoubling_p2q +\n",
    "    b00_A * (Hyperfine_IF - Hyperfine_IL)\n",
    ");"
   ]
  },
  {
   "cell_type": "code",
   "execution_count": 11,
   "id": "57fdbe2a",
   "metadata": {},
   "outputs": [],
   "source": [
    "# Spectroscopic constants for the A²Π state in CaF (from Eunmi Chae's thesis, 2016)\n",
    "const c = 299792458\n",
    "parameters = @params begin\n",
    "    T_A =  * 299792458 * 1e-4\n",
    "    Be_A =  * 299792458 * 1e-4\n",
    "    Aso_A =  * 299792458 * 1e-4\n",
    "    b00_A = \n",
    "    p_A =  * 299792458 * 1e-4\n",
    "    q_A =  * 299792458 * 1e-4 # is this measured?\n",
    "end;"
   ]
  },
  {
   "cell_type": "code",
   "execution_count": 13,
   "id": "2802412d",
   "metadata": {},
   "outputs": [],
   "source": [
    "QN_bounds = (S = 1/2, I = 1/2, Λ = 1, J = 1/2:5/2)\n",
    "basis = enumerate_states(HundsCaseA_Rot, QN_bounds)\n",
    ";"
   ]
  },
  {
   "cell_type": "code",
   "execution_count": 14,
   "id": "241c562c",
   "metadata": {},
   "outputs": [
    {
     "name": "stdout",
     "output_type": "stream",
     "text": [
      "  2.342591 seconds (3.33 M allocations: 171.400 MiB, 0.75% gc time, 98.58% compilation time)\n",
      "  0.115818 seconds (105.03 k allocations: 5.570 MiB, 99.97% compilation time)\n",
      "  1.217556 seconds (4.10 M allocations: 223.498 MiB, 6.53% gc time, 99.80% compilation time)\n"
     ]
    }
   ],
   "source": [
    "CaF_v0_J12to52_Hamiltonian = @time Hamiltonian(basis=basis, operator=H_operator, parameters=parameters)\n",
    "@time evaluate!(CaF_v0_J12to52_Hamiltonian)\n",
    "@time solve!(CaF_v0_J12to52_Hamiltonian)\n",
    ";"
   ]
  },
  {
   "cell_type": "code",
   "execution_count": 15,
   "id": "19b0a5a1",
   "metadata": {},
   "outputs": [
    {
     "name": "stdout",
     "output_type": "stream",
     "text": [
      "  0.222391 seconds (867.47 k allocations: 44.418 MiB, 91.92% compilation time)\n"
     ]
    }
   ],
   "source": [
    "@time save_to_file(CaF_v0_J12to52_Hamiltonian, \"CaF_v0_J12to52_Hamiltonian\", \"\")"
   ]
  },
  {
   "cell_type": "code",
   "execution_count": null,
   "id": "00e15107-4026-46da-893b-379d9f493d7e",
   "metadata": {},
   "outputs": [],
   "source": []
  }
 ],
 "metadata": {
  "kernelspec": {
   "display_name": "Julia 1.8.0",
   "language": "julia",
   "name": "julia-1.8"
  },
  "language_info": {
   "file_extension": ".jl",
   "mimetype": "application/julia",
   "name": "julia",
   "version": "1.8.0"
  }
 },
 "nbformat": 4,
 "nbformat_minor": 5
}
