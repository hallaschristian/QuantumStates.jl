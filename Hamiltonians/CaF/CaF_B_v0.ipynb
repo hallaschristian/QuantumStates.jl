{
 "cells": [
  {
   "cell_type": "code",
   "execution_count": 1,
   "id": "b7a11ea6",
   "metadata": {
    "tags": []
   },
   "outputs": [],
   "source": [
    "using QuantumStates, UnitsToValue"
   ]
  },
  {
   "cell_type": "code",
   "execution_count": 2,
   "id": "9365913a",
   "metadata": {
    "tags": []
   },
   "outputs": [],
   "source": [
    "H_operator = :(\n",
    "    Te * DiagonalOperator +\n",
    "    BX * Rotation + \n",
    "    DX * RotationDistortion + \n",
    "    γX * SpinRotation +\n",
    "    bFX * Hyperfine_IS + \n",
    "    cX * (Hyperfine_Dipolar/3)\n",
    ");"
   ]
  },
  {
   "cell_type": "code",
   "execution_count": 3,
   "id": "77c935ab",
   "metadata": {
    "tags": []
   },
   "outputs": [],
   "source": [
    "parameters = @params begin\n",
    "    Te = 18844.5 * c * 1e2\n",
    "    BX = 10303.988 * 1e6\n",
    "    DX = 0.014060 * 1e6\n",
    "    γX = 39.65891 * 1e6\n",
    "    bX = 109.1839 * 1e6\n",
    "    cX = 40.1190 * 1e6\n",
    "end\n",
    "parameters.param_dict[:bFX] = parameters.bX + parameters.cX / 3;"
   ]
  },
  {
   "cell_type": "code",
   "execution_count": 4,
   "id": "dfe9c620",
   "metadata": {
    "tags": []
   },
   "outputs": [],
   "source": [
    "QN_bounds = (label = \"B\", S = 1/2, I = 1/2, Λ = 0, N = 0:4)\n",
    "basis = order_basis_by_m(enumerate_states(HundsCaseB_LinearMolecule, QN_bounds))\n",
    ";"
   ]
  },
  {
   "cell_type": "code",
   "execution_count": 5,
   "id": "1b70bd02",
   "metadata": {
    "tags": []
   },
   "outputs": [
    {
     "name": "stdout",
     "output_type": "stream",
     "text": [
      "  1.167390 seconds (2.22 M allocations: 130.241 MiB, 2.38% gc time, 98.46% compilation time)\n",
      "  0.394530 seconds (718.80 k allocations: 29.960 MiB, 2.21% gc time, 95.74% compilation time)\n",
      "  0.150185 seconds (213.02 k allocations: 14.586 MiB, 97.92% compilation time)\n"
     ]
    }
   ],
   "source": [
    "CaF_B_v0 = @time Hamiltonian(basis=basis, operator=H_operator, parameters=parameters)\n",
    "@time full_evaluate!(CaF_B_v0)\n",
    "@time solve!(CaF_B_v0)\n",
    ";"
   ]
  },
  {
   "cell_type": "code",
   "execution_count": 6,
   "id": "a8629612",
   "metadata": {
    "tags": []
   },
   "outputs": [
    {
     "name": "stdout",
     "output_type": "stream",
     "text": [
      "  0.148821 seconds (472.73 k allocations: 31.468 MiB, 5.89% gc time, 97.98% compilation time)\n"
     ]
    }
   ],
   "source": [
    "@time save_to_file(CaF_B_v0, \"CaF_B_v0\", \"\")"
   ]
  }
 ],
 "metadata": {
  "kernelspec": {
   "display_name": "Julia 1.10.5",
   "language": "julia",
   "name": "julia-1.10"
  },
  "language_info": {
   "file_extension": ".jl",
   "mimetype": "application/julia",
   "name": "julia",
   "version": "1.10.5"
  }
 },
 "nbformat": 4,
 "nbformat_minor": 5
}
