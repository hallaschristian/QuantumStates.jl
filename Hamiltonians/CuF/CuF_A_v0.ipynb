{
 "cells": [
  {
   "cell_type": "code",
   "execution_count": 1,
   "id": "e240c30d-23d8-48b7-ad4c-3a74dba2b8a1",
   "metadata": {},
   "outputs": [],
   "source": [
    "using Revise"
   ]
  },
  {
   "cell_type": "code",
   "execution_count": 1,
   "id": "b7a11ea6",
   "metadata": {
    "tags": []
   },
   "outputs": [
    {
     "name": "stderr",
     "output_type": "stream",
     "text": [
      "\u001b[32m\u001b[1mPrecompiling\u001b[22m\u001b[39m QuantumStates\n",
      "\u001b[32m  ✓ \u001b[39mQuantumStates\n",
      "  1 dependency successfully precompiled in 21 seconds. 325 already precompiled.\n"
     ]
    }
   ],
   "source": [
    "using QuantumStates, UnitsToValue"
   ]
  },
  {
   "cell_type": "code",
   "execution_count": 27,
   "id": "9365913a",
   "metadata": {
    "tags": []
   },
   "outputs": [],
   "source": [
    "H_operator = :(\n",
    "    Te * DiagonalOperator +\n",
    "    BX * Rotation + \n",
    "    DX * RotationDistortion #+\n",
    "    # eq0Q * nuclear_quadrupole + \n",
    "    # c * magnetic_quadrupole\n",
    ");"
   ]
  },
  {
   "cell_type": "code",
   "execution_count": 28,
   "id": "77c935ab",
   "metadata": {
    "tags": []
   },
   "outputs": [],
   "source": [
    "parameters = @params begin\n",
    "    Te = 14000 * c * 1e2\n",
    "    BX = 0.379408 * c * 1e2\n",
    "    DX = 5.655e-7 * c * 1e2\n",
    "    eq0Q = 21.95 * 1e6\n",
    "    c = 36e-3 * 1e6\n",
    "end\n",
    ";"
   ]
  },
  {
   "cell_type": "code",
   "execution_count": 29,
   "id": "dfe9c620",
   "metadata": {
    "tags": []
   },
   "outputs": [],
   "source": [
    "# QN_bounds = (label = \"X\", S = 0, I = 3/2, Λ = 0, N = 0:5)\n",
    "QN_bounds = (label = \"A\", S = 1, I = 0, Λ = 0, N = 0:5)\n",
    "basis = order_basis_by_m(enumerate_states(HundsCaseB_LinearMolecule, QN_bounds))\n",
    ";"
   ]
  },
  {
   "cell_type": "code",
   "execution_count": 30,
   "id": "1b70bd02",
   "metadata": {
    "tags": []
   },
   "outputs": [
    {
     "name": "stdout",
     "output_type": "stream",
     "text": [
      "  0.016536 seconds (344.39 k allocations: 13.988 MiB, 11.83% gc time)\n",
      "  0.014538 seconds (344.13 k allocations: 11.124 MiB)\n",
      "  0.001028 seconds (15 allocations: 635.391 KiB)\n"
     ]
    }
   ],
   "source": [
    "CuF_A_v0 = @time Hamiltonian(basis=basis, operator=H_operator, parameters=parameters)\n",
    "@time full_evaluate!(CuF_A_v0)\n",
    "@time solve!(CuF_A_v0)\n",
    ";"
   ]
  },
  {
   "cell_type": "code",
   "execution_count": 31,
   "id": "a8629612",
   "metadata": {
    "tags": []
   },
   "outputs": [
    {
     "name": "stdout",
     "output_type": "stream",
     "text": [
      "  0.002548 seconds (5.12 k allocations: 122.555 KiB)\n"
     ]
    }
   ],
   "source": [
    "@time save_to_file(CuF_A_v0, \"CuF_A_v0\", \"\")"
   ]
  },
  {
   "cell_type": "code",
   "execution_count": null,
   "id": "d1e7f6f7-9e07-40cc-bb3f-b412ea4538f2",
   "metadata": {},
   "outputs": [],
   "source": []
  }
 ],
 "metadata": {
  "kernelspec": {
   "display_name": "Julia 1.10.5",
   "language": "julia",
   "name": "julia-1.10"
  },
  "language_info": {
   "file_extension": ".jl",
   "mimetype": "application/julia",
   "name": "julia",
   "version": "1.10.5"
  }
 },
 "nbformat": 4,
 "nbformat_minor": 5
}
