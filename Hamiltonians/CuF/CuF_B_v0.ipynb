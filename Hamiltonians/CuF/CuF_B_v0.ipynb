{
 "cells": [
  {
   "cell_type": "code",
   "execution_count": 1,
   "id": "b7a11ea6",
   "metadata": {
    "tags": []
   },
   "outputs": [
    {
     "name": "stderr",
     "output_type": "stream",
     "text": [
      "\u001b[32m\u001b[1mPrecompiling\u001b[22m\u001b[39m QuantumStates\n",
      "\u001b[32m  ✓ \u001b[39mQuantumStates\n",
      "  1 dependency successfully precompiled in 16 seconds. 325 already precompiled.\n"
     ]
    }
   ],
   "source": [
    "using QuantumStates, UnitsToValue"
   ]
  },
  {
   "cell_type": "code",
   "execution_count": 31,
   "id": "9365913a",
   "metadata": {
    "tags": []
   },
   "outputs": [],
   "source": [
    "H_operator = :(\n",
    "    Te * DiagonalOperator +\n",
    "    BX * Rotation + \n",
    "    DX * RotationDistortion #+\n",
    "    # eq0Q * nuclear_quadrupole + \n",
    "    # c * magnetic_quadrupole\n",
    ");"
   ]
  },
  {
   "cell_type": "code",
   "execution_count": 32,
   "id": "77c935ab",
   "metadata": {
    "tags": []
   },
   "outputs": [],
   "source": [
    "parameters = @params begin\n",
    "    Te = 19717.48 * c * 1e2\n",
    "    BX = 0.37134 * c * 1e2\n",
    "    DX = 4.72e-7 * c * 1e2\n",
    "    eq0Q = 21.95 * 1e6\n",
    "    c = 36e-3 * 1e6\n",
    "end\n",
    ";"
   ]
  },
  {
   "cell_type": "code",
   "execution_count": 33,
   "id": "dfe9c620",
   "metadata": {
    "tags": []
   },
   "outputs": [],
   "source": [
    "# QN_bounds = (label = \"B\", S = 0, I = 3/2, Λ = 0, N = 0:4)\n",
    "QN_bounds = (label = \"B\", S = 0, I = 0, Λ = 0, N = 0:5)\n",
    "basis = order_basis_by_m(enumerate_states(HundsCaseB_LinearMolecule, QN_bounds))\n",
    ";"
   ]
  },
  {
   "cell_type": "code",
   "execution_count": 34,
   "id": "1b70bd02",
   "metadata": {
    "tags": []
   },
   "outputs": [
    {
     "name": "stdout",
     "output_type": "stream",
     "text": [
      "  0.003055 seconds (39.85 k allocations: 1.582 MiB)\n",
      "  0.002982 seconds (39.73 k allocations: 1.259 MiB)\n",
      "  0.000126 seconds (15 allocations: 90.781 KiB)\n"
     ]
    }
   ],
   "source": [
    "CuF_B_v0 = @time Hamiltonian(basis=basis, operator=H_operator, parameters=parameters)\n",
    "@time full_evaluate!(CuF_B_v0)\n",
    "@time solve!(CuF_B_v0)\n",
    ";"
   ]
  },
  {
   "cell_type": "code",
   "execution_count": 35,
   "id": "a8629612",
   "metadata": {
    "tags": []
   },
   "outputs": [
    {
     "name": "stdout",
     "output_type": "stream",
     "text": [
      "  0.001125 seconds (1.78 k allocations: 42.945 KiB)\n"
     ]
    }
   ],
   "source": [
    "@time save_to_file(CuF_B_v0, \"CuF_B_v0\", \"\")"
   ]
  },
  {
   "cell_type": "code",
   "execution_count": null,
   "id": "8ca08f96-b5a9-4a80-85f2-c351d97f372e",
   "metadata": {},
   "outputs": [],
   "source": []
  }
 ],
 "metadata": {
  "kernelspec": {
   "display_name": "Julia 1.10.5",
   "language": "julia",
   "name": "julia-1.10"
  },
  "language_info": {
   "file_extension": ".jl",
   "mimetype": "application/julia",
   "name": "julia",
   "version": "1.10.5"
  }
 },
 "nbformat": 4,
 "nbformat_minor": 5
}
