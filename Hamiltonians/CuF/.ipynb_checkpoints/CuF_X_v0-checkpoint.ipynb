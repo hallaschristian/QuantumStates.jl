{
 "cells": [
  {
   "cell_type": "code",
   "execution_count": 1,
   "id": "e240c30d-23d8-48b7-ad4c-3a74dba2b8a1",
   "metadata": {},
   "outputs": [],
   "source": [
    "using Revise"
   ]
  },
  {
   "cell_type": "code",
   "execution_count": 2,
   "id": "b7a11ea6",
   "metadata": {
    "tags": []
   },
   "outputs": [
    {
     "name": "stderr",
     "output_type": "stream",
     "text": [
      "\u001b[32m\u001b[1mPrecompiling\u001b[22m\u001b[39m QuantumStates\n",
      "    QuantumStates\u001b[36m Being precompiled by another process (pid: 26320, pidfile: C:\\Users\\Christian\\.julia\\compiled\\v1.10\\QuantumStates\\wOuUK_ehrHn.ji.pidfile)\u001b[39m\n",
      "\u001b[32m  ✓ \u001b[39mQuantumStates\n",
      "  1 dependency successfully precompiled in 9 seconds. 325 already precompiled.\n"
     ]
    }
   ],
   "source": [
    "using QuantumStates, UnitsToValue"
   ]
  },
  {
   "cell_type": "code",
   "execution_count": 10,
   "id": "9365913a",
   "metadata": {
    "tags": []
   },
   "outputs": [],
   "source": [
    "H_operator = :(\n",
    "    BX * Rotation + \n",
    "    DX * RotationDistortion #+\n",
    "    # eq0Q * nuclear_quadrupole + \n",
    "    # c * magnetic_quadrupole\n",
    ");"
   ]
  },
  {
   "cell_type": "code",
   "execution_count": 77,
   "id": "77c935ab",
   "metadata": {
    "tags": []
   },
   "outputs": [],
   "source": [
    "parameters = @params begin\n",
    "    BX = 0.379408 * c * 1e2\n",
    "    DX = 5.655e-7 * c * 1e2\n",
    "    eq0Q = 21.95 * 1e6\n",
    "    c = 36e-3 * 1e6\n",
    "end\n",
    ";"
   ]
  },
  {
   "cell_type": "code",
   "execution_count": 78,
   "id": "dfe9c620",
   "metadata": {
    "tags": []
   },
   "outputs": [],
   "source": [
    "# QN_bounds = (label = \"X\", S = 0, I = 3/2, Λ = 0, N = 0:5)\n",
    "QN_bounds = (label = \"X\", S = 0, I = 0, Λ = 0, N = 0:5)\n",
    "basis = order_basis_by_m(enumerate_states(HundsCaseB_LinearMolecule, QN_bounds))\n",
    ";"
   ]
  },
  {
   "cell_type": "code",
   "execution_count": 79,
   "id": "1b70bd02",
   "metadata": {
    "tags": []
   },
   "outputs": [
    {
     "name": "stdout",
     "output_type": "stream",
     "text": [
      "  0.001923 seconds (39.83 k allocations: 1.522 MiB)\n",
      "  0.001786 seconds (39.73 k allocations: 1.219 MiB)\n",
      "  0.000106 seconds (15 allocations: 90.781 KiB)\n"
     ]
    }
   ],
   "source": [
    "CuF_X_v0 = @time Hamiltonian(basis=basis, operator=H_operator, parameters=parameters)\n",
    "@time full_evaluate!(CuF_X_v0)\n",
    "@time solve!(CuF_X_v0)\n",
    ";"
   ]
  },
  {
   "cell_type": "code",
   "execution_count": 80,
   "id": "a8629612",
   "metadata": {
    "tags": []
   },
   "outputs": [
    {
     "name": "stdout",
     "output_type": "stream",
     "text": [
      "  0.001005 seconds (1.76 k allocations: 42.617 KiB)\n"
     ]
    }
   ],
   "source": [
    "@time save_to_file(CuF_X_v0, \"CuF_X_v0\", \"\")"
   ]
  },
  {
   "cell_type": "code",
   "execution_count": 81,
   "id": "3d08856c-6814-40fe-937e-8971c9bfeeed",
   "metadata": {},
   "outputs": [
    {
     "data": {
      "text/latex": [
       "$$1.0\\left|label=X, v_1=0, v_2=0, v_3=0, S=0, I=0, Λ=0, ℓ=0, K=0, N=2, J=2, F=2, M=-2\\right\\rangle$$\n"
      ],
      "text/plain": [
       "State{HundsCaseB_LinearMolecule}(1.3649177796835081e11, HundsCaseB_LinearMolecule[HundsCaseB_LinearMolecule(0.0, \"X\", 0, 0, 0, 0, 0, 0, 0, 0, 5, 5, 5, -5, (K = 0, N = 0:∞, J = 5:5, F = 5:5, M = -5:5)), HundsCaseB_LinearMolecule(0.0, \"X\", 0, 0, 0, 0, 0, 0, 0, 0, 4, 4, 4, -4, (K = 0, N = 0:∞, J = 4:4, F = 4:4, M = -4:4)), HundsCaseB_LinearMolecule(0.0, \"X\", 0, 0, 0, 0, 0, 0, 0, 0, 5, 5, 5, -4, (K = 0, N = 0:∞, J = 5:5, F = 5:5, M = -5:5)), HundsCaseB_LinearMolecule(0.0, \"X\", 0, 0, 0, 0, 0, 0, 0, 0, 3, 3, 3, -3, (K = 0, N = 0:∞, J = 3:3, F = 3:3, M = -3:3)), HundsCaseB_LinearMolecule(0.0, \"X\", 0, 0, 0, 0, 0, 0, 0, 0, 4, 4, 4, -3, (K = 0, N = 0:∞, J = 4:4, F = 4:4, M = -4:4)), HundsCaseB_LinearMolecule(0.0, \"X\", 0, 0, 0, 0, 0, 0, 0, 0, 5, 5, 5, -3, (K = 0, N = 0:∞, J = 5:5, F = 5:5, M = -5:5)), HundsCaseB_LinearMolecule(0.0, \"X\", 0, 0, 0, 0, 0, 0, 0, 0, 2, 2, 2, -2, (K = 0, N = 0:∞, J = 2:2, F = 2:2, M = -2:2)), HundsCaseB_LinearMolecule(0.0, \"X\", 0, 0, 0, 0, 0, 0, 0, 0, 3, 3, 3, -2, (K = 0, N = 0:∞, J = 3:3, F = 3:3, M = -3:3)), HundsCaseB_LinearMolecule(0.0, \"X\", 0, 0, 0, 0, 0, 0, 0, 0, 4, 4, 4, -2, (K = 0, N = 0:∞, J = 4:4, F = 4:4, M = -4:4)), HundsCaseB_LinearMolecule(0.0, \"X\", 0, 0, 0, 0, 0, 0, 0, 0, 5, 5, 5, -2, (K = 0, N = 0:∞, J = 5:5, F = 5:5, M = -5:5))  …  HundsCaseB_LinearMolecule(0.0, \"X\", 0, 0, 0, 0, 0, 0, 0, 0, 2, 2, 2, 2, (K = 0, N = 0:∞, J = 2:2, F = 2:2, M = -2:2)), HundsCaseB_LinearMolecule(0.0, \"X\", 0, 0, 0, 0, 0, 0, 0, 0, 3, 3, 3, 2, (K = 0, N = 0:∞, J = 3:3, F = 3:3, M = -3:3)), HundsCaseB_LinearMolecule(0.0, \"X\", 0, 0, 0, 0, 0, 0, 0, 0, 4, 4, 4, 2, (K = 0, N = 0:∞, J = 4:4, F = 4:4, M = -4:4)), HundsCaseB_LinearMolecule(0.0, \"X\", 0, 0, 0, 0, 0, 0, 0, 0, 5, 5, 5, 2, (K = 0, N = 0:∞, J = 5:5, F = 5:5, M = -5:5)), HundsCaseB_LinearMolecule(0.0, \"X\", 0, 0, 0, 0, 0, 0, 0, 0, 3, 3, 3, 3, (K = 0, N = 0:∞, J = 3:3, F = 3:3, M = -3:3)), HundsCaseB_LinearMolecule(0.0, \"X\", 0, 0, 0, 0, 0, 0, 0, 0, 4, 4, 4, 3, (K = 0, N = 0:∞, J = 4:4, F = 4:4, M = -4:4)), HundsCaseB_LinearMolecule(0.0, \"X\", 0, 0, 0, 0, 0, 0, 0, 0, 5, 5, 5, 3, (K = 0, N = 0:∞, J = 5:5, F = 5:5, M = -5:5)), HundsCaseB_LinearMolecule(0.0, \"X\", 0, 0, 0, 0, 0, 0, 0, 0, 4, 4, 4, 4, (K = 0, N = 0:∞, J = 4:4, F = 4:4, M = -4:4)), HundsCaseB_LinearMolecule(0.0, \"X\", 0, 0, 0, 0, 0, 0, 0, 0, 5, 5, 5, 4, (K = 0, N = 0:∞, J = 5:5, F = 5:5, M = -5:5)), HundsCaseB_LinearMolecule(0.0, \"X\", 0, 0, 0, 0, 0, 0, 0, 0, 5, 5, 5, 5, (K = 0, N = 0:∞, J = 5:5, F = 5:5, M = -5:5))], ComplexF64[0.0 + 0.0im, 0.0 + 0.0im, 0.0 + 0.0im, 0.0 + 0.0im, 0.0 + 0.0im, 0.0 + 0.0im, 1.0 + 0.0im, 0.0 + 0.0im, 0.0 + 0.0im, 0.0 + 0.0im  …  0.0 + 0.0im, 0.0 + 0.0im, 0.0 + 0.0im, 0.0 + 0.0im, 0.0 + 0.0im, 0.0 + 0.0im, 0.0 + 0.0im, 0.0 + 0.0im, 0.0 + 0.0im, 0.0 + 0.0im], 5)"
      ]
     },
     "execution_count": 81,
     "metadata": {},
     "output_type": "execute_result"
    }
   ],
   "source": [
    "CuF_X_v0.states[5]"
   ]
  },
  {
   "cell_type": "code",
   "execution_count": 82,
   "id": "2a7991ee-9a7c-4b56-a134-195bdc702056",
   "metadata": {},
   "outputs": [
    {
     "data": {
      "text/latex": [
       "$$1.0\\left|label=X, v_1=0, v_2=0, v_3=0, S=0, I=0, Λ=0, ℓ=0, K=0, N=3, J=3, F=3, M=3\\right\\rangle$$\n"
      ],
      "text/plain": [
       "State{HundsCaseB_LinearMolecule}(2.729823353017296e11, HundsCaseB_LinearMolecule[HundsCaseB_LinearMolecule(0.0, \"X\", 0, 0, 0, 0, 0, 0, 0, 0, 5, 5, 5, -5, (K = 0, N = 0:∞, J = 5:5, F = 5:5, M = -5:5)), HundsCaseB_LinearMolecule(0.0, \"X\", 0, 0, 0, 0, 0, 0, 0, 0, 4, 4, 4, -4, (K = 0, N = 0:∞, J = 4:4, F = 4:4, M = -4:4)), HundsCaseB_LinearMolecule(0.0, \"X\", 0, 0, 0, 0, 0, 0, 0, 0, 5, 5, 5, -4, (K = 0, N = 0:∞, J = 5:5, F = 5:5, M = -5:5)), HundsCaseB_LinearMolecule(0.0, \"X\", 0, 0, 0, 0, 0, 0, 0, 0, 3, 3, 3, -3, (K = 0, N = 0:∞, J = 3:3, F = 3:3, M = -3:3)), HundsCaseB_LinearMolecule(0.0, \"X\", 0, 0, 0, 0, 0, 0, 0, 0, 4, 4, 4, -3, (K = 0, N = 0:∞, J = 4:4, F = 4:4, M = -4:4)), HundsCaseB_LinearMolecule(0.0, \"X\", 0, 0, 0, 0, 0, 0, 0, 0, 5, 5, 5, -3, (K = 0, N = 0:∞, J = 5:5, F = 5:5, M = -5:5)), HundsCaseB_LinearMolecule(0.0, \"X\", 0, 0, 0, 0, 0, 0, 0, 0, 2, 2, 2, -2, (K = 0, N = 0:∞, J = 2:2, F = 2:2, M = -2:2)), HundsCaseB_LinearMolecule(0.0, \"X\", 0, 0, 0, 0, 0, 0, 0, 0, 3, 3, 3, -2, (K = 0, N = 0:∞, J = 3:3, F = 3:3, M = -3:3)), HundsCaseB_LinearMolecule(0.0, \"X\", 0, 0, 0, 0, 0, 0, 0, 0, 4, 4, 4, -2, (K = 0, N = 0:∞, J = 4:4, F = 4:4, M = -4:4)), HundsCaseB_LinearMolecule(0.0, \"X\", 0, 0, 0, 0, 0, 0, 0, 0, 5, 5, 5, -2, (K = 0, N = 0:∞, J = 5:5, F = 5:5, M = -5:5))  …  HundsCaseB_LinearMolecule(0.0, \"X\", 0, 0, 0, 0, 0, 0, 0, 0, 2, 2, 2, 2, (K = 0, N = 0:∞, J = 2:2, F = 2:2, M = -2:2)), HundsCaseB_LinearMolecule(0.0, \"X\", 0, 0, 0, 0, 0, 0, 0, 0, 3, 3, 3, 2, (K = 0, N = 0:∞, J = 3:3, F = 3:3, M = -3:3)), HundsCaseB_LinearMolecule(0.0, \"X\", 0, 0, 0, 0, 0, 0, 0, 0, 4, 4, 4, 2, (K = 0, N = 0:∞, J = 4:4, F = 4:4, M = -4:4)), HundsCaseB_LinearMolecule(0.0, \"X\", 0, 0, 0, 0, 0, 0, 0, 0, 5, 5, 5, 2, (K = 0, N = 0:∞, J = 5:5, F = 5:5, M = -5:5)), HundsCaseB_LinearMolecule(0.0, \"X\", 0, 0, 0, 0, 0, 0, 0, 0, 3, 3, 3, 3, (K = 0, N = 0:∞, J = 3:3, F = 3:3, M = -3:3)), HundsCaseB_LinearMolecule(0.0, \"X\", 0, 0, 0, 0, 0, 0, 0, 0, 4, 4, 4, 3, (K = 0, N = 0:∞, J = 4:4, F = 4:4, M = -4:4)), HundsCaseB_LinearMolecule(0.0, \"X\", 0, 0, 0, 0, 0, 0, 0, 0, 5, 5, 5, 3, (K = 0, N = 0:∞, J = 5:5, F = 5:5, M = -5:5)), HundsCaseB_LinearMolecule(0.0, \"X\", 0, 0, 0, 0, 0, 0, 0, 0, 4, 4, 4, 4, (K = 0, N = 0:∞, J = 4:4, F = 4:4, M = -4:4)), HundsCaseB_LinearMolecule(0.0, \"X\", 0, 0, 0, 0, 0, 0, 0, 0, 5, 5, 5, 4, (K = 0, N = 0:∞, J = 5:5, F = 5:5, M = -5:5)), HundsCaseB_LinearMolecule(0.0, \"X\", 0, 0, 0, 0, 0, 0, 0, 0, 5, 5, 5, 5, (K = 0, N = 0:∞, J = 5:5, F = 5:5, M = -5:5))], ComplexF64[0.0 + 0.0im, 0.0 + 0.0im, 0.0 + 0.0im, 0.0 + 0.0im, 0.0 + 0.0im, 0.0 + 0.0im, 0.0 + 0.0im, 0.0 + 0.0im, 0.0 + 0.0im, 0.0 + 0.0im  …  0.0 + 0.0im, 0.0 + 0.0im, 0.0 + 0.0im, 0.0 + 0.0im, 1.0 + 0.0im, 0.0 + 0.0im, 0.0 + 0.0im, 0.0 + 0.0im, 0.0 + 0.0im, 0.0 + 0.0im], 16)"
      ]
     },
     "execution_count": 82,
     "metadata": {},
     "output_type": "execute_result"
    }
   ],
   "source": [
    "CuF_X_v0.states[16]"
   ]
  },
  {
   "cell_type": "code",
   "execution_count": null,
   "id": "d1e7f6f7-9e07-40cc-bb3f-b412ea4538f2",
   "metadata": {},
   "outputs": [],
   "source": []
  }
 ],
 "metadata": {
  "kernelspec": {
   "display_name": "Julia 1.10.5",
   "language": "julia",
   "name": "julia-1.10"
  },
  "language_info": {
   "file_extension": ".jl",
   "mimetype": "application/julia",
   "name": "julia",
   "version": "1.10.5"
  }
 },
 "nbformat": 4,
 "nbformat_minor": 5
}
