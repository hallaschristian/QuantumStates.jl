{
 "cells": [
  {
   "cell_type": "code",
   "execution_count": 18,
   "id": "8a350db8-0794-452c-a547-61c889ed3b1c",
   "metadata": {},
   "outputs": [],
   "source": [
    "# # Spectroscopic constants for CaOH, A(100) state\n",
    "# # From Coxon et al. (1996)\n",
    "# parameters = @params begin\n",
    "#     T_A = 16626.922 * 299792458 * 1e-4\n",
    "#     Aso_A = 67.165 * 299792458 * 1e-4\n",
    "#     Be_A = 0.338906 * 299792458 * 1e-4\n",
    "#     p_A = -0.04405 * 299792458 * 1e-4\n",
    "#     q_A = -0.4173e-3 * 299792458 * 1e-4\n",
    "# end;"
   ]
  },
  {
   "cell_type": "code",
   "execution_count": 19,
   "id": "4ebeb064",
   "metadata": {},
   "outputs": [],
   "source": [
    "using QuantumStates\n",
    "using UnitsToValue"
   ]
  },
  {
   "cell_type": "code",
   "execution_count": 20,
   "id": "83847b16",
   "metadata": {
    "tags": []
   },
   "outputs": [],
   "source": [
    "H_operator = :(\n",
    "    T_A * DiagonalOperator +\n",
    "    Be_A * Rotation + \n",
    "    Aso_A * SpinOrbit +\n",
    "    q_A * ΛDoubling_q +\n",
    "    p_A * ΛDoubling_p2q + \n",
    "    q_A * (2ΛDoubling_p2q) #+\n",
    "    # b00_A * (Hyperfine_IF - Hyperfine_IL)\n",
    ");"
   ]
  },
  {
   "cell_type": "code",
   "execution_count": 21,
   "id": "57fdbe2a",
   "metadata": {},
   "outputs": [],
   "source": [
    "# Spectroscopic constants for CaOH, A state\n",
    "parameters = @params begin\n",
    "    T_A = 16586.167 * c * 1e2\n",
    "    Be_A = 0.3412200 * c * 1e2\n",
    "    Aso_A = 66.8181 * c * 1e2\n",
    "    p_A = -0.04287 * c * 1e2\n",
    "    q_A = -0.3257e-3 * c * 1e2\n",
    "    b00_A = 1e-9 * c * 1e2\n",
    "end;"
   ]
  },
  {
   "cell_type": "code",
   "execution_count": 22,
   "id": "2802412d",
   "metadata": {
    "editable": true,
    "slideshow": {
     "slide_type": ""
    },
    "tags": []
   },
   "outputs": [],
   "source": [
    "QN_bounds = (\n",
    "    label = \"A\",\n",
    "    v_1 = 1,\n",
    "    Λ = (-1,1),\n",
    "    I = 1/2,\n",
    "    S = 1/2,\n",
    "    J = 1/2:13/2\n",
    "    )\n",
    "basis = order_basis_by_m(enumerate_states(HundsCaseA_LinearMolecule, QN_bounds))\n",
    ";"
   ]
  },
  {
   "cell_type": "code",
   "execution_count": 23,
   "id": "241c562c",
   "metadata": {},
   "outputs": [
    {
     "name": "stdout",
     "output_type": "stream",
     "text": [
      "  0.945404 seconds (17.09 M allocations: 641.924 MiB, 13.11% gc time)\n",
      "  0.003329 seconds\n",
      "  0.117527 seconds (15 allocations: 9.212 MiB)\n"
     ]
    }
   ],
   "source": [
    "CaOH_A100 = @time Hamiltonian(basis=basis, operator=H_operator, parameters=parameters)\n",
    "@time evaluate!(CaOH_A100)\n",
    "@time solve!(CaOH_A100)\n",
    ";"
   ]
  },
  {
   "cell_type": "code",
   "execution_count": 24,
   "id": "19b0a5a1",
   "metadata": {
    "editable": true,
    "slideshow": {
     "slide_type": ""
    },
    "tags": []
   },
   "outputs": [
    {
     "name": "stdout",
     "output_type": "stream",
     "text": [
      "  0.022938 seconds (43.68 k allocations: 963.758 KiB)\n"
     ]
    }
   ],
   "source": [
    "@time save_to_file(CaOH_A100, \"CaOH_A100\", \"\")"
   ]
  },
  {
   "cell_type": "code",
   "execution_count": 25,
   "id": "4acbd5c0-ff55-42b5-8fe1-c3f9ace553b5",
   "metadata": {},
   "outputs": [
    {
     "data": {
      "text/latex": [
       "$$-0.707\\left|label=A, v_1=1, v_2=0, ℓ=0, v_3=0, Λ=-1, K=-1, I=1/2, S=1/2, Σ=1/2, J=1/2, P=-1/2, F=1, M=-1\\right\\rangle$$\n",
       "$$ + 0.707\\left|label=A, v_1=1, v_2=0, ℓ=0, v_3=0, Λ=1, K=1, I=1/2, S=1/2, Σ=-1/2, J=1/2, P=1/2, F=1, M=-1\\right\\rangle$$\n"
      ],
      "text/plain": [
       "State{HundsCaseA_LinearMolecule}(4.9624877639983194e14, HundsCaseA_LinearMolecule[HundsCaseA_LinearMolecule(0.0, \"A\", 1, 0, 0, 0, -1, -1, 1/2, 1/2, -1/2, 13/2, -3/2, 7, -7, (K = -1, Σ = -0.5:1.0:0.5, P = -1.5:1.0:-1.5, F = 6.0:1.0:7.0, M = -7.0:1.0:7.0)), HundsCaseA_LinearMolecule(0.0, \"A\", 1, 0, 0, 0, -1, -1, 1/2, 1/2, 1/2, 13/2, -1/2, 7, -7, (K = -1, Σ = -0.5:1.0:0.5, P = -0.5:1.0:-0.5, F = 6.0:1.0:7.0, M = -7.0:1.0:7.0)), HundsCaseA_LinearMolecule(0.0, \"A\", 1, 0, 0, 0, 1, 1, 1/2, 1/2, -1/2, 13/2, 1/2, 7, -7, (K = 1, Σ = -0.5:1.0:0.5, P = 0.5:1.0:0.5, F = 6.0:1.0:7.0, M = -7.0:1.0:7.0)), HundsCaseA_LinearMolecule(0.0, \"A\", 1, 0, 0, 0, 1, 1, 1/2, 1/2, 1/2, 13/2, 3/2, 7, -7, (K = 1, Σ = -0.5:1.0:0.5, P = 1.5:1.0:1.5, F = 6.0:1.0:7.0, M = -7.0:1.0:7.0)), HundsCaseA_LinearMolecule(0.0, \"A\", 1, 0, 0, 0, -1, -1, 1/2, 1/2, -1/2, 11/2, -3/2, 6, -6, (K = -1, Σ = -0.5:1.0:0.5, P = -1.5:1.0:-1.5, F = 5.0:1.0:6.0, M = -6.0:1.0:6.0)), HundsCaseA_LinearMolecule(0.0, \"A\", 1, 0, 0, 0, -1, -1, 1/2, 1/2, -1/2, 13/2, -3/2, 6, -6, (K = -1, Σ = -0.5:1.0:0.5, P = -1.5:1.0:-1.5, F = 6.0:1.0:7.0, M = -6.0:1.0:6.0)), HundsCaseA_LinearMolecule(0.0, \"A\", 1, 0, 0, 0, -1, -1, 1/2, 1/2, -1/2, 13/2, -3/2, 7, -6, (K = -1, Σ = -0.5:1.0:0.5, P = -1.5:1.0:-1.5, F = 6.0:1.0:7.0, M = -7.0:1.0:7.0)), HundsCaseA_LinearMolecule(0.0, \"A\", 1, 0, 0, 0, -1, -1, 1/2, 1/2, 1/2, 11/2, -1/2, 6, -6, (K = -1, Σ = -0.5:1.0:0.5, P = -0.5:1.0:-0.5, F = 5.0:1.0:6.0, M = -6.0:1.0:6.0)), HundsCaseA_LinearMolecule(0.0, \"A\", 1, 0, 0, 0, -1, -1, 1/2, 1/2, 1/2, 13/2, -1/2, 6, -6, (K = -1, Σ = -0.5:1.0:0.5, P = -0.5:1.0:-0.5, F = 6.0:1.0:7.0, M = -6.0:1.0:6.0)), HundsCaseA_LinearMolecule(0.0, \"A\", 1, 0, 0, 0, -1, -1, 1/2, 1/2, 1/2, 13/2, -1/2, 7, -6, (K = -1, Σ = -0.5:1.0:0.5, P = -0.5:1.0:-0.5, F = 6.0:1.0:7.0, M = -7.0:1.0:7.0))  …  HundsCaseA_LinearMolecule(0.0, \"A\", 1, 0, 0, 0, 1, 1, 1/2, 1/2, -1/2, 11/2, 1/2, 6, 6, (K = 1, Σ = -0.5:1.0:0.5, P = 0.5:1.0:0.5, F = 5.0:1.0:6.0, M = -6.0:1.0:6.0)), HundsCaseA_LinearMolecule(0.0, \"A\", 1, 0, 0, 0, 1, 1, 1/2, 1/2, -1/2, 13/2, 1/2, 6, 6, (K = 1, Σ = -0.5:1.0:0.5, P = 0.5:1.0:0.5, F = 6.0:1.0:7.0, M = -6.0:1.0:6.0)), HundsCaseA_LinearMolecule(0.0, \"A\", 1, 0, 0, 0, 1, 1, 1/2, 1/2, -1/2, 13/2, 1/2, 7, 6, (K = 1, Σ = -0.5:1.0:0.5, P = 0.5:1.0:0.5, F = 6.0:1.0:7.0, M = -7.0:1.0:7.0)), HundsCaseA_LinearMolecule(0.0, \"A\", 1, 0, 0, 0, 1, 1, 1/2, 1/2, 1/2, 11/2, 3/2, 6, 6, (K = 1, Σ = -0.5:1.0:0.5, P = 1.5:1.0:1.5, F = 5.0:1.0:6.0, M = -6.0:1.0:6.0)), HundsCaseA_LinearMolecule(0.0, \"A\", 1, 0, 0, 0, 1, 1, 1/2, 1/2, 1/2, 13/2, 3/2, 6, 6, (K = 1, Σ = -0.5:1.0:0.5, P = 1.5:1.0:1.5, F = 6.0:1.0:7.0, M = -6.0:1.0:6.0)), HundsCaseA_LinearMolecule(0.0, \"A\", 1, 0, 0, 0, 1, 1, 1/2, 1/2, 1/2, 13/2, 3/2, 7, 6, (K = 1, Σ = -0.5:1.0:0.5, P = 1.5:1.0:1.5, F = 6.0:1.0:7.0, M = -7.0:1.0:7.0)), HundsCaseA_LinearMolecule(0.0, \"A\", 1, 0, 0, 0, -1, -1, 1/2, 1/2, -1/2, 13/2, -3/2, 7, 7, (K = -1, Σ = -0.5:1.0:0.5, P = -1.5:1.0:-1.5, F = 6.0:1.0:7.0, M = -7.0:1.0:7.0)), HundsCaseA_LinearMolecule(0.0, \"A\", 1, 0, 0, 0, -1, -1, 1/2, 1/2, 1/2, 13/2, -1/2, 7, 7, (K = -1, Σ = -0.5:1.0:0.5, P = -0.5:1.0:-0.5, F = 6.0:1.0:7.0, M = -7.0:1.0:7.0)), HundsCaseA_LinearMolecule(0.0, \"A\", 1, 0, 0, 0, 1, 1, 1/2, 1/2, -1/2, 13/2, 1/2, 7, 7, (K = 1, Σ = -0.5:1.0:0.5, P = 0.5:1.0:0.5, F = 6.0:1.0:7.0, M = -7.0:1.0:7.0)), HundsCaseA_LinearMolecule(0.0, \"A\", 1, 0, 0, 0, 1, 1, 1/2, 1/2, 1/2, 13/2, 3/2, 7, 7, (K = 1, Σ = -0.5:1.0:0.5, P = 1.5:1.0:1.5, F = 6.0:1.0:7.0, M = -7.0:1.0:7.0))], ComplexF64[0.0 + 0.0im, 0.0 + 0.0im, 0.0 + 0.0im, 0.0 + 0.0im, 0.0 + 0.0im, 0.0 + 0.0im, 0.0 + 0.0im, 0.0 + 0.0im, 0.0 + 0.0im, 0.0 + 0.0im  …  0.0 + 0.0im, 0.0 + 0.0im, 0.0 + 0.0im, 0.0 + 0.0im, 0.0 + 0.0im, 0.0 + 0.0im, 0.0 + 0.0im, 0.0 + 0.0im, 0.0 + 0.0im, 0.0 + 0.0im], 1)"
      ]
     },
     "execution_count": 25,
     "metadata": {},
     "output_type": "execute_result"
    }
   ],
   "source": [
    "CaOH_A000.states[1]"
   ]
  },
  {
   "cell_type": "code",
   "execution_count": null,
   "id": "5e807660-8409-4e03-95ba-689763bb5438",
   "metadata": {},
   "outputs": [],
   "source": []
  }
 ],
 "metadata": {
  "kernelspec": {
   "display_name": "Julia 1.10.5",
   "language": "julia",
   "name": "julia-1.10"
  },
  "language_info": {
   "file_extension": ".jl",
   "mimetype": "application/julia",
   "name": "julia",
   "version": "1.10.5"
  }
 },
 "nbformat": 4,
 "nbformat_minor": 5
}
