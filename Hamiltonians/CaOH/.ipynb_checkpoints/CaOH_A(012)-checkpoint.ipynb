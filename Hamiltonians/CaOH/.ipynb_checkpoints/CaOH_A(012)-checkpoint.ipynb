{
 "cells": [
  {
   "cell_type": "code",
   "execution_count": 20,
   "id": "342d0983-7400-47be-b9e4-b4356ef06db6",
   "metadata": {
    "editable": true,
    "slideshow": {
     "slide_type": ""
    },
    "tags": []
   },
   "outputs": [],
   "source": [
    "using QuantumStates\n",
    "using UnitsToValue"
   ]
  },
  {
   "cell_type": "code",
   "execution_count": 21,
   "id": "be2b539b-253e-49b7-a046-a0801c2d94c3",
   "metadata": {},
   "outputs": [],
   "source": [
    "# Define the operator for the Hamiltonian\n",
    "H_operator = :(\n",
    "    T * DiagonalOperator +\n",
    "    B_Σ * Rotation_Σ +\n",
    "    B_Δ * Rotation_Δ +\n",
    "    A_v * SpinOrbit + \n",
    "    q_e * (ΛDoubling_q + 2ΛDoubling_p2q) +\n",
    "    p_e * ΛDoubling_p2q +\n",
    "    # q_e * (ΛDoubling_q - 2ΛDoubling_p2q) +\n",
    "    # p_e * (-1 * ΛDoubling_p2q) +\n",
    "    q_v * ℓDoubling + \n",
    "    ϵω2 * RennerTeller + \n",
    "    gK * gK_nonadiabatic\n",
    "    # b00_A * Hyperfine_IF\n",
    "    # b00_A * Hyperfine_IL\n",
    "    # b00_A * (Hyperfine_IF - Hyperfine_IL)\n",
    ");"
   ]
  },
  {
   "cell_type": "code",
   "execution_count": 22,
   "id": "7584ce00-050d-418a-8bd6-2ab64bb677f1",
   "metadata": {
    "editable": true,
    "slideshow": {
     "slide_type": ""
    },
    "tags": []
   },
   "outputs": [],
   "source": [
    "# Spectroscopic parameters for the A(010) state from Li & Coxon (1995)\n",
    "# Note that parameters are converted from cm⁻¹ to Hz\n",
    "parameters = @params begin\n",
    "    T = 16360.389 * c * 1e2 + 2 * 3847 * c * 1e2 # we'll just take the energy to be 2 × 3847 cm⁻¹   \n",
    "    B_Σ = 0.3402123 * c * 1e2\n",
    "    B_Δ = 0.3402609 * c * 1e2\n",
    "    A_v = 67.0951 * c * 1e2\n",
    "    q_e = -0.3072e-3 * c * 1e2\n",
    "    p_e = -0.04472 * c * 1e2\n",
    "    q_v = -0.6978e-3 * c * 1e2\n",
    "    ϵω2 = -36.2634 * c * 1e2\n",
    "    gK = 0.5937 * c * 1e2\n",
    "    b00_A = 1e6\n",
    "end;"
   ]
  },
  {
   "cell_type": "code",
   "execution_count": 23,
   "id": "25b91d4b-266f-44f2-b69e-6ea5c75329ca",
   "metadata": {},
   "outputs": [],
   "source": [
    "# Define bounds for the quantum numbers that define which states to include in the basis\n",
    "QN_bounds = (\n",
    "    label = \"A\",\n",
    "    v_1 = 0,\n",
    "    v_2 = 1,\n",
    "    ℓ = (-1,1),\n",
    "    v_3 = 2,\n",
    "    Λ = (-1,1),\n",
    "    I = 1/2,\n",
    "    S = 1/2,\n",
    "    J = 1/2:13/2\n",
    "    )\n",
    "basis = order_basis_by_m(enumerate_states(HundsCaseA_LinearMolecule, QN_bounds))\n",
    ";"
   ]
  },
  {
   "cell_type": "code",
   "execution_count": 24,
   "id": "14499427-f281-4a14-bedb-01c8105d8333",
   "metadata": {},
   "outputs": [
    {
     "name": "stdout",
     "output_type": "stream",
     "text": [
      "  3.595178 seconds (63.15 M allocations: 2.314 GiB, 14.14% gc time)\n",
      "  3.853138 seconds (63.15 M allocations: 2.180 GiB, 18.38% gc time)\n",
      "  0.267586 seconds (15 allocations: 19.259 MiB, 3.17% gc time)\n"
     ]
    }
   ],
   "source": [
    "CaOH_A012 = @time Hamiltonian(basis=basis, operator=H_operator, parameters=parameters)\n",
    "@time full_evaluate!(CaOH_A012)\n",
    "@time solve!(CaOH_A012)\n",
    ";"
   ]
  },
  {
   "cell_type": "code",
   "execution_count": 25,
   "id": "a3ebb40b-0676-4427-b548-b26731ddf610",
   "metadata": {},
   "outputs": [
    {
     "name": "stdout",
     "output_type": "stream",
     "text": [
      "  0.070602 seconds (63.90 k allocations: 1.334 MiB)\n"
     ]
    }
   ],
   "source": [
    "@time save_to_file(CaOH_A012, \"CaOH_A012\", \"\")"
   ]
  },
  {
   "cell_type": "code",
   "execution_count": null,
   "id": "3c0611d4-3e6e-475c-a597-5bd9bdbc0b05",
   "metadata": {},
   "outputs": [],
   "source": []
  }
 ],
 "metadata": {
  "kernelspec": {
   "display_name": "Julia 1.10.5",
   "language": "julia",
   "name": "julia-1.10"
  },
  "language_info": {
   "file_extension": ".jl",
   "mimetype": "application/julia",
   "name": "julia",
   "version": "1.10.5"
  }
 },
 "nbformat": 4,
 "nbformat_minor": 5
}
