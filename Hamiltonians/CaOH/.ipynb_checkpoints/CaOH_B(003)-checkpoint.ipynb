{
 "cells": [
  {
   "cell_type": "code",
   "execution_count": 8,
   "id": "4ebeb064",
   "metadata": {
    "tags": []
   },
   "outputs": [],
   "source": [
    "using QuantumStates"
   ]
  },
  {
   "cell_type": "code",
   "execution_count": 9,
   "id": "83847b16",
   "metadata": {
    "tags": []
   },
   "outputs": [],
   "source": [
    "H_operator = :(\n",
    "    T * DiagonalOperator +\n",
    "    BX * Rotation + \n",
    "    DX * RotationDistortion + \n",
    "    γX * SpinRotation + \n",
    "    bFX * Hyperfine_IS + \n",
    "    cX * (Hyperfine_Dipolar/3) +\n",
    "    s * basis_splitting\n",
    ");"
   ]
  },
  {
   "cell_type": "code",
   "execution_count": 10,
   "id": "ab3934ea",
   "metadata": {
    "editable": true,
    "slideshow": {
     "slide_type": ""
    },
    "tags": []
   },
   "outputs": [],
   "source": [
    "parameters = @params begin\n",
    "    T = c / 555e-9 + 3 * 3847 * c * 1e2\n",
    "    BX = 10023.0841 * 1e6\n",
    "    DX = 1.154e-2 * 1e6\n",
    "    γX = 34.7593 * 1e6\n",
    "    bFX = 2.602 * 1e6\n",
    "    cX = 2.053 * 1e6\n",
    "    s = 0.\n",
    "end;"
   ]
  },
  {
   "cell_type": "code",
   "execution_count": 11,
   "id": "2802412d",
   "metadata": {
    "tags": []
   },
   "outputs": [],
   "source": [
    "QN_bounds = (label=\"B\", v_3=3, S = 1/2, I = 1/2, Λ = 0, N = 0:3)\n",
    "basis = enumerate_states(HundsCaseB_LinearMolecule, QN_bounds)\n",
    ";"
   ]
  },
  {
   "cell_type": "code",
   "execution_count": 12,
   "id": "241c562c",
   "metadata": {
    "tags": []
   },
   "outputs": [
    {
     "name": "stdout",
     "output_type": "stream",
     "text": [
      "  0.011740 seconds (245.85 k allocations: 10.294 MiB)\n",
      "  0.000060 seconds\n",
      "  0.000667 seconds (15 allocations: 244.719 KiB)\n"
     ]
    }
   ],
   "source": [
    "CaOH_B003 = @time Hamiltonian(basis=basis, operator=H_operator, parameters=parameters)\n",
    "@time evaluate!(CaOH_B003)\n",
    "@time solve!(CaOH_B003)\n",
    ";"
   ]
  },
  {
   "cell_type": "code",
   "execution_count": 13,
   "id": "19b0a5a1",
   "metadata": {
    "tags": []
   },
   "outputs": [
    {
     "name": "stdout",
     "output_type": "stream",
     "text": [
      "  0.002086 seconds (5.35 k allocations: 131.383 KiB)\n"
     ]
    }
   ],
   "source": [
    "@time save_to_file(CaOH_B003, \"CaOH_B003\", \"\")"
   ]
  },
  {
   "cell_type": "code",
   "execution_count": 14,
   "id": "cb5e4a87-cc91-4024-b630-eaeaf0746a02",
   "metadata": {
    "editable": true,
    "slideshow": {
     "slide_type": ""
    },
    "tags": []
   },
   "outputs": [
    {
     "data": {
      "text/latex": [
       "$$1.0\\left|label=B, v_1=0, v_2=0, v_3=3, S=1/2, I=1/2, Λ=0, ℓ=0, K=0, N=0, J=1/2, F=0, M=0\\right\\rangle$$\n"
      ],
      "text/plain": [
       "State{HundsCaseB_LinearMolecule}(8.86157064817291e14, HundsCaseB_LinearMolecule[HundsCaseB_LinearMolecule(0.0, \"B\", 0, 0, 3, 1/2, 1/2, 0, 0, 0, 0, 1/2, 0, 0, (K = 0, N = 0:∞, J = 0.5:1.0:0.5, F = 0.0:1.0:1.0, M = 0.0:1.0:0.0)), HundsCaseB_LinearMolecule(0.0, \"B\", 0, 0, 3, 1/2, 1/2, 0, 0, 0, 0, 1/2, 1, -1, (K = 0, N = 0:∞, J = 0.5:1.0:0.5, F = 0.0:1.0:1.0, M = -1.0:1.0:1.0)), HundsCaseB_LinearMolecule(0.0, \"B\", 0, 0, 3, 1/2, 1/2, 0, 0, 0, 0, 1/2, 1, 0, (K = 0, N = 0:∞, J = 0.5:1.0:0.5, F = 0.0:1.0:1.0, M = -1.0:1.0:1.0)), HundsCaseB_LinearMolecule(0.0, \"B\", 0, 0, 3, 1/2, 1/2, 0, 0, 0, 0, 1/2, 1, 1, (K = 0, N = 0:∞, J = 0.5:1.0:0.5, F = 0.0:1.0:1.0, M = -1.0:1.0:1.0)), HundsCaseB_LinearMolecule(0.0, \"B\", 0, 0, 3, 1/2, 1/2, 0, 0, 0, 1, 1/2, 0, 0, (K = 0, N = 0:∞, J = 0.5:1.0:1.5, F = 0.0:1.0:1.0, M = 0.0:1.0:0.0)), HundsCaseB_LinearMolecule(0.0, \"B\", 0, 0, 3, 1/2, 1/2, 0, 0, 0, 1, 1/2, 1, -1, (K = 0, N = 0:∞, J = 0.5:1.0:1.5, F = 0.0:1.0:1.0, M = -1.0:1.0:1.0)), HundsCaseB_LinearMolecule(0.0, \"B\", 0, 0, 3, 1/2, 1/2, 0, 0, 0, 1, 1/2, 1, 0, (K = 0, N = 0:∞, J = 0.5:1.0:1.5, F = 0.0:1.0:1.0, M = -1.0:1.0:1.0)), HundsCaseB_LinearMolecule(0.0, \"B\", 0, 0, 3, 1/2, 1/2, 0, 0, 0, 1, 1/2, 1, 1, (K = 0, N = 0:∞, J = 0.5:1.0:1.5, F = 0.0:1.0:1.0, M = -1.0:1.0:1.0)), HundsCaseB_LinearMolecule(0.0, \"B\", 0, 0, 3, 1/2, 1/2, 0, 0, 0, 1, 3/2, 1, -1, (K = 0, N = 0:∞, J = 0.5:1.0:1.5, F = 1.0:1.0:2.0, M = -1.0:1.0:1.0)), HundsCaseB_LinearMolecule(0.0, \"B\", 0, 0, 3, 1/2, 1/2, 0, 0, 0, 1, 3/2, 1, 0, (K = 0, N = 0:∞, J = 0.5:1.0:1.5, F = 1.0:1.0:2.0, M = -1.0:1.0:1.0))  …  HundsCaseB_LinearMolecule(0.0, \"B\", 0, 0, 3, 1/2, 1/2, 0, 0, 0, 3, 7/2, 3, 3, (K = 0, N = 0:∞, J = 2.5:1.0:3.5, F = 3.0:1.0:4.0, M = -3.0:1.0:3.0)), HundsCaseB_LinearMolecule(0.0, \"B\", 0, 0, 3, 1/2, 1/2, 0, 0, 0, 3, 7/2, 4, -4, (K = 0, N = 0:∞, J = 2.5:1.0:3.5, F = 3.0:1.0:4.0, M = -4.0:1.0:4.0)), HundsCaseB_LinearMolecule(0.0, \"B\", 0, 0, 3, 1/2, 1/2, 0, 0, 0, 3, 7/2, 4, -3, (K = 0, N = 0:∞, J = 2.5:1.0:3.5, F = 3.0:1.0:4.0, M = -4.0:1.0:4.0)), HundsCaseB_LinearMolecule(0.0, \"B\", 0, 0, 3, 1/2, 1/2, 0, 0, 0, 3, 7/2, 4, -2, (K = 0, N = 0:∞, J = 2.5:1.0:3.5, F = 3.0:1.0:4.0, M = -4.0:1.0:4.0)), HundsCaseB_LinearMolecule(0.0, \"B\", 0, 0, 3, 1/2, 1/2, 0, 0, 0, 3, 7/2, 4, -1, (K = 0, N = 0:∞, J = 2.5:1.0:3.5, F = 3.0:1.0:4.0, M = -4.0:1.0:4.0)), HundsCaseB_LinearMolecule(0.0, \"B\", 0, 0, 3, 1/2, 1/2, 0, 0, 0, 3, 7/2, 4, 0, (K = 0, N = 0:∞, J = 2.5:1.0:3.5, F = 3.0:1.0:4.0, M = -4.0:1.0:4.0)), HundsCaseB_LinearMolecule(0.0, \"B\", 0, 0, 3, 1/2, 1/2, 0, 0, 0, 3, 7/2, 4, 1, (K = 0, N = 0:∞, J = 2.5:1.0:3.5, F = 3.0:1.0:4.0, M = -4.0:1.0:4.0)), HundsCaseB_LinearMolecule(0.0, \"B\", 0, 0, 3, 1/2, 1/2, 0, 0, 0, 3, 7/2, 4, 2, (K = 0, N = 0:∞, J = 2.5:1.0:3.5, F = 3.0:1.0:4.0, M = -4.0:1.0:4.0)), HundsCaseB_LinearMolecule(0.0, \"B\", 0, 0, 3, 1/2, 1/2, 0, 0, 0, 3, 7/2, 4, 3, (K = 0, N = 0:∞, J = 2.5:1.0:3.5, F = 3.0:1.0:4.0, M = -4.0:1.0:4.0)), HundsCaseB_LinearMolecule(0.0, \"B\", 0, 0, 3, 1/2, 1/2, 0, 0, 0, 3, 7/2, 4, 4, (K = 0, N = 0:∞, J = 2.5:1.0:3.5, F = 3.0:1.0:4.0, M = -4.0:1.0:4.0))], ComplexF64[1.0 + 0.0im, 0.0 + 0.0im, 0.0 + 0.0im, 0.0 + 0.0im, 0.0 + 0.0im, 0.0 + 0.0im, 0.0 + 0.0im, 0.0 + 0.0im, 0.0 + 0.0im, 0.0 + 0.0im  …  0.0 + 0.0im, 0.0 + 0.0im, 0.0 + 0.0im, 0.0 + 0.0im, 0.0 + 0.0im, 0.0 + 0.0im, 0.0 + 0.0im, 0.0 + 0.0im, 0.0 + 0.0im, 0.0 + 0.0im], 1)"
      ]
     },
     "execution_count": 14,
     "metadata": {},
     "output_type": "execute_result"
    }
   ],
   "source": [
    "CaOH_B003.states[1]"
   ]
  }
 ],
 "metadata": {
  "kernelspec": {
   "display_name": "Julia 1.9.3",
   "language": "julia",
   "name": "julia-1.9"
  },
  "language_info": {
   "file_extension": ".jl",
   "mimetype": "application/julia",
   "name": "julia",
   "version": "1.9.3"
  }
 },
 "nbformat": 4,
 "nbformat_minor": 5
}
