{
 "cells": [
  {
   "cell_type": "code",
   "execution_count": 1,
   "id": "4ebeb064",
   "metadata": {},
   "outputs": [],
   "source": [
    "using QuantumStates\n",
    "using UnitsToValue"
   ]
  },
  {
   "cell_type": "code",
   "execution_count": 2,
   "id": "83847b16",
   "metadata": {
    "tags": []
   },
   "outputs": [],
   "source": [
    "H_operator = :(\n",
    "    T_A * DiagonalOperator +\n",
    "    Be_A * Rotation + \n",
    "    Aso_A * SpinOrbit +\n",
    "    q_A * ΛDoubling_q +\n",
    "    p_A * ΛDoubling_p2q + \n",
    "    q_A * (2ΛDoubling_p2q) #+\n",
    "    # b00_A * (Hyperfine_IF - Hyperfine_IL)\n",
    ");"
   ]
  },
  {
   "cell_type": "code",
   "execution_count": 3,
   "id": "57fdbe2a",
   "metadata": {},
   "outputs": [],
   "source": [
    "# Spectroscopic constants for CaOH, A state\n",
    "parameters = @params begin\n",
    "    T_A = 15998.122 * c * 1e2\n",
    "    Be_A = 0.3412200 * c * 1e2\n",
    "    Aso_A = 66.8181 * c * 1e2\n",
    "    p_A = -0.04287 * c * 1e2\n",
    "    q_A = -0.3257e-3 * c * 1e2\n",
    "    b00_A = 1e-9 * c * 1e2\n",
    "end;"
   ]
  },
  {
   "cell_type": "code",
   "execution_count": 4,
   "id": "2802412d",
   "metadata": {
    "editable": true,
    "slideshow": {
     "slide_type": ""
    },
    "tags": []
   },
   "outputs": [],
   "source": [
    "QN_bounds = (\n",
    "    label = \"A\",\n",
    "    Λ = (-1,1),\n",
    "    I = 1/2,\n",
    "    S = 1/2,\n",
    "    J = 1/2:13/2\n",
    "    )\n",
    "basis = order_basis_by_m(enumerate_states(HundsCaseA_LinearMolecule, QN_bounds))\n",
    ";"
   ]
  },
  {
   "cell_type": "code",
   "execution_count": 5,
   "id": "241c562c",
   "metadata": {},
   "outputs": [
    {
     "name": "stdout",
     "output_type": "stream",
     "text": [
      "  2.493313 seconds (18.52 M allocations: 734.896 MiB, 22.07% gc time, 51.79% compilation time)\n",
      "  0.088817 seconds (46.68 k allocations: 3.172 MiB, 97.98% compilation time)\n",
      "  0.318231 seconds (213.02 k allocations: 23.256 MiB, 57.24% compilation time)\n"
     ]
    }
   ],
   "source": [
    "CaOH_A000 = @time Hamiltonian(basis=basis, operator=H_operator, parameters=parameters)\n",
    "@time evaluate!(CaOH_A000)\n",
    "@time solve!(CaOH_A000)\n",
    ";"
   ]
  },
  {
   "cell_type": "code",
   "execution_count": 6,
   "id": "19b0a5a1",
   "metadata": {
    "editable": true,
    "slideshow": {
     "slide_type": ""
    },
    "tags": []
   },
   "outputs": [
    {
     "name": "stdout",
     "output_type": "stream",
     "text": [
      "  0.208568 seconds (505.02 k allocations: 32.021 MiB, 4.99% gc time, 86.45% compilation time)\n"
     ]
    }
   ],
   "source": [
    "@time save_to_file(CaOH_A000, \"CaOH_A000\", \"\")"
   ]
  },
  {
   "cell_type": "code",
   "execution_count": 7,
   "id": "4acbd5c0-ff55-42b5-8fe1-c3f9ace553b5",
   "metadata": {},
   "outputs": [
    {
     "data": {
      "text/latex": [
       "$$-0.707\\left|label=A, v_1=0, v_2=0, ℓ=0, v_3=0, Λ=-1, K=-1, I=1/2, S=1/2, Σ=1/2, J=1/2, P=-1/2, F=0, M=0\\right\\rangle$$\n",
       "$$ + 0.707\\left|label=A, v_1=0, v_2=0, ℓ=0, v_3=0, Λ=1, K=1, I=1/2, S=1/2, Σ=-1/2, J=1/2, P=1/2, F=0, M=0\\right\\rangle$$\n"
      ],
      "text/plain": [
       "State{HundsCaseA_LinearMolecule}(4.786196308033706e14, HundsCaseA_LinearMolecule[HundsCaseA_LinearMolecule(0.0, \"A\", 0, 0, 0, 0, -1, -1, 1/2, 1/2, -1/2, 13/2, -3/2, 7, -7, (K = -1, Σ = -0.5:1.0:0.5, P = -1.5:1.0:-1.5, F = 6.0:1.0:7.0, M = -7.0:1.0:7.0)), HundsCaseA_LinearMolecule(0.0, \"A\", 0, 0, 0, 0, -1, -1, 1/2, 1/2, 1/2, 13/2, -1/2, 7, -7, (K = -1, Σ = -0.5:1.0:0.5, P = -0.5:1.0:-0.5, F = 6.0:1.0:7.0, M = -7.0:1.0:7.0)), HundsCaseA_LinearMolecule(0.0, \"A\", 0, 0, 0, 0, 1, 1, 1/2, 1/2, -1/2, 13/2, 1/2, 7, -7, (K = 1, Σ = -0.5:1.0:0.5, P = 0.5:1.0:0.5, F = 6.0:1.0:7.0, M = -7.0:1.0:7.0)), HundsCaseA_LinearMolecule(0.0, \"A\", 0, 0, 0, 0, 1, 1, 1/2, 1/2, 1/2, 13/2, 3/2, 7, -7, (K = 1, Σ = -0.5:1.0:0.5, P = 1.5:1.0:1.5, F = 6.0:1.0:7.0, M = -7.0:1.0:7.0)), HundsCaseA_LinearMolecule(0.0, \"A\", 0, 0, 0, 0, -1, -1, 1/2, 1/2, -1/2, 11/2, -3/2, 6, -6, (K = -1, Σ = -0.5:1.0:0.5, P = -1.5:1.0:-1.5, F = 5.0:1.0:6.0, M = -6.0:1.0:6.0)), HundsCaseA_LinearMolecule(0.0, \"A\", 0, 0, 0, 0, -1, -1, 1/2, 1/2, -1/2, 13/2, -3/2, 6, -6, (K = -1, Σ = -0.5:1.0:0.5, P = -1.5:1.0:-1.5, F = 6.0:1.0:7.0, M = -6.0:1.0:6.0)), HundsCaseA_LinearMolecule(0.0, \"A\", 0, 0, 0, 0, -1, -1, 1/2, 1/2, -1/2, 13/2, -3/2, 7, -6, (K = -1, Σ = -0.5:1.0:0.5, P = -1.5:1.0:-1.5, F = 6.0:1.0:7.0, M = -7.0:1.0:7.0)), HundsCaseA_LinearMolecule(0.0, \"A\", 0, 0, 0, 0, -1, -1, 1/2, 1/2, 1/2, 11/2, -1/2, 6, -6, (K = -1, Σ = -0.5:1.0:0.5, P = -0.5:1.0:-0.5, F = 5.0:1.0:6.0, M = -6.0:1.0:6.0)), HundsCaseA_LinearMolecule(0.0, \"A\", 0, 0, 0, 0, -1, -1, 1/2, 1/2, 1/2, 13/2, -1/2, 6, -6, (K = -1, Σ = -0.5:1.0:0.5, P = -0.5:1.0:-0.5, F = 6.0:1.0:7.0, M = -6.0:1.0:6.0)), HundsCaseA_LinearMolecule(0.0, \"A\", 0, 0, 0, 0, -1, -1, 1/2, 1/2, 1/2, 13/2, -1/2, 7, -6, (K = -1, Σ = -0.5:1.0:0.5, P = -0.5:1.0:-0.5, F = 6.0:1.0:7.0, M = -7.0:1.0:7.0))  …  HundsCaseA_LinearMolecule(0.0, \"A\", 0, 0, 0, 0, 1, 1, 1/2, 1/2, -1/2, 11/2, 1/2, 6, 6, (K = 1, Σ = -0.5:1.0:0.5, P = 0.5:1.0:0.5, F = 5.0:1.0:6.0, M = -6.0:1.0:6.0)), HundsCaseA_LinearMolecule(0.0, \"A\", 0, 0, 0, 0, 1, 1, 1/2, 1/2, -1/2, 13/2, 1/2, 6, 6, (K = 1, Σ = -0.5:1.0:0.5, P = 0.5:1.0:0.5, F = 6.0:1.0:7.0, M = -6.0:1.0:6.0)), HundsCaseA_LinearMolecule(0.0, \"A\", 0, 0, 0, 0, 1, 1, 1/2, 1/2, -1/2, 13/2, 1/2, 7, 6, (K = 1, Σ = -0.5:1.0:0.5, P = 0.5:1.0:0.5, F = 6.0:1.0:7.0, M = -7.0:1.0:7.0)), HundsCaseA_LinearMolecule(0.0, \"A\", 0, 0, 0, 0, 1, 1, 1/2, 1/2, 1/2, 11/2, 3/2, 6, 6, (K = 1, Σ = -0.5:1.0:0.5, P = 1.5:1.0:1.5, F = 5.0:1.0:6.0, M = -6.0:1.0:6.0)), HundsCaseA_LinearMolecule(0.0, \"A\", 0, 0, 0, 0, 1, 1, 1/2, 1/2, 1/2, 13/2, 3/2, 6, 6, (K = 1, Σ = -0.5:1.0:0.5, P = 1.5:1.0:1.5, F = 6.0:1.0:7.0, M = -6.0:1.0:6.0)), HundsCaseA_LinearMolecule(0.0, \"A\", 0, 0, 0, 0, 1, 1, 1/2, 1/2, 1/2, 13/2, 3/2, 7, 6, (K = 1, Σ = -0.5:1.0:0.5, P = 1.5:1.0:1.5, F = 6.0:1.0:7.0, M = -7.0:1.0:7.0)), HundsCaseA_LinearMolecule(0.0, \"A\", 0, 0, 0, 0, -1, -1, 1/2, 1/2, -1/2, 13/2, -3/2, 7, 7, (K = -1, Σ = -0.5:1.0:0.5, P = -1.5:1.0:-1.5, F = 6.0:1.0:7.0, M = -7.0:1.0:7.0)), HundsCaseA_LinearMolecule(0.0, \"A\", 0, 0, 0, 0, -1, -1, 1/2, 1/2, 1/2, 13/2, -1/2, 7, 7, (K = -1, Σ = -0.5:1.0:0.5, P = -0.5:1.0:-0.5, F = 6.0:1.0:7.0, M = -7.0:1.0:7.0)), HundsCaseA_LinearMolecule(0.0, \"A\", 0, 0, 0, 0, 1, 1, 1/2, 1/2, -1/2, 13/2, 1/2, 7, 7, (K = 1, Σ = -0.5:1.0:0.5, P = 0.5:1.0:0.5, F = 6.0:1.0:7.0, M = -7.0:1.0:7.0)), HundsCaseA_LinearMolecule(0.0, \"A\", 0, 0, 0, 0, 1, 1, 1/2, 1/2, 1/2, 13/2, 3/2, 7, 7, (K = 1, Σ = -0.5:1.0:0.5, P = 1.5:1.0:1.5, F = 6.0:1.0:7.0, M = -7.0:1.0:7.0))], ComplexF64[0.0 + 0.0im, 0.0 + 0.0im, 0.0 + 0.0im, 0.0 + 0.0im, 0.0 + 0.0im, 0.0 + 0.0im, 0.0 + 0.0im, 0.0 + 0.0im, 0.0 + 0.0im, 0.0 + 0.0im  …  0.0 + 0.0im, 0.0 + 0.0im, 0.0 + 0.0im, 0.0 + 0.0im, 0.0 + 0.0im, 0.0 + 0.0im, 0.0 + 0.0im, 0.0 + 0.0im, 0.0 + 0.0im, 0.0 + 0.0im], 1)"
      ]
     },
     "execution_count": 7,
     "metadata": {},
     "output_type": "execute_result"
    }
   ],
   "source": [
    "CaOH_A000.states[1]"
   ]
  },
  {
   "cell_type": "code",
   "execution_count": null,
   "id": "5818b426-2306-4d07-8131-c054ec5f2e76",
   "metadata": {},
   "outputs": [],
   "source": []
  }
 ],
 "metadata": {
  "kernelspec": {
   "display_name": "Julia 1.10.5",
   "language": "julia",
   "name": "julia-1.10"
  },
  "language_info": {
   "file_extension": ".jl",
   "mimetype": "application/julia",
   "name": "julia",
   "version": "1.10.5"
  }
 },
 "nbformat": 4,
 "nbformat_minor": 5
}
