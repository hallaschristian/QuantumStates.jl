{
 "cells": [
  {
   "cell_type": "code",
   "execution_count": 7,
   "id": "4ebeb064",
   "metadata": {
    "tags": []
   },
   "outputs": [],
   "source": [
    "using QuantumStates, UnitsToValue"
   ]
  },
  {
   "cell_type": "code",
   "execution_count": 8,
   "id": "83847b16",
   "metadata": {
    "tags": []
   },
   "outputs": [],
   "source": [
    "H_operator = :(\n",
    "    TX * Identity +\n",
    "    BX * Rotation + \n",
    "    DX * RotationDistortion + \n",
    "    γX * SpinRotation +\n",
    "    bFX * Hyperfine_IS +\n",
    "    cX * (Hyperfine_Dipolar/3)\n",
    ");"
   ]
  },
  {
   "cell_type": "code",
   "execution_count": 9,
   "id": "ab3934ea",
   "metadata": {
    "tags": []
   },
   "outputs": [],
   "source": [
    "parameters = @params begin\n",
    "    TX = 3 * 3847 * c * 1e2 # we'll just take the energy to be 3 × 3847 cm⁻¹\n",
    "    BX = 0.333458 * c * 1e2\n",
    "    DX = 0.3930e-6 * c * 1e2\n",
    "    γX = 0.001184 * c * 1e2\n",
    "    bFX = 2.602 * 1e6\n",
    "    cX = 2.053 * 1e6\n",
    "end;"
   ]
  },
  {
   "cell_type": "code",
   "execution_count": 10,
   "id": "2802412d",
   "metadata": {
    "tags": []
   },
   "outputs": [],
   "source": [
    "QN_bounds = (\n",
    "    label = \"X\",\n",
    "    v_1 = 0,\n",
    "    v_2 = 0,\n",
    "    v_3 = 3,\n",
    "    S = 1/2,\n",
    "    I = 1/2,\n",
    "    Λ = 0,\n",
    "    ℓ = 0,\n",
    "    K = 0,\n",
    "    N = 0:5\n",
    ")\n",
    "basis = enumerate_states(HundsCaseB_LinearMolecule, QN_bounds)\n",
    ";"
   ]
  },
  {
   "cell_type": "code",
   "execution_count": 11,
   "id": "241c562c",
   "metadata": {
    "tags": []
   },
   "outputs": [
    {
     "name": "stdout",
     "output_type": "stream",
     "text": [
      "  0.072166 seconds (1.21 M allocations: 51.459 MiB, 18.89% gc time)\n",
      "  0.072011 seconds (1.21 M allocations: 45.101 MiB, 17.30% gc time)\n",
      "  0.014042 seconds (15 allocations: 1.064 MiB)\n"
     ]
    }
   ],
   "source": [
    "CaOH_X003 = @time Hamiltonian(basis=basis, operator=H_operator, parameters=parameters)\n",
    "@time full_evaluate!(CaOH_X003)\n",
    "@time solve!(CaOH_X003)\n",
    ";"
   ]
  },
  {
   "cell_type": "code",
   "execution_count": 12,
   "id": "19b0a5a1",
   "metadata": {
    "tags": []
   },
   "outputs": [
    {
     "name": "stdout",
     "output_type": "stream",
     "text": [
      "  0.005166 seconds (11.87 k allocations: 260.695 KiB)\n"
     ]
    }
   ],
   "source": [
    "@time save_to_file(CaOH_X003, \"CaOH_X003\", \"\")"
   ]
  }
 ],
 "metadata": {
  "kernelspec": {
   "display_name": "Julia (14 threads) 1.9.3",
   "language": "julia",
   "name": "julia-_14-threads_-1.9"
  },
  "language_info": {
   "file_extension": ".jl",
   "mimetype": "application/julia",
   "name": "julia",
   "version": "1.9.3"
  }
 },
 "nbformat": 4,
 "nbformat_minor": 5
}
