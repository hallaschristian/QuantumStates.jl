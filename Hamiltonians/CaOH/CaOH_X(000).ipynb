{
 "cells": [
  {
   "cell_type": "code",
   "execution_count": 1,
   "id": "4ebeb064",
   "metadata": {
    "tags": []
   },
   "outputs": [],
   "source": [
    "using QuantumStates"
   ]
  },
  {
   "cell_type": "code",
   "execution_count": 2,
   "id": "83847b16",
   "metadata": {
    "tags": []
   },
   "outputs": [],
   "source": [
    "H_operator = :(\n",
    "    BX * Rotation + \n",
    "    DX * RotationDistortion + \n",
    "    γX * SpinRotation + \n",
    "    bFX * Hyperfine_IS + \n",
    "    cX * (Hyperfine_Dipolar/3)\n",
    ")\n",
    ";"
   ]
  },
  {
   "cell_type": "code",
   "execution_count": 3,
   "id": "ab3934ea",
   "metadata": {
    "tags": []
   },
   "outputs": [],
   "source": [
    "parameters = @params begin\n",
    "    BX = 0.33441 * c * 1e2\n",
    "    DX = 0.3930e-6 * c * 1e2\n",
    "    γX = 0.001134 * c * 1e2\n",
    "    bFX = 2.602 * 1e6\n",
    "    cX = 2.053 * 1e6\n",
    "end\n",
    ";"
   ]
  },
  {
   "cell_type": "code",
   "execution_count": 4,
   "id": "2802412d",
   "metadata": {
    "tags": []
   },
   "outputs": [],
   "source": [
    "QN_bounds = (\n",
    "    label = \"X\", \n",
    "    S = 1/2, \n",
    "    I = 1/2, \n",
    "    Λ = 0, \n",
    "    N = 0:5\n",
    ")\n",
    "basis = order_basis_by_m(enumerate_states(HundsCaseB_LinearMolecule, QN_bounds))\n",
    ";"
   ]
  },
  {
   "cell_type": "code",
   "execution_count": 5,
   "id": "241c562c",
   "metadata": {
    "tags": []
   },
   "outputs": [
    {
     "name": "stdout",
     "output_type": "stream",
     "text": [
      "  1.334162 seconds (2.83 M allocations: 154.933 MiB, 4.10% gc time, 93.34% compilation time)\n",
      "  0.104280 seconds (45.54 k allocations: 3.090 MiB, 99.78% compilation time)\n",
      "  0.378910 seconds (213.02 k allocations: 15.108 MiB, 47.30% gc time, 96.58% compilation time)\n"
     ]
    }
   ],
   "source": [
    "CaOH_X000 = @time Hamiltonian(basis=basis, operator=H_operator, parameters=parameters)\n",
    "@time evaluate!(CaOH_X000)\n",
    "@time solve!(CaOH_X000)\n",
    ";"
   ]
  },
  {
   "cell_type": "code",
   "execution_count": 6,
   "id": "19b0a5a1",
   "metadata": {
    "tags": []
   },
   "outputs": [
    {
     "name": "stdout",
     "output_type": "stream",
     "text": [
      "  0.172412 seconds (473.23 k allocations: 31.332 MiB, 96.96% compilation time)\n"
     ]
    }
   ],
   "source": [
    "@time save_to_file(CaOH_X000, \"CaOH_X000\", \"\")"
   ]
  },
  {
   "cell_type": "code",
   "execution_count": null,
   "id": "3f954724-ff89-4e35-98ad-4bfe7f96e2e6",
   "metadata": {},
   "outputs": [],
   "source": []
  }
 ],
 "metadata": {
  "kernelspec": {
   "display_name": "Julia 1.10.5",
   "language": "julia",
   "name": "julia-1.10"
  },
  "language_info": {
   "file_extension": ".jl",
   "mimetype": "application/julia",
   "name": "julia",
   "version": "1.10.5"
  }
 },
 "nbformat": 4,
 "nbformat_minor": 5
}
