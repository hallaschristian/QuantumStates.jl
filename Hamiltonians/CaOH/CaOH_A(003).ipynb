{
 "cells": [
  {
   "cell_type": "code",
   "execution_count": 1,
   "id": "4ebeb064",
   "metadata": {
    "editable": true,
    "slideshow": {
     "slide_type": ""
    },
    "tags": []
   },
   "outputs": [],
   "source": [
    "using QuantumStates\n",
    "using UnitsToValue"
   ]
  },
  {
   "cell_type": "code",
   "execution_count": 2,
   "id": "83847b16",
   "metadata": {
    "tags": []
   },
   "outputs": [],
   "source": [
    "H_operator = :(\n",
    "    T_A * DiagonalOperator +\n",
    "    Be_A * Rotation + \n",
    "    Aso_A * SpinOrbit +\n",
    "    q_A * ΛDoubling_q +\n",
    "    p_A * ΛDoubling_p2q + \n",
    "    q_A * (2ΛDoubling_p2q) +\n",
    "    # b00_A * (Hyperfine_IF - Hyperfine_IL) +\n",
    "    s * basis_splitting\n",
    ");"
   ]
  },
  {
   "cell_type": "code",
   "execution_count": 3,
   "id": "57fdbe2a",
   "metadata": {},
   "outputs": [],
   "source": [
    "# Spectroscopic constants for CaOH, A state\n",
    "parameters = @params begin   \n",
    "    T_A = 15998.122 * c * 1e2 + 3 * 3847 * c * 1e2 # we'll just take the energy to be 3 × 3847 cm⁻¹   \n",
    "    Be_A = 0.3412200 * c * 1e2\n",
    "    Aso_A = 66.8181 * c * 1e2\n",
    "    p_A = -0.04287 * c * 1e2\n",
    "    q_A = -0.3257e-3 * c * 1e2\n",
    "    b00_A = 1e-9 * c * 1e2\n",
    "    s = 0.\n",
    "end;"
   ]
  },
  {
   "cell_type": "code",
   "execution_count": 4,
   "id": "2802412d",
   "metadata": {},
   "outputs": [],
   "source": [
    "QN_bounds = (\n",
    "    label = \"A\",\n",
    "    v_1 = 0,\n",
    "    v_2 = 0,\n",
    "    ℓ = 0,\n",
    "    v_3 = 3,    \n",
    "    Λ = (-1,1),\n",
    "    I = 1/2,\n",
    "    S = 1/2,\n",
    "    J = 1/2:9/2\n",
    "    )\n",
    "basis = enumerate_states(HundsCaseA_LinearMolecule, QN_bounds)\n",
    ";"
   ]
  },
  {
   "cell_type": "code",
   "execution_count": 5,
   "id": "241c562c",
   "metadata": {},
   "outputs": [
    {
     "name": "stdout",
     "output_type": "stream",
     "text": [
      "  1.443702 seconds (6.56 M allocations: 289.758 MiB, 6.81% gc time, 74.46% compilation time)\n",
      "  0.111262 seconds (53.55 k allocations: 3.625 MiB, 99.41% compilation time)\n",
      "  0.233175 seconds (212.61 k allocations: 16.783 MiB, 86.14% compilation time)\n"
     ]
    }
   ],
   "source": [
    "CaOH_A003 = @time Hamiltonian(basis=basis, operator=H_operator, parameters=parameters)\n",
    "@time evaluate!(CaOH_A003)\n",
    "@time solve!(CaOH_A003)\n",
    ";"
   ]
  },
  {
   "cell_type": "code",
   "execution_count": 6,
   "id": "19b0a5a1",
   "metadata": {},
   "outputs": [
    {
     "name": "stdout",
     "output_type": "stream",
     "text": [
      "  0.181178 seconds (477.33 k allocations: 31.025 MiB, 7.37% gc time, 94.70% compilation time)\n"
     ]
    }
   ],
   "source": [
    "@time save_to_file(CaOH_A003, \"CaOH_A003\", \"\")"
   ]
  },
  {
   "cell_type": "code",
   "execution_count": 7,
   "id": "4acbd5c0-ff55-42b5-8fe1-c3f9ace553b5",
   "metadata": {
    "editable": true,
    "slideshow": {
     "slide_type": ""
    },
    "tags": []
   },
   "outputs": [
    {
     "data": {
      "text/latex": [
       "$$0.707\\left|label=A, v_1=0, v_2=0, ℓ=0, v_3=3, Λ=-1, K=-1, I=1/2, S=1/2, Σ=1/2, J=1/2, P=-1/2, F=0, M=0\\right\\rangle$$\n",
       "$$-0.707\\left|label=A, v_1=0, v_2=0, ℓ=0, v_3=3, Λ=1, K=1, I=1/2, S=1/2, Σ=-1/2, J=1/2, P=1/2, F=0, M=0\\right\\rangle$$\n"
      ],
      "text/plain": [
       "State{HundsCaseA_LinearMolecule}(8.246101065811709e14, HundsCaseA_LinearMolecule[HundsCaseA_LinearMolecule(0.0, \"A\", 0, 0, 0, 3, -1, -1, 1/2, 1/2, -1/2, 3/2, -3/2, 1, -1, (K = -1, Σ = -0.5:1.0:0.5, P = -1.5:1.0:-1.5, F = 1.0:1.0:2.0, M = -1.0:1.0:1.0)), HundsCaseA_LinearMolecule(0.0, \"A\", 0, 0, 0, 3, -1, -1, 1/2, 1/2, -1/2, 3/2, -3/2, 1, 0, (K = -1, Σ = -0.5:1.0:0.5, P = -1.5:1.0:-1.5, F = 1.0:1.0:2.0, M = -1.0:1.0:1.0)), HundsCaseA_LinearMolecule(0.0, \"A\", 0, 0, 0, 3, -1, -1, 1/2, 1/2, -1/2, 3/2, -3/2, 1, 1, (K = -1, Σ = -0.5:1.0:0.5, P = -1.5:1.0:-1.5, F = 1.0:1.0:2.0, M = -1.0:1.0:1.0)), HundsCaseA_LinearMolecule(0.0, \"A\", 0, 0, 0, 3, -1, -1, 1/2, 1/2, -1/2, 3/2, -3/2, 2, -2, (K = -1, Σ = -0.5:1.0:0.5, P = -1.5:1.0:-1.5, F = 1.0:1.0:2.0, M = -2.0:1.0:2.0)), HundsCaseA_LinearMolecule(0.0, \"A\", 0, 0, 0, 3, -1, -1, 1/2, 1/2, -1/2, 3/2, -3/2, 2, -1, (K = -1, Σ = -0.5:1.0:0.5, P = -1.5:1.0:-1.5, F = 1.0:1.0:2.0, M = -2.0:1.0:2.0)), HundsCaseA_LinearMolecule(0.0, \"A\", 0, 0, 0, 3, -1, -1, 1/2, 1/2, -1/2, 3/2, -3/2, 2, 0, (K = -1, Σ = -0.5:1.0:0.5, P = -1.5:1.0:-1.5, F = 1.0:1.0:2.0, M = -2.0:1.0:2.0)), HundsCaseA_LinearMolecule(0.0, \"A\", 0, 0, 0, 3, -1, -1, 1/2, 1/2, -1/2, 3/2, -3/2, 2, 1, (K = -1, Σ = -0.5:1.0:0.5, P = -1.5:1.0:-1.5, F = 1.0:1.0:2.0, M = -2.0:1.0:2.0)), HundsCaseA_LinearMolecule(0.0, \"A\", 0, 0, 0, 3, -1, -1, 1/2, 1/2, -1/2, 3/2, -3/2, 2, 2, (K = -1, Σ = -0.5:1.0:0.5, P = -1.5:1.0:-1.5, F = 1.0:1.0:2.0, M = -2.0:1.0:2.0)), HundsCaseA_LinearMolecule(0.0, \"A\", 0, 0, 0, 3, -1, -1, 1/2, 1/2, -1/2, 5/2, -3/2, 2, -2, (K = -1, Σ = -0.5:1.0:0.5, P = -1.5:1.0:-1.5, F = 2.0:1.0:3.0, M = -2.0:1.0:2.0)), HundsCaseA_LinearMolecule(0.0, \"A\", 0, 0, 0, 3, -1, -1, 1/2, 1/2, -1/2, 5/2, -3/2, 2, -1, (K = -1, Σ = -0.5:1.0:0.5, P = -1.5:1.0:-1.5, F = 2.0:1.0:3.0, M = -2.0:1.0:2.0))  …  HundsCaseA_LinearMolecule(0.0, \"A\", 0, 0, 0, 3, 1, 1, 1/2, 1/2, 1/2, 9/2, 3/2, 5, -4, (K = 1, Σ = -0.5:1.0:0.5, P = 1.5:1.0:1.5, F = 4.0:1.0:5.0, M = -5.0:1.0:5.0)), HundsCaseA_LinearMolecule(0.0, \"A\", 0, 0, 0, 3, 1, 1, 1/2, 1/2, 1/2, 9/2, 3/2, 5, -3, (K = 1, Σ = -0.5:1.0:0.5, P = 1.5:1.0:1.5, F = 4.0:1.0:5.0, M = -5.0:1.0:5.0)), HundsCaseA_LinearMolecule(0.0, \"A\", 0, 0, 0, 3, 1, 1, 1/2, 1/2, 1/2, 9/2, 3/2, 5, -2, (K = 1, Σ = -0.5:1.0:0.5, P = 1.5:1.0:1.5, F = 4.0:1.0:5.0, M = -5.0:1.0:5.0)), HundsCaseA_LinearMolecule(0.0, \"A\", 0, 0, 0, 3, 1, 1, 1/2, 1/2, 1/2, 9/2, 3/2, 5, -1, (K = 1, Σ = -0.5:1.0:0.5, P = 1.5:1.0:1.5, F = 4.0:1.0:5.0, M = -5.0:1.0:5.0)), HundsCaseA_LinearMolecule(0.0, \"A\", 0, 0, 0, 3, 1, 1, 1/2, 1/2, 1/2, 9/2, 3/2, 5, 0, (K = 1, Σ = -0.5:1.0:0.5, P = 1.5:1.0:1.5, F = 4.0:1.0:5.0, M = -5.0:1.0:5.0)), HundsCaseA_LinearMolecule(0.0, \"A\", 0, 0, 0, 3, 1, 1, 1/2, 1/2, 1/2, 9/2, 3/2, 5, 1, (K = 1, Σ = -0.5:1.0:0.5, P = 1.5:1.0:1.5, F = 4.0:1.0:5.0, M = -5.0:1.0:5.0)), HundsCaseA_LinearMolecule(0.0, \"A\", 0, 0, 0, 3, 1, 1, 1/2, 1/2, 1/2, 9/2, 3/2, 5, 2, (K = 1, Σ = -0.5:1.0:0.5, P = 1.5:1.0:1.5, F = 4.0:1.0:5.0, M = -5.0:1.0:5.0)), HundsCaseA_LinearMolecule(0.0, \"A\", 0, 0, 0, 3, 1, 1, 1/2, 1/2, 1/2, 9/2, 3/2, 5, 3, (K = 1, Σ = -0.5:1.0:0.5, P = 1.5:1.0:1.5, F = 4.0:1.0:5.0, M = -5.0:1.0:5.0)), HundsCaseA_LinearMolecule(0.0, \"A\", 0, 0, 0, 3, 1, 1, 1/2, 1/2, 1/2, 9/2, 3/2, 5, 4, (K = 1, Σ = -0.5:1.0:0.5, P = 1.5:1.0:1.5, F = 4.0:1.0:5.0, M = -5.0:1.0:5.0)), HundsCaseA_LinearMolecule(0.0, \"A\", 0, 0, 0, 3, 1, 1, 1/2, 1/2, 1/2, 9/2, 3/2, 5, 5, (K = 1, Σ = -0.5:1.0:0.5, P = 1.5:1.0:1.5, F = 4.0:1.0:5.0, M = -5.0:1.0:5.0))], ComplexF64[0.0 + 0.0im, 0.0 + 0.0im, 0.0 + 0.0im, 0.0 + 0.0im, 0.0 + 0.0im, 0.0 + 0.0im, 0.0 + 0.0im, 0.0 + 0.0im, 0.0 + 0.0im, 0.0 + 0.0im  …  0.0 + 0.0im, 0.0 + 0.0im, 0.0 + 0.0im, 0.0 + 0.0im, 0.0 + 0.0im, 0.0 + 0.0im, 0.0 + 0.0im, 0.0 + 0.0im, 0.0 + 0.0im, 0.0 + 0.0im], 1)"
      ]
     },
     "execution_count": 7,
     "metadata": {},
     "output_type": "execute_result"
    }
   ],
   "source": [
    "CaOH_A003.states[1]"
   ]
  }
 ],
 "metadata": {
  "kernelspec": {
   "display_name": "Julia (14 threads) 1.9.3",
   "language": "julia",
   "name": "julia-_14-threads_-1.9"
  },
  "language_info": {
   "file_extension": ".jl",
   "mimetype": "application/julia",
   "name": "julia",
   "version": "1.9.3"
  }
 },
 "nbformat": 4,
 "nbformat_minor": 5
}
