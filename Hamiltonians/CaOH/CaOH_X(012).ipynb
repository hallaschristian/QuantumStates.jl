{
 "cells": [
  {
   "cell_type": "code",
   "execution_count": 25,
   "id": "4ebeb064",
   "metadata": {
    "tags": []
   },
   "outputs": [],
   "source": [
    "using QuantumStates, UnitsToValue"
   ]
  },
  {
   "cell_type": "code",
   "execution_count": 26,
   "id": "83847b16",
   "metadata": {
    "tags": []
   },
   "outputs": [],
   "source": [
    "H_operator = :(\n",
    "    TX * Identity +\n",
    "    BX * Rotation + \n",
    "    DX * RotationDistortion + \n",
    "    γX * SpinRotation + \n",
    "    bFX * Hyperfine_IS + \n",
    "    cX * (Hyperfine_Dipolar/3) +\n",
    "    qX * ℓDoubling\n",
    ");"
   ]
  },
  {
   "cell_type": "code",
   "execution_count": 27,
   "id": "ab3934ea",
   "metadata": {
    "tags": []
   },
   "outputs": [],
   "source": [
    "parameters = @params begin\n",
    "    TX = 353 * c * 1e2 + 2 * 3847 * c * 1e2 # we'll just take the energy to be 2 × 3847 cm⁻¹\n",
    "    BX = 0.333458 * c * 1e2\n",
    "    DX = 0.3930e-6 * c * 1e2\n",
    "    γX = 0.001184 * c * 1e2\n",
    "    qX = 0.7181e-3 * c * 1e2\n",
    "    bFX = 2.602 * 1e6\n",
    "    cX = 2.053 * 1e6\n",
    "end;"
   ]
  },
  {
   "cell_type": "code",
   "execution_count": 28,
   "id": "2802412d",
   "metadata": {
    "tags": []
   },
   "outputs": [],
   "source": [
    "QN_bounds = (\n",
    "    label = \"X\",\n",
    "    v_1 = 0,\n",
    "    v_2 = 1,\n",
    "    v_3 = 2,\n",
    "    S = 1/2, \n",
    "    I = 1/2, \n",
    "    Λ = 0,\n",
    "    ℓ = (-1,1),\n",
    "    K = (-1,1),\n",
    "    N = 1:5\n",
    ")\n",
    "basis = enumerate_states(HundsCaseB_LinearMolecule, QN_bounds)\n",
    ";"
   ]
  },
  {
   "cell_type": "code",
   "execution_count": 29,
   "id": "241c562c",
   "metadata": {
    "tags": []
   },
   "outputs": [
    {
     "name": "stdout",
     "output_type": "stream",
     "text": [
      "  0.172320 seconds (4.07 M allocations: 203.643 MiB, 1.77% gc time)\n",
      "  0.179158 seconds (4.07 M allocations: 179.664 MiB, 2.54% gc time)\n",
      "  0.089078 seconds (15 allocations: 3.812 MiB)\n"
     ]
    }
   ],
   "source": [
    "CaOH_X012 = @time Hamiltonian(basis=basis, operator=H_operator, parameters=parameters)\n",
    "@time full_evaluate!(CaOH_X012)\n",
    "@time solve!(CaOH_X012)\n",
    ";"
   ]
  },
  {
   "cell_type": "code",
   "execution_count": 30,
   "id": "19b0a5a1",
   "metadata": {
    "tags": []
   },
   "outputs": [
    {
     "name": "stdout",
     "output_type": "stream",
     "text": [
      "  0.015278 seconds (23.54 k allocations: 553.930 KiB)\n"
     ]
    }
   ],
   "source": [
    "@time save_to_file(CaOH_X012, \"CaOH_X012\", \"\")"
   ]
  },
  {
   "cell_type": "code",
   "execution_count": null,
   "id": "6020efb6-4c06-468c-8137-ce184e0e4e05",
   "metadata": {},
   "outputs": [],
   "source": []
  }
 ],
 "metadata": {
  "kernelspec": {
   "display_name": "Julia 1.10.5",
   "language": "julia",
   "name": "julia-1.10"
  },
  "language_info": {
   "file_extension": ".jl",
   "mimetype": "application/julia",
   "name": "julia",
   "version": "1.10.5"
  }
 },
 "nbformat": 4,
 "nbformat_minor": 5
}
