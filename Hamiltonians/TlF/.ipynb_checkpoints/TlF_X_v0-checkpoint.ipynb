{
 "cells": [
  {
   "cell_type": "code",
   "execution_count": null,
   "id": "b7a11ea6",
   "metadata": {
    "tags": []
   },
   "outputs": [],
   "source": [
    "using QuantumStates, UnitsToValue"
   ]
  },
  {
   "cell_type": "code",
   "execution_count": 1,
   "id": "9365913a",
   "metadata": {
    "tags": []
   },
   "outputs": [],
   "source": [
    "H_operator = :(\n",
    "    BX * Rotation + \n",
    "    DX * RotationDistortion + \n",
    "    γX * SpinRotation +\n",
    "    bFX * Hyperfine_IS + \n",
    "    cX * (Hyperfine_Dipolar/3)\n",
    ");"
   ]
  },
  {
   "cell_type": "code",
   "execution_count": 2,
   "id": "77c935ab",
   "metadata": {
    "tags": []
   },
   "outputs": [
    {
     "ename": "LoadError",
     "evalue": "LoadError: UndefVarError: `@params` not defined in `Main`\nSuggestion: check for spelling errors or missing imports.\nin expression starting at In[2]:1",
     "output_type": "error",
     "traceback": [
      "LoadError: UndefVarError: `@params` not defined in `Main`\nSuggestion: check for spelling errors or missing imports.\nin expression starting at In[2]:1",
      ""
     ]
    }
   ],
   "source": [
    "parameters = @params begin\n",
    "    BX = 0.223150163 * c * 1e2\n",
    "    DX = 0\n",
    "    γX = 0\n",
    "    bFX = 0\n",
    "    cX = 10e3\n",
    "end\n",
    ";"
   ]
  },
  {
   "cell_type": "code",
   "execution_count": 3,
   "id": "dfe9c620",
   "metadata": {
    "tags": []
   },
   "outputs": [
    {
     "ename": "LoadError",
     "evalue": "UndefVarError: `order_basis_by_m` not defined in `Main`\nSuggestion: check for spelling errors or missing imports.",
     "output_type": "error",
     "traceback": [
      "UndefVarError: `order_basis_by_m` not defined in `Main`\nSuggestion: check for spelling errors or missing imports.",
      "",
      "Stacktrace:",
      " [1] top-level scope",
      "   @ In[3]:2"
     ]
    }
   ],
   "source": [
    "QN_bounds = (label = \"X\", S = 1/2, I = 1/2, Λ = 0, N = 0:3)\n",
    "basis = order_basis_by_m(enumerate_states(HundsCaseB_LinearMolecule, QN_bounds))\n",
    ";"
   ]
  },
  {
   "cell_type": "code",
   "execution_count": 7,
   "id": "1b70bd02",
   "metadata": {
    "tags": []
   },
   "outputs": [
    {
     "ename": "LoadError",
     "evalue": "UndefVarError: `basis` not defined",
     "output_type": "error",
     "traceback": [
      "UndefVarError: `basis` not defined",
      "",
      "Stacktrace:",
      " [1] top-level scope",
      "   @ .\\timing.jl:279 [inlined]",
      " [2] top-level scope",
      "   @ .\\In[7]:0"
     ]
    }
   ],
   "source": [
    "TlF_X_v0 = @time Hamiltonian(basis=basis, operator=H_operator, parameters=parameters)\n",
    "@time full_evaluate!(TlF_X_v0)\n",
    "@time solve!(TlF_X_v0)\n",
    ";"
   ]
  },
  {
   "cell_type": "code",
   "execution_count": 8,
   "id": "a8629612",
   "metadata": {
    "tags": []
   },
   "outputs": [
    {
     "ename": "LoadError",
     "evalue": "UndefVarError: `save_to_file` not defined",
     "output_type": "error",
     "traceback": [
      "UndefVarError: `save_to_file` not defined",
      "",
      "Stacktrace:",
      " [1] macro expansion",
      "   @ .\\timing.jl:279 [inlined]",
      " [2] top-level scope",
      "   @ .\\In[8]:1"
     ]
    }
   ],
   "source": [
    "@time save_to_file(TlF_X_v0, \"TlF_X_v0\", \"\")"
   ]
  },
  {
   "cell_type": "code",
   "execution_count": null,
   "id": "23d11b5b-4f80-44d8-9ee0-e6df94939e9d",
   "metadata": {},
   "outputs": [],
   "source": []
  }
 ],
 "metadata": {
  "kernelspec": {
   "display_name": "Julia 1.11.3",
   "language": "julia",
   "name": "julia-1.11"
  },
  "language_info": {
   "file_extension": ".jl",
   "mimetype": "application/julia",
   "name": "julia",
   "version": "1.11.3"
  }
 },
 "nbformat": 4,
 "nbformat_minor": 5
}
