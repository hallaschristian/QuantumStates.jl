{
 "cells": [
  {
   "cell_type": "code",
   "execution_count": 3,
   "id": "4ebeb064",
   "metadata": {},
   "outputs": [],
   "source": [
    "using QuantumStates"
   ]
  },
  {
   "cell_type": "markdown",
   "id": "8825e69d-f7c5-47e2-a99e-2a0b2a7c8a7c",
   "metadata": {},
   "source": [
    "The Hamiltonian is assumed to take the following form:\n",
    "$$\n",
    "H(A^2\\Pi) = T + A \\Lambda \\Sigma + BN^2 - DN^4 + \\frac{1}{2} (p + 2q)(e^{2i\\phi} S_- J_- + e^{-2i\\phi} S_+ J_+) - \\frac{1}{2} q (e^{2i\\phi} J_-^2 + e^{-2i\\phi} J_+^2).\n",
    "$$\n",
    "These terms correspond to the origin, spin-orbit, rotation and centrifugal distortion correction, and $\\Lambda$-doubling terms."
   ]
  },
  {
   "cell_type": "code",
   "execution_count": 7,
   "id": "83847b16",
   "metadata": {
    "tags": []
   },
   "outputs": [],
   "source": [
    "H_operator = :(\n",
    "    T_A * DiagonalOperator +\n",
    "    Be_A * Rotation + \n",
    "    Aso_A * SpinOrbit + \n",
    "    q_A * (ΛDoubling_q + 2ΛDoubling_p2q) +\n",
    "    p_A * ΛDoubling_p2q + \n",
    "    # B_z * Zeeman_L +\n",
    "    # b00_A * Hyperfine_IL +\n",
    "    # b00_A * Hyperfine_IF +\n",
    "    b00_A * (Hyperfine_IF - Hyperfine_IL)\n",
    ");"
   ]
  },
  {
   "cell_type": "code",
   "execution_count": 8,
   "id": "57fdbe2a",
   "metadata": {},
   "outputs": [],
   "source": [
    "# Spectroscopic constants for the A²Π state in CaF (from Eunmi Chae's thesis, 2016)\n",
    "parameters = @params begin\n",
    "    T_A = 16526.750 * c * 1e2 + 650 * c * 1e2\n",
    "    Be_A = 0.348781 * c * 1e2\n",
    "    Aso_A = 71.429 * c * 1e2\n",
    "    b00_A = 1e6\n",
    "    p_A = -0.044517 * c * 1e2\n",
    "    q_A = -2.916e-4 * c * 1e2\n",
    "end;"
   ]
  },
  {
   "cell_type": "code",
   "execution_count": 9,
   "id": "2802412d",
   "metadata": {},
   "outputs": [],
   "source": [
    "QN_bounds = (label = \"A\", v_1 = 1, S = 1/2, I = 1/2, Λ = (-1,1), J = 1/2:11/2)\n",
    "basis = order_basis_by_m(enumerate_states(HundsCaseA_LinearMolecule, QN_bounds))\n",
    ";"
   ]
  },
  {
   "cell_type": "code",
   "execution_count": 10,
   "id": "241c562c",
   "metadata": {},
   "outputs": [
    {
     "name": "stdout",
     "output_type": "stream",
     "text": [
      "  2.109520 seconds (12.98 M allocations: 547.407 MiB, 13.45% gc time, 62.59% compilation time)\n",
      "  1.068430 seconds (11.46 M allocations: 417.797 MiB, 8.75% gc time, 41.02% compilation time)\n",
      "  0.249930 seconds (213.01 k allocations: 19.229 MiB, 3.53% gc time, 74.08% compilation time)\n"
     ]
    }
   ],
   "source": [
    "CaF_A_v1 = @time Hamiltonian(basis=basis, operator=H_operator, parameters=parameters)\n",
    "@time full_evaluate!(CaF_A_v1)\n",
    "@time solve!(CaF_A_v1)\n",
    ";"
   ]
  },
  {
   "cell_type": "code",
   "execution_count": 11,
   "id": "19b0a5a1",
   "metadata": {},
   "outputs": [
    {
     "name": "stdout",
     "output_type": "stream",
     "text": [
      "  0.171098 seconds (496.98 k allocations: 32.015 MiB, 90.74% compilation time)\n"
     ]
    }
   ],
   "source": [
    "@time save_to_file(CaF_A_v1, \"CaF_A_v1\", \"\")"
   ]
  },
  {
   "cell_type": "code",
   "execution_count": null,
   "id": "d4e2a3c8-7c46-4483-a31d-fa2f115b2ea5",
   "metadata": {},
   "outputs": [],
   "source": []
  }
 ],
 "metadata": {
  "kernelspec": {
   "display_name": "Julia 1.10.5",
   "language": "julia",
   "name": "julia-1.10"
  },
  "language_info": {
   "file_extension": ".jl",
   "mimetype": "application/julia",
   "name": "julia",
   "version": "1.10.5"
  }
 },
 "nbformat": 4,
 "nbformat_minor": 5
}
