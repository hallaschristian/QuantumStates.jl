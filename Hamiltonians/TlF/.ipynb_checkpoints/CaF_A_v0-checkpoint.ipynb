{
 "cells": [
  {
   "cell_type": "code",
   "execution_count": 1,
   "id": "4ebeb064",
   "metadata": {},
   "outputs": [],
   "source": [
    "using QuantumStates"
   ]
  },
  {
   "cell_type": "markdown",
   "id": "8825e69d-f7c5-47e2-a99e-2a0b2a7c8a7c",
   "metadata": {},
   "source": [
    "The Hamiltonian is assumed to take the following form:\n",
    "$$\n",
    "H(A^2\\Pi) = T + A \\Lambda \\Sigma + BN^2 - DN^4 + \\frac{1}{2} (p + 2q)(e^{2i\\phi} S_- J_- + e^{-2i\\phi} S_+ J_+) - \\frac{1}{2} q (e^{2i\\phi} J_-^2 + e^{-2i\\phi} J_+^2).\n",
    "$$\n",
    "These terms correspond to the origin, spin-orbit, rotation and centrifugal distortion correction, and $\\Lambda$-doubling terms."
   ]
  },
  {
   "cell_type": "code",
   "execution_count": 2,
   "id": "83847b16",
   "metadata": {
    "tags": []
   },
   "outputs": [],
   "source": [
    "H_operator = :(\n",
    "    T_A * DiagonalOperator +\n",
    "    Be_A * Rotation + \n",
    "    Aso_A * SpinOrbit + \n",
    "    q_A * (ΛDoubling_q + 2ΛDoubling_p2q) +\n",
    "    p_A * ΛDoubling_p2q + \n",
    "    # B_z * Zeeman_L +\n",
    "    # b00_A * Hyperfine_IL +\n",
    "    # b00_A * Hyperfine_IF +\n",
    "    b00_A * (Hyperfine_IF - Hyperfine_IL)\n",
    ");"
   ]
  },
  {
   "cell_type": "code",
   "execution_count": 3,
   "id": "57fdbe2a",
   "metadata": {},
   "outputs": [],
   "source": [
    "# Spectroscopic constants for the A²Π state in CaF (from Eunmi Chae's thesis, 2016)\n",
    "parameters = @params begin\n",
    "    T_A = 16526.750 * c * 1e2\n",
    "    Be_A = 0.348781 * c * 1e2\n",
    "    Aso_A = 71.429 * c * 1e2\n",
    "    b00_A = 1e6\n",
    "    p_A = -0.044517 * c * 1e2\n",
    "    q_A = -2.916e-4 * c * 1e2\n",
    "end;"
   ]
  },
  {
   "cell_type": "code",
   "execution_count": 4,
   "id": "2802412d",
   "metadata": {},
   "outputs": [],
   "source": [
    "QN_bounds = (label = \"A\", S = 1/2, I = 1/2, Λ = (-1,1), J = 1/2:11/2)\n",
    "basis = order_basis_by_m(enumerate_states(HundsCaseA_LinearMolecule, QN_bounds))\n",
    ";"
   ]
  },
  {
   "cell_type": "code",
   "execution_count": 5,
   "id": "241c562c",
   "metadata": {},
   "outputs": [
    {
     "name": "stdout",
     "output_type": "stream",
     "text": [
      "  2.288289 seconds (12.98 M allocations: 547.408 MiB, 19.91% gc time, 56.94% compilation time)\n",
      "  1.082940 seconds (11.46 M allocations: 417.733 MiB, 9.34% gc time, 41.20% compilation time)\n",
      "  0.246102 seconds (213.01 k allocations: 19.229 MiB, 73.01% compilation time)\n"
     ]
    }
   ],
   "source": [
    "CaF_A_v0 = @time Hamiltonian(basis=basis, operator=H_operator, parameters=parameters)\n",
    "@time full_evaluate!(CaF_A_v0)\n",
    "@time solve!(CaF_A_v0)\n",
    ";"
   ]
  },
  {
   "cell_type": "code",
   "execution_count": 6,
   "id": "19b0a5a1",
   "metadata": {},
   "outputs": [
    {
     "name": "stdout",
     "output_type": "stream",
     "text": [
      "  0.189820 seconds (496.98 k allocations: 32.010 MiB, 6.18% gc time, 88.99% compilation time)\n"
     ]
    }
   ],
   "source": [
    "@time save_to_file(CaF_A_v0, \"CaF_A_v0\", \"\")"
   ]
  },
  {
   "cell_type": "markdown",
   "id": "c5e112aa-6904-4685-b7f1-c3cfd2ce5007",
   "metadata": {},
   "source": [
    "# Save a version with case B as well"
   ]
  },
  {
   "cell_type": "code",
   "execution_count": 61,
   "id": "a2f304d3-c1fc-47a2-9d1c-c39167f50f4f",
   "metadata": {},
   "outputs": [
    {
     "name": "stdout",
     "output_type": "stream",
     "text": [
      "  0.016413 seconds (27.63 k allocations: 634.359 KiB)\n"
     ]
    }
   ],
   "source": [
    "QN_bounds = (\n",
    "    label = \"A\",\n",
    "    S = 1/2, \n",
    "    I = 1/2, \n",
    "    Λ = (-1,1),\n",
    "    N = 0:6,\n",
    "    J = 1/2:11/2\n",
    ")\n",
    "CaF_A_v0_caseB_basis = order_basis_by_m(enumerate_states(HundsCaseB_LinearMolecule, QN_bounds))\n",
    "CaF_A_v0_caseB = convert_basis(CaF_A_v0, CaF_A_v0_caseB_basis)\n",
    "\n",
    "@time save_to_file(CaF_A_v0_caseB, \"CaF_A_v0_caseB\", \"\")"
   ]
  },
  {
   "cell_type": "code",
   "execution_count": null,
   "id": "98ab4e3c-56be-494d-9368-56aeb0be4cd0",
   "metadata": {},
   "outputs": [],
   "source": []
  }
 ],
 "metadata": {
  "kernelspec": {
   "display_name": "Julia 1.10.5",
   "language": "julia",
   "name": "julia-1.10"
  },
  "language_info": {
   "file_extension": ".jl",
   "mimetype": "application/julia",
   "name": "julia",
   "version": "1.10.5"
  }
 },
 "nbformat": 4,
 "nbformat_minor": 5
}
