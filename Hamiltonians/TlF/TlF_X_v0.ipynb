{
 "cells": [
  {
   "cell_type": "code",
   "execution_count": 1,
   "id": "b7a11ea6",
   "metadata": {
    "tags": []
   },
   "outputs": [
    {
     "name": "stderr",
     "output_type": "stream",
     "text": [
      "\u001b[36m\u001b[1m[ \u001b[22m\u001b[39m\u001b[36m\u001b[1mInfo: \u001b[22m\u001b[39mPrecompiling QuantumStates [17f0441f-15e0-42ae-a101-302633ff8f0f] (cache misses: include_dependency fsize change (10))\n"
     ]
    }
   ],
   "source": [
    "using QuantumStates, UnitsToValue"
   ]
  },
  {
   "cell_type": "code",
   "execution_count": 2,
   "id": "9365913a",
   "metadata": {
    "tags": []
   },
   "outputs": [],
   "source": [
    "H_operator = :(\n",
    "    BX * Rotation + \n",
    "    DX * RotationDistortion + \n",
    "    γX * SpinRotation +\n",
    "    bFX * Hyperfine_IS + \n",
    "    cX * (Hyperfine_Dipolar/3)\n",
    ");"
   ]
  },
  {
   "cell_type": "code",
   "execution_count": 3,
   "id": "77c935ab",
   "metadata": {
    "tags": []
   },
   "outputs": [],
   "source": [
    "parameters = @params begin\n",
    "    BX = 0.223150163 * c * 1e2\n",
    "    DX = 0\n",
    "    γX = 0\n",
    "    bFX = 0\n",
    "    cX = 10e3\n",
    "end\n",
    ";"
   ]
  },
  {
   "cell_type": "code",
   "execution_count": 4,
   "id": "dfe9c620",
   "metadata": {
    "tags": []
   },
   "outputs": [],
   "source": [
    "QN_bounds = (label = \"X\", S = 1/2, I = 1/2, Λ = 0, N = 0:3)\n",
    "basis = order_basis_by_m(enumerate_states(HundsCaseB_LinearMolecule, QN_bounds))\n",
    ";"
   ]
  },
  {
   "cell_type": "code",
   "execution_count": 5,
   "id": "1b70bd02",
   "metadata": {
    "tags": []
   },
   "outputs": [
    {
     "name": "stdout",
     "output_type": "stream",
     "text": [
      "  1.016007 seconds (2.28 M allocations: 112.504 MiB, 1.59% gc time, 98.84% compilation time)\n",
      "  0.290738 seconds (443.04 k allocations: 18.637 MiB, 5.35% gc time, 90.75% compilation time)\n",
      "  0.293914 seconds (562.15 k allocations: 28.724 MiB, 99.73% compilation time)\n"
     ]
    }
   ],
   "source": [
    "TlF_X_v0 = @time Hamiltonian(basis=basis, operator=H_operator, parameters=parameters)\n",
    "@time full_evaluate!(TlF_X_v0)\n",
    "@time solve!(TlF_X_v0)\n",
    ";"
   ]
  },
  {
   "cell_type": "code",
   "execution_count": 7,
   "id": "a8629612",
   "metadata": {
    "tags": []
   },
   "outputs": [
    {
     "name": "stdout",
     "output_type": "stream",
     "text": [
      "  0.001779 seconds (5.38 k allocations: 131.180 KiB)\n"
     ]
    }
   ],
   "source": [
    "@time save_to_file(TlF_X_v0, \"TlF_X_v0\", \"\")"
   ]
  },
  {
   "cell_type": "code",
   "execution_count": 8,
   "id": "ab9b1dc6-dc10-4267-9b72-2f686b15e378",
   "metadata": {},
   "outputs": [
    {
     "data": {
      "text/latex": [
       "$$1.0\\left|label=X, v_1=0, v_2=0, v_3=0, S=1/2, I=1/2, Λ=0, ℓ=0, K=0, N=0, J=1/2, F=1, M=-1\\right\\rangle$$\n"
      ],
      "text/plain": [
       "State{HundsCaseB_LinearMolecule}(-0.00012969970703125, HundsCaseB_LinearMolecule[HundsCaseB_LinearMolecule(0.0, \"X\", 0, 0, 0, 1/2, 1/2, 0, 0, 0, 3, 7/2, 4, -4, (K = 0, N = 0:∞, J = 2.5:1.0:3.5, F = 3.0:1.0:4.0, M = -4.0:1.0:4.0)), HundsCaseB_LinearMolecule(0.0, \"X\", 0, 0, 0, 1/2, 1/2, 0, 0, 0, 2, 5/2, 3, -3, (K = 0, N = 0:∞, J = 1.5:1.0:2.5, F = 2.0:1.0:3.0, M = -3.0:1.0:3.0)), HundsCaseB_LinearMolecule(0.0, \"X\", 0, 0, 0, 1/2, 1/2, 0, 0, 0, 3, 5/2, 3, -3, (K = 0, N = 0:∞, J = 2.5:1.0:3.5, F = 2.0:1.0:3.0, M = -3.0:1.0:3.0)), HundsCaseB_LinearMolecule(0.0, \"X\", 0, 0, 0, 1/2, 1/2, 0, 0, 0, 3, 7/2, 3, -3, (K = 0, N = 0:∞, J = 2.5:1.0:3.5, F = 3.0:1.0:4.0, M = -3.0:1.0:3.0)), HundsCaseB_LinearMolecule(0.0, \"X\", 0, 0, 0, 1/2, 1/2, 0, 0, 0, 3, 7/2, 4, -3, (K = 0, N = 0:∞, J = 2.5:1.0:3.5, F = 3.0:1.0:4.0, M = -4.0:1.0:4.0)), HundsCaseB_LinearMolecule(0.0, \"X\", 0, 0, 0, 1/2, 1/2, 0, 0, 0, 1, 3/2, 2, -2, (K = 0, N = 0:∞, J = 0.5:1.0:1.5, F = 1.0:1.0:2.0, M = -2.0:1.0:2.0)), HundsCaseB_LinearMolecule(0.0, \"X\", 0, 0, 0, 1/2, 1/2, 0, 0, 0, 2, 3/2, 2, -2, (K = 0, N = 0:∞, J = 1.5:1.0:2.5, F = 1.0:1.0:2.0, M = -2.0:1.0:2.0)), HundsCaseB_LinearMolecule(0.0, \"X\", 0, 0, 0, 1/2, 1/2, 0, 0, 0, 2, 5/2, 2, -2, (K = 0, N = 0:∞, J = 1.5:1.0:2.5, F = 2.0:1.0:3.0, M = -2.0:1.0:2.0)), HundsCaseB_LinearMolecule(0.0, \"X\", 0, 0, 0, 1/2, 1/2, 0, 0, 0, 2, 5/2, 3, -2, (K = 0, N = 0:∞, J = 1.5:1.0:2.5, F = 2.0:1.0:3.0, M = -3.0:1.0:3.0)), HundsCaseB_LinearMolecule(0.0, \"X\", 0, 0, 0, 1/2, 1/2, 0, 0, 0, 3, 5/2, 2, -2, (K = 0, N = 0:∞, J = 2.5:1.0:3.5, F = 2.0:1.0:3.0, M = -2.0:1.0:2.0))  …  HundsCaseB_LinearMolecule(0.0, \"X\", 0, 0, 0, 1/2, 1/2, 0, 0, 0, 2, 5/2, 3, 2, (K = 0, N = 0:∞, J = 1.5:1.0:2.5, F = 2.0:1.0:3.0, M = -3.0:1.0:3.0)), HundsCaseB_LinearMolecule(0.0, \"X\", 0, 0, 0, 1/2, 1/2, 0, 0, 0, 3, 5/2, 2, 2, (K = 0, N = 0:∞, J = 2.5:1.0:3.5, F = 2.0:1.0:3.0, M = -2.0:1.0:2.0)), HundsCaseB_LinearMolecule(0.0, \"X\", 0, 0, 0, 1/2, 1/2, 0, 0, 0, 3, 5/2, 3, 2, (K = 0, N = 0:∞, J = 2.5:1.0:3.5, F = 2.0:1.0:3.0, M = -3.0:1.0:3.0)), HundsCaseB_LinearMolecule(0.0, \"X\", 0, 0, 0, 1/2, 1/2, 0, 0, 0, 3, 7/2, 3, 2, (K = 0, N = 0:∞, J = 2.5:1.0:3.5, F = 3.0:1.0:4.0, M = -3.0:1.0:3.0)), HundsCaseB_LinearMolecule(0.0, \"X\", 0, 0, 0, 1/2, 1/2, 0, 0, 0, 3, 7/2, 4, 2, (K = 0, N = 0:∞, J = 2.5:1.0:3.5, F = 3.0:1.0:4.0, M = -4.0:1.0:4.0)), HundsCaseB_LinearMolecule(0.0, \"X\", 0, 0, 0, 1/2, 1/2, 0, 0, 0, 2, 5/2, 3, 3, (K = 0, N = 0:∞, J = 1.5:1.0:2.5, F = 2.0:1.0:3.0, M = -3.0:1.0:3.0)), HundsCaseB_LinearMolecule(0.0, \"X\", 0, 0, 0, 1/2, 1/2, 0, 0, 0, 3, 5/2, 3, 3, (K = 0, N = 0:∞, J = 2.5:1.0:3.5, F = 2.0:1.0:3.0, M = -3.0:1.0:3.0)), HundsCaseB_LinearMolecule(0.0, \"X\", 0, 0, 0, 1/2, 1/2, 0, 0, 0, 3, 7/2, 3, 3, (K = 0, N = 0:∞, J = 2.5:1.0:3.5, F = 3.0:1.0:4.0, M = -3.0:1.0:3.0)), HundsCaseB_LinearMolecule(0.0, \"X\", 0, 0, 0, 1/2, 1/2, 0, 0, 0, 3, 7/2, 4, 3, (K = 0, N = 0:∞, J = 2.5:1.0:3.5, F = 3.0:1.0:4.0, M = -4.0:1.0:4.0)), HundsCaseB_LinearMolecule(0.0, \"X\", 0, 0, 0, 1/2, 1/2, 0, 0, 0, 3, 7/2, 4, 4, (K = 0, N = 0:∞, J = 2.5:1.0:3.5, F = 3.0:1.0:4.0, M = -4.0:1.0:4.0))], ComplexF64[0.0 + 0.0im, 0.0 + 0.0im, 0.0 + 0.0im, 0.0 + 0.0im, 0.0 + 0.0im, 0.0 + 0.0im, 0.0 + 0.0im, 0.0 + 0.0im, 0.0 + 0.0im, 0.0 + 0.0im  …  0.0 + 0.0im, 0.0 + 0.0im, 0.0 + 0.0im, 0.0 + 0.0im, 0.0 + 0.0im, 0.0 + 0.0im, 0.0 + 0.0im, 0.0 + 0.0im, 0.0 + 0.0im, 0.0 + 0.0im], 1)"
      ]
     },
     "execution_count": 8,
     "metadata": {},
     "output_type": "execute_result"
    }
   ],
   "source": [
    "TlF_X_v0.states[1]"
   ]
  },
  {
   "cell_type": "code",
   "execution_count": null,
   "id": "23d11b5b-4f80-44d8-9ee0-e6df94939e9d",
   "metadata": {},
   "outputs": [],
   "source": [
    "\n",
    "TlF_X_v0 = add_to_H(TlF_X_v0"
   ]
  }
 ],
 "metadata": {
  "kernelspec": {
   "display_name": "Julia 1.11.3",
   "language": "julia",
   "name": "julia-1.11"
  },
  "language_info": {
   "file_extension": ".jl",
   "mimetype": "application/julia",
   "name": "julia",
   "version": "1.11.3"
  }
 },
 "nbformat": 4,
 "nbformat_minor": 5
}
